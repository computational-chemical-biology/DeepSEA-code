{
 "cells": [
  {
   "cell_type": "code",
   "execution_count": 1,
   "metadata": {},
   "outputs": [
    {
     "name": "stderr",
     "output_type": "stream",
     "text": [
      "2024-04-10 13:52:11.110671: I tensorflow/core/util/port.cc:113] oneDNN custom operations are on. You may see slightly different numerical results due to floating-point round-off errors from different computation orders. To turn them off, set the environment variable `TF_ENABLE_ONEDNN_OPTS=0`.\n",
      "2024-04-10 13:52:11.133027: E external/local_xla/xla/stream_executor/cuda/cuda_dnn.cc:9261] Unable to register cuDNN factory: Attempting to register factory for plugin cuDNN when one has already been registered\n",
      "2024-04-10 13:52:11.133048: E external/local_xla/xla/stream_executor/cuda/cuda_fft.cc:607] Unable to register cuFFT factory: Attempting to register factory for plugin cuFFT when one has already been registered\n",
      "2024-04-10 13:52:11.133608: E external/local_xla/xla/stream_executor/cuda/cuda_blas.cc:1515] Unable to register cuBLAS factory: Attempting to register factory for plugin cuBLAS when one has already been registered\n",
      "2024-04-10 13:52:11.137401: I tensorflow/core/platform/cpu_feature_guard.cc:182] This TensorFlow binary is optimized to use available CPU instructions in performance-critical operations.\n",
      "To enable the following instructions: AVX2 AVX_VNNI FMA, in other operations, rebuild TensorFlow with the appropriate compiler flags.\n",
      "2024-04-10 13:52:11.614754: W tensorflow/compiler/tf2tensorrt/utils/py_utils.cc:38] TF-TRT Warning: Could not find TensorRT\n"
     ]
    }
   ],
   "source": [
    "import pandas as pd\n",
    "import seaborn as sn\n",
    "import numpy as np\n",
    "import tensorflow as tf\n",
    "import joblib\n",
    "from sklearn.manifold import TSNE\n",
    "import plotly.express as px\n"
   ]
  },
  {
   "cell_type": "code",
   "execution_count": 2,
   "metadata": {},
   "outputs": [],
   "source": [
    "ENCODER =joblib.load(\"../data/NCRD/ncrd95-uniprot-ma_clf_enc.joblib\")\n",
    "EPOCHS = 20\n",
    "CNN_DIM = 70\n",
    "CNNS_DIM = 50\n",
    "GRU_DIM = 60\n",
    "TRAIN = \"../data/NCRD/TrainNcrd95-ma.csv\"\n",
    "TEST = \"../data/NCRD/TestNcrd95-ma.csv\"\n",
    "\n",
    "MODELDIR = \"../../models/Fase5-NCRD\"\n"
   ]
  },
  {
   "cell_type": "code",
   "execution_count": 3,
   "metadata": {},
   "outputs": [
    {
     "name": "stderr",
     "output_type": "stream",
     "text": [
      "2024-04-10 13:52:12.026663: I external/local_xla/xla/stream_executor/cuda/cuda_executor.cc:901] successful NUMA node read from SysFS had negative value (-1), but there must be at least one NUMA node, so returning NUMA node zero. See more at https://github.com/torvalds/linux/blob/v6.0/Documentation/ABI/testing/sysfs-bus-pci#L344-L355\n",
      "2024-04-10 13:52:12.043516: I external/local_xla/xla/stream_executor/cuda/cuda_executor.cc:901] successful NUMA node read from SysFS had negative value (-1), but there must be at least one NUMA node, so returning NUMA node zero. See more at https://github.com/torvalds/linux/blob/v6.0/Documentation/ABI/testing/sysfs-bus-pci#L344-L355\n",
      "2024-04-10 13:52:12.043684: I external/local_xla/xla/stream_executor/cuda/cuda_executor.cc:901] successful NUMA node read from SysFS had negative value (-1), but there must be at least one NUMA node, so returning NUMA node zero. See more at https://github.com/torvalds/linux/blob/v6.0/Documentation/ABI/testing/sysfs-bus-pci#L344-L355\n",
      "2024-04-10 13:52:12.045554: I external/local_xla/xla/stream_executor/cuda/cuda_executor.cc:901] successful NUMA node read from SysFS had negative value (-1), but there must be at least one NUMA node, so returning NUMA node zero. See more at https://github.com/torvalds/linux/blob/v6.0/Documentation/ABI/testing/sysfs-bus-pci#L344-L355\n",
      "2024-04-10 13:52:12.045662: I external/local_xla/xla/stream_executor/cuda/cuda_executor.cc:901] successful NUMA node read from SysFS had negative value (-1), but there must be at least one NUMA node, so returning NUMA node zero. See more at https://github.com/torvalds/linux/blob/v6.0/Documentation/ABI/testing/sysfs-bus-pci#L344-L355\n",
      "2024-04-10 13:52:12.045722: I external/local_xla/xla/stream_executor/cuda/cuda_executor.cc:901] successful NUMA node read from SysFS had negative value (-1), but there must be at least one NUMA node, so returning NUMA node zero. See more at https://github.com/torvalds/linux/blob/v6.0/Documentation/ABI/testing/sysfs-bus-pci#L344-L355\n",
      "2024-04-10 13:52:12.087366: I external/local_xla/xla/stream_executor/cuda/cuda_executor.cc:901] successful NUMA node read from SysFS had negative value (-1), but there must be at least one NUMA node, so returning NUMA node zero. See more at https://github.com/torvalds/linux/blob/v6.0/Documentation/ABI/testing/sysfs-bus-pci#L344-L355\n",
      "2024-04-10 13:52:12.087510: I external/local_xla/xla/stream_executor/cuda/cuda_executor.cc:901] successful NUMA node read from SysFS had negative value (-1), but there must be at least one NUMA node, so returning NUMA node zero. See more at https://github.com/torvalds/linux/blob/v6.0/Documentation/ABI/testing/sysfs-bus-pci#L344-L355\n",
      "2024-04-10 13:52:12.087585: I external/local_xla/xla/stream_executor/cuda/cuda_executor.cc:901] successful NUMA node read from SysFS had negative value (-1), but there must be at least one NUMA node, so returning NUMA node zero. See more at https://github.com/torvalds/linux/blob/v6.0/Documentation/ABI/testing/sysfs-bus-pci#L344-L355\n",
      "2024-04-10 13:52:12.087638: I tensorflow/core/common_runtime/gpu/gpu_device.cc:1929] Created device /job:localhost/replica:0/task:0/device:GPU:0 with 18 MB memory:  -> device: 0, name: NVIDIA RTX A4500, pci bus id: 0000:01:00.0, compute capability: 8.6\n"
     ]
    }
   ],
   "source": [
    "with tf.device(\"cpu\"):\n",
    "    train = pd.read_csv(TRAIN)\n",
    "    train = train[[\"Class\",\"Sequence\"]]\n",
    "    test = pd.read_csv(TEST)\n",
    "    sequences = pd.concat([train,test], axis = 0).Sequence.apply(lambda x: \" \".join(x))\n"
   ]
  },
  {
   "cell_type": "code",
   "execution_count": 4,
   "metadata": {},
   "outputs": [
    {
     "data": {
      "text/plain": [
       "2975"
      ]
     },
     "execution_count": 4,
     "metadata": {},
     "output_type": "execute_result"
    }
   ],
   "source": [
    "MAX_LEN = max(pd.concat([train[train.Class != \"NonR\"],test[test.Class != \"NonR\"]], axis = 0).Sequence.apply(lambda x: len(x)))\n",
    "MAX_LEN"
   ]
  },
  {
   "cell_type": "code",
   "execution_count": 5,
   "metadata": {},
   "outputs": [
    {
     "data": {
      "text/plain": [
       "11"
      ]
     },
     "execution_count": 5,
     "metadata": {},
     "output_type": "execute_result"
    }
   ],
   "source": [
    "len(ENCODER.categories_[0])"
   ]
  },
  {
   "cell_type": "code",
   "execution_count": 6,
   "metadata": {},
   "outputs": [],
   "source": [
    "# test[\"Class_b\"] = np.where(test.Class.to_numpy() == \"NonR\",0,1)"
   ]
  },
  {
   "cell_type": "code",
   "execution_count": 7,
   "metadata": {},
   "outputs": [
    {
     "name": "stderr",
     "output_type": "stream",
     "text": [
      "2024-04-10 13:52:12.338363: I external/local_xla/xla/stream_executor/cuda/cuda_driver.cc:1101] failed to allocate 18.31MiB (19202048 bytes) from device: CUDA_ERROR_OUT_OF_MEMORY: out of memory\n",
      "2024-04-10 13:52:12.338402: I external/local_xla/xla/stream_executor/cuda/cuda_driver.cc:1101] failed to allocate 16.48MiB (17282048 bytes) from device: CUDA_ERROR_OUT_OF_MEMORY: out of memory\n"
     ]
    }
   ],
   "source": [
    "# test[\"Sequence\"] = test.Sequence.apply(lambda x: \" \".join(x))\n",
    "# test.replace(\"-\",\"Non antibiotic\", inplace=True)\n",
    "\n",
    "\n",
    "\n",
    "test[\"Sequence\"] = test.Sequence.apply(lambda x: \" \".join(x))\n",
    "X_test = tf.convert_to_tensor(test.Sequence.to_list())\n",
    "y_test = test.Class.to_numpy().reshape(-1,1)"
   ]
  },
  {
   "cell_type": "code",
   "execution_count": 8,
   "metadata": {},
   "outputs": [],
   "source": [
    "grur = tf.keras.models.Sequential()        \n",
    "grur.add(tf.keras.layers.TextVectorization(max_tokens = 21 + 2, output_mode = \"int\", standardize = None, output_sequence_length = MAX_LEN))\n",
    "grur.add(tf.keras.layers.Embedding(input_dim = 21 + 2, output_dim = GRU_DIM, input_length = MAX_LEN, mask_zero = True))\n",
    "grur.add(tf.keras.layers.GRU(512,return_sequences=True))\n",
    "grur.add(tf.keras.layers.GRU(512,return_sequences=True))\n",
    "grur.add(tf.keras.layers.GlobalAveragePooling1D())\n",
    "grur.layers[0].adapt(sequences)"
   ]
  },
  {
   "cell_type": "code",
   "execution_count": 9,
   "metadata": {},
   "outputs": [],
   "source": [
    "cnnr = tf.keras.models.Sequential()        \n",
    "cnnr.add(tf.keras.layers.TextVectorization(max_tokens = 21 + 2, output_mode = \"int\", standardize = None, output_sequence_length = MAX_LEN))\n",
    "cnnr.add(tf.keras.layers.Embedding(input_dim = 21 + 2, output_dim = CNN_DIM, input_length = MAX_LEN, mask_zero = True))\n",
    "cnnr.add(tf.keras.layers.Conv1D(filters = 512,   kernel_size = 5, activation = \"relu\"))\n",
    "cnnr.add(tf.keras.layers.Conv1D(filters = 512/2, kernel_size = 5, activation = \"relu\"))\n",
    "cnnr.add(tf.keras.layers.Conv1D(filters = 512/4, kernel_size = 5, activation = \"relu\"))\n",
    "cnnr.add(tf.keras.layers.Conv1D(filters = 512/8, kernel_size = 5, activation = \"relu\"))\n",
    "cnnr.add(tf.keras.layers.GlobalAveragePooling1D())\n",
    "cnnr.layers[0].adapt(sequences)"
   ]
  },
  {
   "cell_type": "code",
   "execution_count": 10,
   "metadata": {},
   "outputs": [],
   "source": [
    "cnnsr = tf.keras.models.Sequential()        \n",
    "cnnsr.add(tf.keras.layers.TextVectorization(max_tokens = 21 + 2, output_mode = \"int\", standardize = None, output_sequence_length = MAX_LEN))\n",
    "cnnsr.add(tf.keras.layers.Embedding(input_dim = 21 + 2, output_dim = GRU_DIM, input_length = MAX_LEN, mask_zero = True))\n",
    "cnnsr.add(tf.keras.layers.Conv1D(filters = 512,   kernel_size = 5, activation = \"relu\"))\n",
    "cnnsr.add(tf.keras.layers.Conv1D(filters = 512, kernel_size = 5, activation = \"relu\"))\n",
    "cnnsr.add(tf.keras.layers.Conv1D(filters = 512, kernel_size = 5, activation = \"relu\"))\n",
    "cnnsr.add(tf.keras.layers.Conv1D(filters = 512, kernel_size = 5, activation = \"relu\"))\n",
    "cnnsr.add(tf.keras.layers.GlobalAveragePooling1D())\n",
    "cnnsr.layers[0].adapt(sequences)"
   ]
  },
  {
   "cell_type": "code",
   "execution_count": 11,
   "metadata": {},
   "outputs": [],
   "source": [
    "def model_apply(model,x):\n",
    "    model.pop()\n",
    "    maxpolling = model.predict(x)\n",
    "    return maxpolling"
   ]
  },
  {
   "cell_type": "code",
   "execution_count": 12,
   "metadata": {},
   "outputs": [
    {
     "ename": "",
     "evalue": "",
     "output_type": "error",
     "traceback": [
      "\u001b[1;31mThe Kernel crashed while executing code in the current cell or a previous cell. \n",
      "\u001b[1;31mPlease review the code in the cell(s) to identify a possible cause of the failure. \n",
      "\u001b[1;31mClick <a href='https://aka.ms/vscodeJupyterKernelCrash'>here</a> for more info. \n",
      "\u001b[1;31mView Jupyter <a href='command:jupyter.viewOutput'>log</a> for further details."
     ]
    }
   ],
   "source": [
    "tf.keras.backend.clear_session()\n",
    "cnn = tf.keras.models.load_model(f\"{MODELDIR}/cnn\")\n",
    "cnn_emb_fitted = model_apply(cnn,X_test)\n",
    "\n",
    "tf.keras.backend.clear_session()\n",
    "cnn_emb_random = cnnr.predict(X_test)"
   ]
  },
  {
   "cell_type": "code",
   "execution_count": null,
   "metadata": {},
   "outputs": [
    {
     "name": "stderr",
     "output_type": "stream",
     "text": [
      "2024-04-10 13:50:40.006894: W external/local_tsl/tsl/framework/bfc_allocator.cc:296] Allocator (GPU_0_bfc) ran out of memory trying to allocate 714.62MiB with freed_by_count=0. The caller indicates that this is not a failure, but this may mean that there could be performance gains if more memory were available.\n",
      "2024-04-10 13:50:40.330773: W external/local_tsl/tsl/framework/bfc_allocator.cc:296] Allocator (GPU_0_bfc) ran out of memory trying to allocate 714.62MiB with freed_by_count=0. The caller indicates that this is not a failure, but this may mean that there could be performance gains if more memory were available.\n",
      "2024-04-10 13:50:40.672086: W external/local_tsl/tsl/framework/bfc_allocator.cc:296] Allocator (GPU_0_bfc) ran out of memory trying to allocate 714.12MiB with freed_by_count=0. The caller indicates that this is not a failure, but this may mean that there could be performance gains if more memory were available.\n",
      "2024-04-10 13:50:41.006944: W external/local_tsl/tsl/framework/bfc_allocator.cc:296] Allocator (GPU_0_bfc) ran out of memory trying to allocate 714.12MiB with freed_by_count=0. The caller indicates that this is not a failure, but this may mean that there could be performance gains if more memory were available.\n",
      "2024-04-10 13:50:41.349370: W external/local_tsl/tsl/framework/bfc_allocator.cc:296] Allocator (GPU_0_bfc) ran out of memory trying to allocate 713.62MiB with freed_by_count=0. The caller indicates that this is not a failure, but this may mean that there could be performance gains if more memory were available.\n"
     ]
    },
    {
     "name": "stdout",
     "output_type": "stream",
     "text": [
      "  8/288 [..............................] - ETA: 7s"
     ]
    },
    {
     "name": "stderr",
     "output_type": "stream",
     "text": [
      "2024-04-10 13:50:41.681019: W external/local_tsl/tsl/framework/bfc_allocator.cc:296] Allocator (GPU_0_bfc) ran out of memory trying to allocate 713.62MiB with freed_by_count=0. The caller indicates that this is not a failure, but this may mean that there could be performance gains if more memory were available.\n"
     ]
    },
    {
     "name": "stdout",
     "output_type": "stream",
     "text": [
      "288/288 [==============================] - 11s 30ms/step\n",
      "288/288 [==============================] - 9s 29ms/step\n"
     ]
    }
   ],
   "source": [
    "tf.keras.backend.clear_session()\n",
    "cnns = tf.keras.models.load_model(f\"{MODELDIR}/cnn-same\")\n",
    "cnns_emb_fitted = model_apply(cnns,X_test)\n",
    "\n",
    "tf.keras.backend.clear_session()\n",
    "cnns_emb_random = cnnsr.predict(X_test)"
   ]
  },
  {
   "cell_type": "code",
   "execution_count": null,
   "metadata": {},
   "outputs": [
    {
     "name": "stderr",
     "output_type": "stream",
     "text": [
      "2024-04-10 13:50:59.817512: W tensorflow/core/common_runtime/graph_constructor.cc:840] Node 'cond/while' has 13 outputs but the _output_shapes attribute specifies shapes for 40 outputs. Output shapes may be inaccurate.\n",
      "2024-04-10 13:50:59.908210: W tensorflow/core/common_runtime/graph_constructor.cc:840] Node 'cond/while' has 13 outputs but the _output_shapes attribute specifies shapes for 40 outputs. Output shapes may be inaccurate.\n",
      "2024-04-10 13:50:59.979309: W tensorflow/core/common_runtime/graph_constructor.cc:840] Node 'cond/while' has 13 outputs but the _output_shapes attribute specifies shapes for 40 outputs. Output shapes may be inaccurate.\n",
      "2024-04-10 13:50:59.983366: W tensorflow/core/common_runtime/graph_constructor.cc:840] Node 'cond' has 4 outputs but the _output_shapes attribute specifies shapes for 40 outputs. Output shapes may be inaccurate.\n",
      "2024-04-10 13:51:00.008772: W tensorflow/core/common_runtime/graph_constructor.cc:840] Node 'cond/while' has 13 outputs but the _output_shapes attribute specifies shapes for 40 outputs. Output shapes may be inaccurate.\n",
      "2024-04-10 13:51:00.090364: W tensorflow/core/common_runtime/graph_constructor.cc:840] Node 'cond/while' has 13 outputs but the _output_shapes attribute specifies shapes for 40 outputs. Output shapes may be inaccurate.\n",
      "2024-04-10 13:51:00.094661: W tensorflow/core/common_runtime/graph_constructor.cc:840] Node 'cond' has 4 outputs but the _output_shapes attribute specifies shapes for 40 outputs. Output shapes may be inaccurate.\n",
      "2024-04-10 13:51:00.260547: W tensorflow/core/common_runtime/graph_constructor.cc:840] Node 'cond/while' has 13 outputs but the _output_shapes attribute specifies shapes for 40 outputs. Output shapes may be inaccurate.\n",
      "2024-04-10 13:51:00.264749: W tensorflow/core/common_runtime/graph_constructor.cc:840] Node 'cond' has 4 outputs but the _output_shapes attribute specifies shapes for 40 outputs. Output shapes may be inaccurate.\n",
      "2024-04-10 13:51:00.356680: W tensorflow/core/common_runtime/graph_constructor.cc:840] Node 'cond/while' has 13 outputs but the _output_shapes attribute specifies shapes for 40 outputs. Output shapes may be inaccurate.\n",
      "2024-04-10 13:51:00.411118: W tensorflow/core/common_runtime/graph_constructor.cc:840] Node 'cond' has 4 outputs but the _output_shapes attribute specifies shapes for 40 outputs. Output shapes may be inaccurate.\n",
      "2024-04-10 13:51:00.504262: W tensorflow/core/common_runtime/graph_constructor.cc:840] Node 'cond' has 4 outputs but the _output_shapes attribute specifies shapes for 40 outputs. Output shapes may be inaccurate.\n",
      "2024-04-10 13:51:00.528539: W tensorflow/core/common_runtime/graph_constructor.cc:840] Node 'cond' has 4 outputs but the _output_shapes attribute specifies shapes for 40 outputs. Output shapes may be inaccurate.\n",
      "2024-04-10 13:51:00.569276: W tensorflow/core/common_runtime/graph_constructor.cc:840] Node 'cond' has 4 outputs but the _output_shapes attribute specifies shapes for 40 outputs. Output shapes may be inaccurate.\n",
      "2024-04-10 13:51:00.646414: W tensorflow/core/common_runtime/graph_constructor.cc:840] Node 'cond/while' has 13 outputs but the _output_shapes attribute specifies shapes for 40 outputs. Output shapes may be inaccurate.\n",
      "2024-04-10 13:51:00.650443: W tensorflow/core/common_runtime/graph_constructor.cc:840] Node 'cond' has 4 outputs but the _output_shapes attribute specifies shapes for 40 outputs. Output shapes may be inaccurate.\n",
      "2024-04-10 13:51:00.859285: W tensorflow/core/common_runtime/graph_constructor.cc:840] Node 'cond/while' has 13 outputs but the _output_shapes attribute specifies shapes for 40 outputs. Output shapes may be inaccurate.\n",
      "2024-04-10 13:51:00.863644: W tensorflow/core/common_runtime/graph_constructor.cc:840] Node 'cond' has 4 outputs but the _output_shapes attribute specifies shapes for 40 outputs. Output shapes may be inaccurate.\n",
      "2024-04-10 13:51:00.870150: W tensorflow/core/common_runtime/graph_constructor.cc:840] Node 'cond/while' has 13 outputs but the _output_shapes attribute specifies shapes for 40 outputs. Output shapes may be inaccurate.\n",
      "2024-04-10 13:51:00.874098: W tensorflow/core/common_runtime/graph_constructor.cc:840] Node 'cond' has 4 outputs but the _output_shapes attribute specifies shapes for 40 outputs. Output shapes may be inaccurate.\n",
      "2024-04-10 13:51:12.899045: W external/local_tsl/tsl/framework/bfc_allocator.cc:485] Allocator (GPU_0_bfc) ran out of memory trying to allocate 792.38MiB (rounded to 830870016)requested by op cond/then/_0/cond/CudnnRNNV3\n",
      "If the cause is memory fragmentation maybe the environment variable 'TF_GPU_ALLOCATOR=cuda_malloc_async' will improve the situation. \n",
      "Current allocation summary follows.\n",
      "Current allocation summary follows.\n",
      "2024-04-10 13:51:12.899124: I external/local_tsl/tsl/framework/bfc_allocator.cc:1039] BFCAllocator dump for GPU_0_bfc\n",
      "2024-04-10 13:51:12.899147: I external/local_tsl/tsl/framework/bfc_allocator.cc:1046] Bin (256): \tTotal Chunks: 96, Chunks in use: 96. 24.0KiB allocated for chunks. 24.0KiB in use in bin. 2.2KiB client-requested in use in bin.\n",
      "2024-04-10 13:51:12.899160: I external/local_tsl/tsl/framework/bfc_allocator.cc:1046] Bin (512): \tTotal Chunks: 2, Chunks in use: 2. 1.0KiB allocated for chunks. 1.0KiB in use in bin. 1.0KiB client-requested in use in bin.\n",
      "2024-04-10 13:51:12.899172: I external/local_tsl/tsl/framework/bfc_allocator.cc:1046] Bin (1024): \tTotal Chunks: 3, Chunks in use: 3. 3.2KiB allocated for chunks. 3.2KiB in use in bin. 3.0KiB client-requested in use in bin.\n",
      "2024-04-10 13:51:12.899185: I external/local_tsl/tsl/framework/bfc_allocator.cc:1046] Bin (2048): \tTotal Chunks: 11, Chunks in use: 11. 24.5KiB allocated for chunks. 24.5KiB in use in bin. 22.5KiB client-requested in use in bin.\n",
      "2024-04-10 13:51:12.899198: I external/local_tsl/tsl/framework/bfc_allocator.cc:1046] Bin (4096): \tTotal Chunks: 5, Chunks in use: 4. 29.5KiB allocated for chunks. 22.0KiB in use in bin. 21.6KiB client-requested in use in bin.\n",
      "2024-04-10 13:51:12.899211: I external/local_tsl/tsl/framework/bfc_allocator.cc:1046] Bin (8192): \tTotal Chunks: 4, Chunks in use: 3. 47.2KiB allocated for chunks. 35.2KiB in use in bin. 30.3KiB client-requested in use in bin.\n",
      "2024-04-10 13:51:12.899223: I external/local_tsl/tsl/framework/bfc_allocator.cc:1046] Bin (16384): \tTotal Chunks: 2, Chunks in use: 1. 40.0KiB allocated for chunks. 20.0KiB in use in bin. 20.0KiB client-requested in use in bin.\n",
      "2024-04-10 13:51:12.899235: I external/local_tsl/tsl/framework/bfc_allocator.cc:1046] Bin (32768): \tTotal Chunks: 1, Chunks in use: 1. 35.2KiB allocated for chunks. 35.2KiB in use in bin. 20.0KiB client-requested in use in bin.\n",
      "2024-04-10 13:51:12.899249: I external/local_tsl/tsl/framework/bfc_allocator.cc:1046] Bin (65536): \tTotal Chunks: 3, Chunks in use: 3. 241.0KiB allocated for chunks. 241.0KiB in use in bin. 221.0KiB client-requested in use in bin.\n",
      "2024-04-10 13:51:12.899262: I external/local_tsl/tsl/framework/bfc_allocator.cc:1046] Bin (131072): \tTotal Chunks: 2, Chunks in use: 1. 387.0KiB allocated for chunks. 160.0KiB in use in bin. 160.0KiB client-requested in use in bin.\n",
      "2024-04-10 13:51:12.899275: I external/local_tsl/tsl/framework/bfc_allocator.cc:1046] Bin (262144): \tTotal Chunks: 4, Chunks in use: 3. 1.50MiB allocated for chunks. 1.14MiB in use in bin. 1020.0KiB client-requested in use in bin.\n",
      "2024-04-10 13:51:12.899286: I external/local_tsl/tsl/framework/bfc_allocator.cc:1046] Bin (524288): \tTotal Chunks: 7, Chunks in use: 6. 4.80MiB allocated for chunks. 4.18MiB in use in bin. 3.57MiB client-requested in use in bin.\n",
      "2024-04-10 13:51:12.899299: I external/local_tsl/tsl/framework/bfc_allocator.cc:1046] Bin (1048576): \tTotal Chunks: 0, Chunks in use: 0. 0B allocated for chunks. 0B in use in bin. 0B client-requested in use in bin.\n",
      "2024-04-10 13:51:12.899313: I external/local_tsl/tsl/framework/bfc_allocator.cc:1046] Bin (2097152): \tTotal Chunks: 6, Chunks in use: 4. 17.14MiB allocated for chunks. 11.50MiB in use in bin. 11.50MiB client-requested in use in bin.\n",
      "2024-04-10 13:51:12.899326: I external/local_tsl/tsl/framework/bfc_allocator.cc:1046] Bin (4194304): \tTotal Chunks: 9, Chunks in use: 8. 44.39MiB allocated for chunks. 40.39MiB in use in bin. 38.51MiB client-requested in use in bin.\n",
      "2024-04-10 13:51:12.899337: I external/local_tsl/tsl/framework/bfc_allocator.cc:1046] Bin (8388608): \tTotal Chunks: 1, Chunks in use: 0. 8.99MiB allocated for chunks. 0B in use in bin. 0B client-requested in use in bin.\n",
      "2024-04-10 13:51:12.899360: I external/local_tsl/tsl/framework/bfc_allocator.cc:1046] Bin (16777216): \tTotal Chunks: 1, Chunks in use: 0. 21.79MiB allocated for chunks. 0B in use in bin. 0B client-requested in use in bin.\n",
      "2024-04-10 13:51:12.899370: I external/local_tsl/tsl/framework/bfc_allocator.cc:1046] Bin (33554432): \tTotal Chunks: 0, Chunks in use: 0. 0B allocated for chunks. 0B in use in bin. 0B client-requested in use in bin.\n",
      "2024-04-10 13:51:12.899380: I external/local_tsl/tsl/framework/bfc_allocator.cc:1046] Bin (67108864): \tTotal Chunks: 0, Chunks in use: 0. 0B allocated for chunks. 0B in use in bin. 0B client-requested in use in bin.\n",
      "2024-04-10 13:51:12.899394: I external/local_tsl/tsl/framework/bfc_allocator.cc:1046] Bin (134217728): \tTotal Chunks: 2, Chunks in use: 2. 371.88MiB allocated for chunks. 371.88MiB in use in bin. 371.88MiB client-requested in use in bin.\n",
      "2024-04-10 13:51:12.899405: I external/local_tsl/tsl/framework/bfc_allocator.cc:1046] Bin (268435456): \tTotal Chunks: 1, Chunks in use: 0. 632.46MiB allocated for chunks. 0B in use in bin. 0B client-requested in use in bin.\n",
      "2024-04-10 13:51:12.899423: I external/local_tsl/tsl/framework/bfc_allocator.cc:1062] Bin for 792.38MiB was 256.00MiB, Chunk State: \n",
      "2024-04-10 13:51:12.899452: I external/local_tsl/tsl/framework/bfc_allocator.cc:1068]   Size: 632.46MiB | Requested Size: 2.0KiB | in_use: 0 | bin_num: 20, prev:   Size: 185.94MiB | Requested Size: 185.94MiB | in_use: 1 | bin_num: -1\n",
      "2024-04-10 13:51:12.899464: I external/local_tsl/tsl/framework/bfc_allocator.cc:1075] Next region of size 1157365760\n",
      "2024-04-10 13:51:12.899482: I external/local_tsl/tsl/framework/bfc_allocator.cc:1095] InUse at 7f5bbe000000 of size 1280 next 1\n",
      "2024-04-10 13:51:12.899496: I external/local_tsl/tsl/framework/bfc_allocator.cc:1095] InUse at 7f5bbe000500 of size 256 next 2\n",
      "2024-04-10 13:51:12.899509: I external/local_tsl/tsl/framework/bfc_allocator.cc:1095] InUse at 7f5bbe000600 of size 256 next 3\n",
      "2024-04-10 13:51:12.899521: I external/local_tsl/tsl/framework/bfc_allocator.cc:1095] InUse at 7f5bbe000700 of size 256 next 4\n",
      "2024-04-10 13:51:12.899532: I external/local_tsl/tsl/framework/bfc_allocator.cc:1095] InUse at 7f5bbe000800 of size 256 next 5\n",
      "2024-04-10 13:51:12.899543: I external/local_tsl/tsl/framework/bfc_allocator.cc:1095] InUse at 7f5bbe000900 of size 256 next 6\n",
      "2024-04-10 13:51:12.899556: I external/local_tsl/tsl/framework/bfc_allocator.cc:1095] InUse at 7f5bbe000a00 of size 256 next 7\n",
      "2024-04-10 13:51:12.899568: I external/local_tsl/tsl/framework/bfc_allocator.cc:1095] InUse at 7f5bbe000b00 of size 256 next 8\n",
      "2024-04-10 13:51:12.899580: I external/local_tsl/tsl/framework/bfc_allocator.cc:1095] InUse at 7f5bbe000c00 of size 256 next 9\n",
      "2024-04-10 13:51:12.899592: I external/local_tsl/tsl/framework/bfc_allocator.cc:1095] InUse at 7f5bbe000d00 of size 256 next 10\n",
      "2024-04-10 13:51:12.899605: I external/local_tsl/tsl/framework/bfc_allocator.cc:1095] InUse at 7f5bbe000e00 of size 256 next 12\n",
      "2024-04-10 13:51:12.899617: I external/local_tsl/tsl/framework/bfc_allocator.cc:1095] InUse at 7f5bbe000f00 of size 256 next 13\n",
      "2024-04-10 13:51:12.899630: I external/local_tsl/tsl/framework/bfc_allocator.cc:1095] InUse at 7f5bbe001000 of size 256 next 17\n",
      "2024-04-10 13:51:12.899644: I external/local_tsl/tsl/framework/bfc_allocator.cc:1095] InUse at 7f5bbe001100 of size 1024 next 47\n",
      "2024-04-10 13:51:12.899657: I external/local_tsl/tsl/framework/bfc_allocator.cc:1095] InUse at 7f5bbe001500 of size 512 next 24\n",
      "2024-04-10 13:51:12.899669: I external/local_tsl/tsl/framework/bfc_allocator.cc:1095] InUse at 7f5bbe001700 of size 256 next 57\n",
      "2024-04-10 13:51:12.899681: I external/local_tsl/tsl/framework/bfc_allocator.cc:1095] InUse at 7f5bbe001800 of size 256 next 11\n",
      "2024-04-10 13:51:12.899692: I external/local_tsl/tsl/framework/bfc_allocator.cc:1095] InUse at 7f5bbe001900 of size 256 next 14\n",
      "2024-04-10 13:51:12.899706: I external/local_tsl/tsl/framework/bfc_allocator.cc:1095] InUse at 7f5bbe001a00 of size 256 next 20\n",
      "2024-04-10 13:51:12.899720: I external/local_tsl/tsl/framework/bfc_allocator.cc:1095] InUse at 7f5bbe001b00 of size 1024 next 23\n",
      "2024-04-10 13:51:12.899732: I external/local_tsl/tsl/framework/bfc_allocator.cc:1095] InUse at 7f5bbe001f00 of size 256 next 21\n",
      "2024-04-10 13:51:12.899744: I external/local_tsl/tsl/framework/bfc_allocator.cc:1095] InUse at 7f5bbe002000 of size 256 next 22\n",
      "2024-04-10 13:51:12.899756: I external/local_tsl/tsl/framework/bfc_allocator.cc:1095] InUse at 7f5bbe002100 of size 256 next 56\n",
      "2024-04-10 13:51:12.899768: I external/local_tsl/tsl/framework/bfc_allocator.cc:1095] InUse at 7f5bbe002200 of size 256 next 28\n",
      "2024-04-10 13:51:12.899780: I external/local_tsl/tsl/framework/bfc_allocator.cc:1095] InUse at 7f5bbe002300 of size 256 next 26\n",
      "2024-04-10 13:51:12.899793: I external/local_tsl/tsl/framework/bfc_allocator.cc:1095] InUse at 7f5bbe002400 of size 256 next 27\n",
      "2024-04-10 13:51:12.899805: I external/local_tsl/tsl/framework/bfc_allocator.cc:1095] InUse at 7f5bbe002500 of size 256 next 32\n",
      "2024-04-10 13:51:12.899818: I external/local_tsl/tsl/framework/bfc_allocator.cc:1095] InUse at 7f5bbe002600 of size 256 next 30\n",
      "2024-04-10 13:51:12.899831: I external/local_tsl/tsl/framework/bfc_allocator.cc:1095] InUse at 7f5bbe002700 of size 256 next 31\n",
      "2024-04-10 13:51:12.899844: I external/local_tsl/tsl/framework/bfc_allocator.cc:1095] InUse at 7f5bbe002800 of size 256 next 36\n",
      "2024-04-10 13:51:12.899856: I external/local_tsl/tsl/framework/bfc_allocator.cc:1095] InUse at 7f5bbe002900 of size 256 next 37\n",
      "2024-04-10 13:51:12.899870: I external/local_tsl/tsl/framework/bfc_allocator.cc:1095] InUse at 7f5bbe002a00 of size 256 next 35\n",
      "2024-04-10 13:51:12.899882: I external/local_tsl/tsl/framework/bfc_allocator.cc:1095] InUse at 7f5bbe002b00 of size 256 next 38\n",
      "2024-04-10 13:51:12.899895: I external/local_tsl/tsl/framework/bfc_allocator.cc:1095] InUse at 7f5bbe002c00 of size 256 next 40\n",
      "2024-04-10 13:51:12.899907: I external/local_tsl/tsl/framework/bfc_allocator.cc:1095] InUse at 7f5bbe002d00 of size 256 next 41\n",
      "2024-04-10 13:51:12.899920: I external/local_tsl/tsl/framework/bfc_allocator.cc:1095] InUse at 7f5bbe002e00 of size 256 next 42\n",
      "2024-04-10 13:51:12.899932: I external/local_tsl/tsl/framework/bfc_allocator.cc:1095] InUse at 7f5bbe002f00 of size 256 next 43\n",
      "2024-04-10 13:51:12.899945: I external/local_tsl/tsl/framework/bfc_allocator.cc:1095] InUse at 7f5bbe003000 of size 256 next 44\n",
      "2024-04-10 13:51:12.899958: I external/local_tsl/tsl/framework/bfc_allocator.cc:1095] InUse at 7f5bbe003100 of size 256 next 45\n",
      "2024-04-10 13:51:12.899971: I external/local_tsl/tsl/framework/bfc_allocator.cc:1095] InUse at 7f5bbe003200 of size 2048 next 15\n",
      "2024-04-10 13:51:12.899985: I external/local_tsl/tsl/framework/bfc_allocator.cc:1095] InUse at 7f5bbe003a00 of size 2560 next 48\n",
      "2024-04-10 13:51:12.899997: I external/local_tsl/tsl/framework/bfc_allocator.cc:1095] InUse at 7f5bbe004400 of size 256 next 345\n",
      "2024-04-10 13:51:12.900009: I external/local_tsl/tsl/framework/bfc_allocator.cc:1095] InUse at 7f5bbe004500 of size 256 next 60\n",
      "2024-04-10 13:51:12.900021: I external/local_tsl/tsl/framework/bfc_allocator.cc:1095] InUse at 7f5bbe004600 of size 2048 next 71\n",
      "2024-04-10 13:51:12.900033: I external/local_tsl/tsl/framework/bfc_allocator.cc:1095] InUse at 7f5bbe004e00 of size 2048 next 76\n",
      "2024-04-10 13:51:12.900045: I external/local_tsl/tsl/framework/bfc_allocator.cc:1095] InUse at 7f5bbe005600 of size 256 next 98\n",
      "2024-04-10 13:51:12.900058: I external/local_tsl/tsl/framework/bfc_allocator.cc:1095] InUse at 7f5bbe005700 of size 256 next 96\n",
      "2024-04-10 13:51:12.900072: I external/local_tsl/tsl/framework/bfc_allocator.cc:1095] InUse at 7f5bbe005800 of size 256 next 101\n",
      "2024-04-10 13:51:12.900086: I external/local_tsl/tsl/framework/bfc_allocator.cc:1095] InUse at 7f5bbe005900 of size 256 next 111\n",
      "2024-04-10 13:51:12.900117: I external/local_tsl/tsl/framework/bfc_allocator.cc:1095] InUse at 7f5bbe005a00 of size 256 next 108\n",
      "2024-04-10 13:51:12.900132: I external/local_tsl/tsl/framework/bfc_allocator.cc:1095] InUse at 7f5bbe005b00 of size 256 next 359\n",
      "2024-04-10 13:51:12.900145: I external/local_tsl/tsl/framework/bfc_allocator.cc:1095] InUse at 7f5bbe005c00 of size 256 next 379\n",
      "2024-04-10 13:51:12.900160: I external/local_tsl/tsl/framework/bfc_allocator.cc:1095] InUse at 7f5bbe005d00 of size 256 next 74\n",
      "2024-04-10 13:51:12.900173: I external/local_tsl/tsl/framework/bfc_allocator.cc:1095] InUse at 7f5bbe005e00 of size 256 next 16\n",
      "2024-04-10 13:51:12.900187: I external/local_tsl/tsl/framework/bfc_allocator.cc:1095] InUse at 7f5bbe005f00 of size 256 next 70\n",
      "2024-04-10 13:51:12.900202: I external/local_tsl/tsl/framework/bfc_allocator.cc:1095] InUse at 7f5bbe006000 of size 256 next 77\n",
      "2024-04-10 13:51:12.900215: I external/local_tsl/tsl/framework/bfc_allocator.cc:1095] InUse at 7f5bbe006100 of size 256 next 80\n",
      "2024-04-10 13:51:12.900230: I external/local_tsl/tsl/framework/bfc_allocator.cc:1095] InUse at 7f5bbe006200 of size 256 next 49\n",
      "2024-04-10 13:51:12.900244: I external/local_tsl/tsl/framework/bfc_allocator.cc:1095] InUse at 7f5bbe006300 of size 256 next 83\n",
      "2024-04-10 13:51:12.900258: I external/local_tsl/tsl/framework/bfc_allocator.cc:1095] InUse at 7f5bbe006400 of size 256 next 86\n",
      "2024-04-10 13:51:12.900271: I external/local_tsl/tsl/framework/bfc_allocator.cc:1095] InUse at 7f5bbe006500 of size 256 next 84\n",
      "2024-04-10 13:51:12.900285: I external/local_tsl/tsl/framework/bfc_allocator.cc:1095] InUse at 7f5bbe006600 of size 256 next 89\n",
      "2024-04-10 13:51:12.900298: I external/local_tsl/tsl/framework/bfc_allocator.cc:1095] InUse at 7f5bbe006700 of size 256 next 79\n",
      "2024-04-10 13:51:12.900312: I external/local_tsl/tsl/framework/bfc_allocator.cc:1095] InUse at 7f5bbe006800 of size 256 next 39\n",
      "2024-04-10 13:51:12.900325: I external/local_tsl/tsl/framework/bfc_allocator.cc:1095] InUse at 7f5bbe006900 of size 6656 next 46\n",
      "2024-04-10 13:51:12.900342: I external/local_tsl/tsl/framework/bfc_allocator.cc:1095] InUse at 7f5bbe008300 of size 318464 next 34\n",
      "2024-04-10 13:51:12.900356: I external/local_tsl/tsl/framework/bfc_allocator.cc:1095] InUse at 7f5bbe055f00 of size 2048 next 339\n",
      "2024-04-10 13:51:12.900371: I external/local_tsl/tsl/framework/bfc_allocator.cc:1095] InUse at 7f5bbe056700 of size 512 next 53\n",
      "2024-04-10 13:51:12.900385: I external/local_tsl/tsl/framework/bfc_allocator.cc:1095] InUse at 7f5bbe056900 of size 256 next 55\n",
      "2024-04-10 13:51:12.900399: I external/local_tsl/tsl/framework/bfc_allocator.cc:1095] InUse at 7f5bbe056a00 of size 256 next 347\n",
      "2024-04-10 13:51:12.900414: I external/local_tsl/tsl/framework/bfc_allocator.cc:1095] InUse at 7f5bbe056b00 of size 3584 next 336\n",
      "2024-04-10 13:51:12.900428: I external/local_tsl/tsl/framework/bfc_allocator.cc:1095] InUse at 7f5bbe057900 of size 11520 next 65\n",
      "2024-04-10 13:51:12.900444: I external/local_tsl/tsl/framework/bfc_allocator.cc:1095] InUse at 7f5bbe05a600 of size 256 next 66\n",
      "2024-04-10 13:51:12.900458: I external/local_tsl/tsl/framework/bfc_allocator.cc:1095] InUse at 7f5bbe05a700 of size 256 next 67\n",
      "2024-04-10 13:51:12.900470: I external/local_tsl/tsl/framework/bfc_allocator.cc:1095] InUse at 7f5bbe05a800 of size 256 next 68\n",
      "2024-04-10 13:51:12.900482: I external/local_tsl/tsl/framework/bfc_allocator.cc:1095] InUse at 7f5bbe05a900 of size 2048 next 94\n",
      "2024-04-10 13:51:12.900494: I external/local_tsl/tsl/framework/bfc_allocator.cc:1095] InUse at 7f5bbe05b100 of size 2560 next 59\n",
      "2024-04-10 13:51:12.900506: I external/local_tsl/tsl/framework/bfc_allocator.cc:1095] InUse at 7f5bbe05bb00 of size 256 next 85\n",
      "2024-04-10 13:51:12.900518: I external/local_tsl/tsl/framework/bfc_allocator.cc:1095] InUse at 7f5bbe05bc00 of size 4608 next 81\n",
      "2024-04-10 13:51:12.900531: I external/local_tsl/tsl/framework/bfc_allocator.cc:1095] InUse at 7f5bbe05ce00 of size 36096 next 82\n",
      "2024-04-10 13:51:12.900544: I external/local_tsl/tsl/framework/bfc_allocator.cc:1095] InUse at 7f5bbe065b00 of size 2048 next 87\n",
      "2024-04-10 13:51:12.900559: I external/local_tsl/tsl/framework/bfc_allocator.cc:1095] InUse at 7f5bbe066300 of size 2048 next 62\n",
      "2024-04-10 13:51:12.900575: I external/local_tsl/tsl/framework/bfc_allocator.cc:1095] InUse at 7f5bbe066b00 of size 2048 next 97\n",
      "2024-04-10 13:51:12.900590: I external/local_tsl/tsl/framework/bfc_allocator.cc:1095] InUse at 7f5bbe067300 of size 256 next 390\n",
      "2024-04-10 13:51:12.900605: I external/local_tsl/tsl/framework/bfc_allocator.cc:1095] InUse at 7f5bbe067400 of size 256 next 387\n",
      "2024-04-10 13:51:12.900619: I external/local_tsl/tsl/framework/bfc_allocator.cc:1095] InUse at 7f5bbe067500 of size 256 next 73\n",
      "2024-04-10 13:51:12.900634: I external/local_tsl/tsl/framework/bfc_allocator.cc:1095] InUse at 7f5bbe067600 of size 256 next 88\n",
      "2024-04-10 13:51:12.900648: I external/local_tsl/tsl/framework/bfc_allocator.cc:1095] InUse at 7f5bbe067700 of size 256 next 107\n",
      "2024-04-10 13:51:12.900662: I external/local_tsl/tsl/framework/bfc_allocator.cc:1095] InUse at 7f5bbe067800 of size 256 next 120\n",
      "2024-04-10 13:51:12.900676: I external/local_tsl/tsl/framework/bfc_allocator.cc:1095] InUse at 7f5bbe067900 of size 256 next 116\n",
      "2024-04-10 13:51:12.900690: I external/local_tsl/tsl/framework/bfc_allocator.cc:1095] InUse at 7f5bbe067a00 of size 256 next 106\n",
      "2024-04-10 13:51:12.900702: I external/local_tsl/tsl/framework/bfc_allocator.cc:1095] InUse at 7f5bbe067b00 of size 256 next 119\n",
      "2024-04-10 13:51:12.900714: I external/local_tsl/tsl/framework/bfc_allocator.cc:1095] InUse at 7f5bbe067c00 of size 256 next 118\n",
      "2024-04-10 13:51:12.900726: I external/local_tsl/tsl/framework/bfc_allocator.cc:1095] InUse at 7f5bbe067d00 of size 256 next 117\n",
      "2024-04-10 13:51:12.900738: I external/local_tsl/tsl/framework/bfc_allocator.cc:1095] InUse at 7f5bbe067e00 of size 256 next 126\n",
      "2024-04-10 13:51:12.900749: I external/local_tsl/tsl/framework/bfc_allocator.cc:1095] InUse at 7f5bbe067f00 of size 256 next 110\n",
      "2024-04-10 13:51:12.900761: I external/local_tsl/tsl/framework/bfc_allocator.cc:1095] InUse at 7f5bbe068000 of size 256 next 115\n",
      "2024-04-10 13:51:12.900777: I external/local_tsl/tsl/framework/bfc_allocator.cc:1095] InUse at 7f5bbe068100 of size 256 next 112\n",
      "2024-04-10 13:51:12.900792: I external/local_tsl/tsl/framework/bfc_allocator.cc:1095] InUse at 7f5bbe068200 of size 256 next 124\n",
      "2024-04-10 13:51:12.900807: I external/local_tsl/tsl/framework/bfc_allocator.cc:1095] InUse at 7f5bbe068300 of size 256 next 122\n",
      "2024-04-10 13:51:12.900822: I external/local_tsl/tsl/framework/bfc_allocator.cc:1095] InUse at 7f5bbe068400 of size 256 next 127\n",
      "2024-04-10 13:51:12.900836: I external/local_tsl/tsl/framework/bfc_allocator.cc:1095] InUse at 7f5bbe068500 of size 256 next 136\n",
      "2024-04-10 13:51:12.900850: I external/local_tsl/tsl/framework/bfc_allocator.cc:1095] InUse at 7f5bbe068600 of size 256 next 103\n",
      "2024-04-10 13:51:12.900864: I external/local_tsl/tsl/framework/bfc_allocator.cc:1095] InUse at 7f5bbe068700 of size 5632 next 375\n",
      "2024-04-10 13:51:12.900947: I external/local_tsl/tsl/framework/bfc_allocator.cc:1095] InUse at 7f5bbe069d00 of size 5632 next 75\n",
      "2024-04-10 13:51:12.900961: I external/local_tsl/tsl/framework/bfc_allocator.cc:1095] InUse at 7f5bbe06b300 of size 256 next 135\n",
      "2024-04-10 13:51:12.900976: I external/local_tsl/tsl/framework/bfc_allocator.cc:1095] InUse at 7f5bbe06b400 of size 256 next 129\n",
      "2024-04-10 13:51:12.900990: I external/local_tsl/tsl/framework/bfc_allocator.cc:1095] InUse at 7f5bbe06b500 of size 256 next 140\n",
      "2024-04-10 13:51:12.901005: I external/local_tsl/tsl/framework/bfc_allocator.cc:1095] InUse at 7f5bbe06b600 of size 256 next 130\n",
      "2024-04-10 13:51:12.901020: I external/local_tsl/tsl/framework/bfc_allocator.cc:1095] InUse at 7f5bbe06b700 of size 256 next 139\n",
      "2024-04-10 13:51:12.901036: I external/local_tsl/tsl/framework/bfc_allocator.cc:1095] InUse at 7f5bbe06b800 of size 256 next 125\n",
      "2024-04-10 13:51:12.901050: I external/local_tsl/tsl/framework/bfc_allocator.cc:1095] InUse at 7f5bbe06b900 of size 256 next 99\n",
      "2024-04-10 13:51:12.901064: I external/local_tsl/tsl/framework/bfc_allocator.cc:1095] InUse at 7f5bbe06ba00 of size 256 next 137\n",
      "2024-04-10 13:51:12.901079: I external/local_tsl/tsl/framework/bfc_allocator.cc:1095] InUse at 7f5bbe06bb00 of size 256 next 142\n",
      "2024-04-10 13:51:12.901094: I external/local_tsl/tsl/framework/bfc_allocator.cc:1095] InUse at 7f5bbe06bc00 of size 256 next 149\n",
      "2024-04-10 13:51:12.901109: I external/local_tsl/tsl/framework/bfc_allocator.cc:1095] InUse at 7f5bbe06bd00 of size 256 next 132\n",
      "2024-04-10 13:51:12.901123: I external/local_tsl/tsl/framework/bfc_allocator.cc:1095] InUse at 7f5bbe06be00 of size 256 next 146\n",
      "2024-04-10 13:51:12.901137: I external/local_tsl/tsl/framework/bfc_allocator.cc:1095] InUse at 7f5bbe06bf00 of size 256 next 165\n",
      "2024-04-10 13:51:12.901152: I external/local_tsl/tsl/framework/bfc_allocator.cc:1095] InUse at 7f5bbe06c000 of size 256 next 148\n",
      "2024-04-10 13:51:12.901166: I external/local_tsl/tsl/framework/bfc_allocator.cc:1095] Free  at 7f5bbe06c100 of size 7680 next 388\n",
      "2024-04-10 13:51:12.901182: I external/local_tsl/tsl/framework/bfc_allocator.cc:1095] InUse at 7f5bbe06df00 of size 12288 next 102\n",
      "2024-04-10 13:51:12.901196: I external/local_tsl/tsl/framework/bfc_allocator.cc:1095] Free  at 7f5bbe070f00 of size 12288 next 91\n",
      "2024-04-10 13:51:12.901210: I external/local_tsl/tsl/framework/bfc_allocator.cc:1095] InUse at 7f5bbe073f00 of size 20480 next 90\n",
      "2024-04-10 13:51:12.901224: I external/local_tsl/tsl/framework/bfc_allocator.cc:1095] Free  at 7f5bbe078f00 of size 20480 next 33\n",
      "2024-04-10 13:51:12.901238: I external/local_tsl/tsl/framework/bfc_allocator.cc:1095] InUse at 7f5bbe07df00 of size 942080 next 19\n",
      "2024-04-10 13:51:12.901254: I external/local_tsl/tsl/framework/bfc_allocator.cc:1095] InUse at 7f5bbe163f00 of size 716800 next 18\n",
      "2024-04-10 13:51:12.901270: I external/local_tsl/tsl/framework/bfc_allocator.cc:1095] InUse at 7f5bbe212f00 of size 95232 next 131\n",
      "2024-04-10 13:51:12.901285: I external/local_tsl/tsl/framework/bfc_allocator.cc:1095] Free  at 7f5bbe22a300 of size 232448 next 63\n",
      "2024-04-10 13:51:12.901300: I external/local_tsl/tsl/framework/bfc_allocator.cc:1095] InUse at 7f5bbe262f00 of size 163840 next 61\n",
      "2024-04-10 13:51:12.901316: I external/local_tsl/tsl/framework/bfc_allocator.cc:1095] InUse at 7f5bbe28af00 of size 77824 next 141\n",
      "2024-04-10 13:51:12.901329: I external/local_tsl/tsl/framework/bfc_allocator.cc:1095] InUse at 7f5bbe29df00 of size 12288 next 128\n",
      "2024-04-10 13:51:12.901341: I external/local_tsl/tsl/framework/bfc_allocator.cc:1095] InUse at 7f5bbe2a0f00 of size 73728 next 29\n",
      "2024-04-10 13:51:12.901355: I external/local_tsl/tsl/framework/bfc_allocator.cc:1095] InUse at 7f5bbe2b2f00 of size 4587520 next 25\n",
      "2024-04-10 13:51:12.901369: I external/local_tsl/tsl/framework/bfc_allocator.cc:1095] Free  at 7f5bbe712f00 of size 655360 next 52\n",
      "2024-04-10 13:51:12.901385: I external/local_tsl/tsl/framework/bfc_allocator.cc:1095] InUse at 7f5bbe7b2f00 of size 778240 next 58\n",
      "2024-04-10 13:51:12.901402: I external/local_tsl/tsl/framework/bfc_allocator.cc:1095] InUse at 7f5bbe870f00 of size 716800 next 332\n",
      "2024-04-10 13:51:12.901417: I external/local_tsl/tsl/framework/bfc_allocator.cc:1095] InUse at 7f5bbe91ff00 of size 512000 next 69\n",
      "2024-04-10 13:51:12.901431: I external/local_tsl/tsl/framework/bfc_allocator.cc:1095] InUse at 7f5bbe99cf00 of size 614400 next 100\n",
      "2024-04-10 13:51:12.901446: I external/local_tsl/tsl/framework/bfc_allocator.cc:1095] InUse at 7f5bbea32f00 of size 614400 next 95\n",
      "2024-04-10 13:51:12.901460: I external/local_tsl/tsl/framework/bfc_allocator.cc:1095] Free  at 7f5bbeac8f00 of size 368640 next 104\n",
      "2024-04-10 13:51:12.901481: I external/local_tsl/tsl/framework/bfc_allocator.cc:1095] InUse at 7f5bbeb22f00 of size 368640 next 138\n",
      "2024-04-10 13:51:12.901498: I external/local_tsl/tsl/framework/bfc_allocator.cc:1095] Free  at 7f5bbeb7cf00 of size 2764800 next 50\n",
      "2024-04-10 13:51:12.901513: I external/local_tsl/tsl/framework/bfc_allocator.cc:1095] InUse at 7f5bbee1ff00 of size 2621440 next 51\n",
      "2024-04-10 13:51:12.901528: I external/local_tsl/tsl/framework/bfc_allocator.cc:1095] InUse at 7f5bbf09ff00 of size 5242880 next 54\n",
      "2024-04-10 13:51:12.901543: I external/local_tsl/tsl/framework/bfc_allocator.cc:1095] InUse at 7f5bbf59ff00 of size 5242880 next 72\n",
      "2024-04-10 13:51:12.901558: I external/local_tsl/tsl/framework/bfc_allocator.cc:1095] InUse at 7f5bbfa9ff00 of size 5242880 next 64\n",
      "2024-04-10 13:51:12.901573: I external/local_tsl/tsl/framework/bfc_allocator.cc:1095] Free  at 7f5bbff9ff00 of size 3145728 next 109\n",
      "2024-04-10 13:51:12.901589: I external/local_tsl/tsl/framework/bfc_allocator.cc:1095] InUse at 7f5bc029ff00 of size 3145728 next 114\n",
      "2024-04-10 13:51:12.901603: I external/local_tsl/tsl/framework/bfc_allocator.cc:1095] Free  at 7f5bc059ff00 of size 4194304 next 93\n",
      "2024-04-10 13:51:12.901617: I external/local_tsl/tsl/framework/bfc_allocator.cc:1095] InUse at 7f5bc099ff00 of size 5242880 next 78\n",
      "2024-04-10 13:51:12.901633: I external/local_tsl/tsl/framework/bfc_allocator.cc:1095] InUse at 7f5bc0e9ff00 of size 5242880 next 105\n",
      "2024-04-10 13:51:12.901649: I external/local_tsl/tsl/framework/bfc_allocator.cc:1095] InUse at 7f5bc139ff00 of size 5242880 next 92\n",
      "2024-04-10 13:51:12.901664: I external/local_tsl/tsl/framework/bfc_allocator.cc:1095] InUse at 7f5bc189ff00 of size 3145728 next 113\n",
      "2024-04-10 13:51:12.901679: I external/local_tsl/tsl/framework/bfc_allocator.cc:1095] InUse at 7f5bc1b9ff00 of size 6303744 next 144\n",
      "2024-04-10 13:51:12.901692: I external/local_tsl/tsl/framework/bfc_allocator.cc:1095] Free  at 7f5bc21a2f00 of size 9424896 next 133\n",
      "2024-04-10 13:51:12.901706: I external/local_tsl/tsl/framework/bfc_allocator.cc:1095] InUse at 7f5bc2a9ff00 of size 3145728 next 123\n",
      "2024-04-10 13:51:12.901723: I external/local_tsl/tsl/framework/bfc_allocator.cc:1095] Free  at 7f5bc2d9ff00 of size 22848000 next 121\n",
      "2024-04-10 13:51:12.901744: I external/local_tsl/tsl/framework/bfc_allocator.cc:1095] InUse at 7f5bc436a100 of size 194969600 next 134\n",
      "2024-04-10 13:51:12.901760: I external/local_tsl/tsl/framework/bfc_allocator.cc:1095] InUse at 7f5bcfd5a100 of size 194969600 next 155\n",
      "2024-04-10 13:51:12.901776: I external/local_tsl/tsl/framework/bfc_allocator.cc:1095] Free  at 7f5bdb74a100 of size 663183104 next 18446744073709551615\n",
      "2024-04-10 13:51:12.901793: I external/local_tsl/tsl/framework/bfc_allocator.cc:1100]      Summary of in-use Chunks by size: \n",
      "2024-04-10 13:51:12.901817: I external/local_tsl/tsl/framework/bfc_allocator.cc:1103] 96 Chunks of size 256 totalling 24.0KiB\n",
      "2024-04-10 13:51:12.901837: I external/local_tsl/tsl/framework/bfc_allocator.cc:1103] 2 Chunks of size 512 totalling 1.0KiB\n",
      "2024-04-10 13:51:12.901854: I external/local_tsl/tsl/framework/bfc_allocator.cc:1103] 2 Chunks of size 1024 totalling 2.0KiB\n",
      "2024-04-10 13:51:12.901870: I external/local_tsl/tsl/framework/bfc_allocator.cc:1103] 1 Chunks of size 1280 totalling 1.2KiB\n",
      "2024-04-10 13:51:12.901885: I external/local_tsl/tsl/framework/bfc_allocator.cc:1103] 8 Chunks of size 2048 totalling 16.0KiB\n",
      "2024-04-10 13:51:12.901901: I external/local_tsl/tsl/framework/bfc_allocator.cc:1103] 2 Chunks of size 2560 totalling 5.0KiB\n",
      "2024-04-10 13:51:12.901918: I external/local_tsl/tsl/framework/bfc_allocator.cc:1103] 1 Chunks of size 3584 totalling 3.5KiB\n",
      "2024-04-10 13:51:12.901935: I external/local_tsl/tsl/framework/bfc_allocator.cc:1103] 1 Chunks of size 4608 totalling 4.5KiB\n",
      "2024-04-10 13:51:12.901950: I external/local_tsl/tsl/framework/bfc_allocator.cc:1103] 2 Chunks of size 5632 totalling 11.0KiB\n",
      "2024-04-10 13:51:12.901967: I external/local_tsl/tsl/framework/bfc_allocator.cc:1103] 1 Chunks of size 6656 totalling 6.5KiB\n",
      "2024-04-10 13:51:12.901990: I external/local_tsl/tsl/framework/bfc_allocator.cc:1103] 1 Chunks of size 11520 totalling 11.2KiB\n",
      "2024-04-10 13:51:12.902007: I external/local_tsl/tsl/framework/bfc_allocator.cc:1103] 2 Chunks of size 12288 totalling 24.0KiB\n",
      "2024-04-10 13:51:12.902025: I external/local_tsl/tsl/framework/bfc_allocator.cc:1103] 1 Chunks of size 20480 totalling 20.0KiB\n",
      "2024-04-10 13:51:12.902044: I external/local_tsl/tsl/framework/bfc_allocator.cc:1103] 1 Chunks of size 36096 totalling 35.2KiB\n",
      "2024-04-10 13:51:12.902063: I external/local_tsl/tsl/framework/bfc_allocator.cc:1103] 1 Chunks of size 73728 totalling 72.0KiB\n",
      "2024-04-10 13:51:12.902079: I external/local_tsl/tsl/framework/bfc_allocator.cc:1103] 1 Chunks of size 77824 totalling 76.0KiB\n",
      "2024-04-10 13:51:12.902098: I external/local_tsl/tsl/framework/bfc_allocator.cc:1103] 1 Chunks of size 95232 totalling 93.0KiB\n",
      "2024-04-10 13:51:12.902116: I external/local_tsl/tsl/framework/bfc_allocator.cc:1103] 1 Chunks of size 163840 totalling 160.0KiB\n",
      "2024-04-10 13:51:12.902132: I external/local_tsl/tsl/framework/bfc_allocator.cc:1103] 1 Chunks of size 318464 totalling 311.0KiB\n",
      "2024-04-10 13:51:12.902152: I external/local_tsl/tsl/framework/bfc_allocator.cc:1103] 1 Chunks of size 368640 totalling 360.0KiB\n",
      "2024-04-10 13:51:12.902169: I external/local_tsl/tsl/framework/bfc_allocator.cc:1103] 1 Chunks of size 512000 totalling 500.0KiB\n",
      "2024-04-10 13:51:12.902187: I external/local_tsl/tsl/framework/bfc_allocator.cc:1103] 2 Chunks of size 614400 totalling 1.17MiB\n",
      "2024-04-10 13:51:12.902205: I external/local_tsl/tsl/framework/bfc_allocator.cc:1103] 2 Chunks of size 716800 totalling 1.37MiB\n",
      "2024-04-10 13:51:12.902224: I external/local_tsl/tsl/framework/bfc_allocator.cc:1103] 1 Chunks of size 778240 totalling 760.0KiB\n",
      "2024-04-10 13:51:12.902239: I external/local_tsl/tsl/framework/bfc_allocator.cc:1103] 1 Chunks of size 942080 totalling 920.0KiB\n",
      "2024-04-10 13:51:12.902259: I external/local_tsl/tsl/framework/bfc_allocator.cc:1103] 1 Chunks of size 2621440 totalling 2.50MiB\n",
      "2024-04-10 13:51:12.902275: I external/local_tsl/tsl/framework/bfc_allocator.cc:1103] 3 Chunks of size 3145728 totalling 9.00MiB\n",
      "2024-04-10 13:51:12.902295: I external/local_tsl/tsl/framework/bfc_allocator.cc:1103] 1 Chunks of size 4587520 totalling 4.38MiB\n",
      "2024-04-10 13:51:12.902313: I external/local_tsl/tsl/framework/bfc_allocator.cc:1103] 6 Chunks of size 5242880 totalling 30.00MiB\n",
      "2024-04-10 13:51:12.902331: I external/local_tsl/tsl/framework/bfc_allocator.cc:1103] 1 Chunks of size 6303744 totalling 6.01MiB\n",
      "2024-04-10 13:51:12.902350: I external/local_tsl/tsl/framework/bfc_allocator.cc:1103] 2 Chunks of size 194969600 totalling 371.88MiB\n",
      "2024-04-10 13:51:12.902368: I external/local_tsl/tsl/framework/bfc_allocator.cc:1107] Sum Total of in-use chunks: 429.64MiB\n",
      "2024-04-10 13:51:12.902389: I external/local_tsl/tsl/framework/bfc_allocator.cc:1109] Total bytes in pool: 1157365760 memory_limit_: 1157365760 available bytes: 0 curr_region_allocation_bytes_: 2314731520\n",
      "2024-04-10 13:51:12.902418: I external/local_tsl/tsl/framework/bfc_allocator.cc:1114] Stats: \n",
      "Limit:                      1157365760\n",
      "InUse:                       450508032\n",
      "MaxInUse:                   1151384064\n",
      "NumAllocs:                       31562\n",
      "MaxAllocSize:                504789504\n",
      "Reserved:                            0\n",
      "PeakReserved:                        0\n",
      "LargestFreeBlock:                    0\n",
      "\n",
      "2024-04-10 13:51:12.902457: W external/local_tsl/tsl/framework/bfc_allocator.cc:497] ********_**********************************_________________________________________________________\n",
      "2024-04-10 13:51:12.902504: E external/local_xla/xla/stream_executor/dnn.cc:1140] OOM when allocating tensor with shape[830869888] and type uint8 on /job:localhost/replica:0/task:0/device:GPU:0 by allocator GPU_0_bfc\n",
      "2024-04-10 13:51:12.902574: W tensorflow/core/framework/op_kernel.cc:1839] OP_REQUIRES failed at cudnn_rnn_ops.cc:1771 : INTERNAL: Failed to call ThenRnnForward with model config: [rnn_mode, rnn_input_mode, rnn_direction_mode]: 3, 0, 0 , [num_layers, input_size, num_units, dir_count, max_seq_length, batch_size, cell_num_units]: [1, 512, 512, 1, 2975, 32, 0] \n"
     ]
    },
    {
     "ename": "InternalError",
     "evalue": "Graph execution error:\n\nDetected at node cond/CudnnRNNV3 defined at (most recent call last):\n  File \"<frozen runpy>\", line 198, in _run_module_as_main\n\n  File \"<frozen runpy>\", line 88, in _run_code\n\n  File \"/home/tiago/anaconda3/envs/deepsea/lib/python3.11/site-packages/ipykernel_launcher.py\", line 18, in <module>\n\n  File \"/home/tiago/anaconda3/envs/deepsea/lib/python3.11/site-packages/traitlets/config/application.py\", line 1075, in launch_instance\n\n  File \"/home/tiago/anaconda3/envs/deepsea/lib/python3.11/site-packages/ipykernel/kernelapp.py\", line 739, in start\n\n  File \"/home/tiago/anaconda3/envs/deepsea/lib/python3.11/site-packages/tornado/platform/asyncio.py\", line 205, in start\n\n  File \"/home/tiago/anaconda3/envs/deepsea/lib/python3.11/asyncio/base_events.py\", line 608, in run_forever\n\n  File \"/home/tiago/anaconda3/envs/deepsea/lib/python3.11/asyncio/base_events.py\", line 1936, in _run_once\n\n  File \"/home/tiago/anaconda3/envs/deepsea/lib/python3.11/asyncio/events.py\", line 84, in _run\n\n  File \"/home/tiago/anaconda3/envs/deepsea/lib/python3.11/site-packages/ipykernel/kernelbase.py\", line 545, in dispatch_queue\n\n  File \"/home/tiago/anaconda3/envs/deepsea/lib/python3.11/site-packages/ipykernel/kernelbase.py\", line 534, in process_one\n\n  File \"/home/tiago/anaconda3/envs/deepsea/lib/python3.11/site-packages/ipykernel/kernelbase.py\", line 437, in dispatch_shell\n\n  File \"/home/tiago/anaconda3/envs/deepsea/lib/python3.11/site-packages/ipykernel/ipkernel.py\", line 359, in execute_request\n\n  File \"/home/tiago/anaconda3/envs/deepsea/lib/python3.11/site-packages/ipykernel/kernelbase.py\", line 778, in execute_request\n\n  File \"/home/tiago/anaconda3/envs/deepsea/lib/python3.11/site-packages/ipykernel/ipkernel.py\", line 446, in do_execute\n\n  File \"/home/tiago/anaconda3/envs/deepsea/lib/python3.11/site-packages/ipykernel/zmqshell.py\", line 549, in run_cell\n\n  File \"/home/tiago/anaconda3/envs/deepsea/lib/python3.11/site-packages/IPython/core/interactiveshell.py\", line 3075, in run_cell\n\n  File \"/home/tiago/anaconda3/envs/deepsea/lib/python3.11/site-packages/IPython/core/interactiveshell.py\", line 3130, in _run_cell\n\n  File \"/home/tiago/anaconda3/envs/deepsea/lib/python3.11/site-packages/IPython/core/async_helpers.py\", line 129, in _pseudo_sync_runner\n\n  File \"/home/tiago/anaconda3/envs/deepsea/lib/python3.11/site-packages/IPython/core/interactiveshell.py\", line 3334, in run_cell_async\n\n  File \"/home/tiago/anaconda3/envs/deepsea/lib/python3.11/site-packages/IPython/core/interactiveshell.py\", line 3517, in run_ast_nodes\n\n  File \"/home/tiago/anaconda3/envs/deepsea/lib/python3.11/site-packages/IPython/core/interactiveshell.py\", line 3577, in run_code\n\n  File \"/tmp/ipykernel_34618/2267283125.py\", line 3, in <module>\n\n  File \"/tmp/ipykernel_34618/2104521531.py\", line 3, in model_apply\n\n  File \"/home/tiago/anaconda3/envs/deepsea/lib/python3.11/site-packages/keras/src/utils/traceback_utils.py\", line 65, in error_handler\n\n  File \"/home/tiago/anaconda3/envs/deepsea/lib/python3.11/site-packages/keras/src/engine/training.py\", line 2655, in predict\n\n  File \"/home/tiago/anaconda3/envs/deepsea/lib/python3.11/site-packages/keras/src/engine/training.py\", line 2440, in predict_function\n\n  File \"/home/tiago/anaconda3/envs/deepsea/lib/python3.11/site-packages/keras/src/engine/training.py\", line 2425, in step_function\n\n  File \"/home/tiago/anaconda3/envs/deepsea/lib/python3.11/site-packages/keras/src/engine/training.py\", line 2413, in run_step\n\n  File \"/home/tiago/anaconda3/envs/deepsea/lib/python3.11/site-packages/keras/src/engine/training.py\", line 2381, in predict_step\n\n  File \"/home/tiago/anaconda3/envs/deepsea/lib/python3.11/site-packages/keras/src/utils/traceback_utils.py\", line 65, in error_handler\n\n  File \"/home/tiago/anaconda3/envs/deepsea/lib/python3.11/site-packages/keras/src/engine/training.py\", line 590, in __call__\n\n  File \"/home/tiago/anaconda3/envs/deepsea/lib/python3.11/site-packages/keras/src/utils/traceback_utils.py\", line 65, in error_handler\n\n  File \"/home/tiago/anaconda3/envs/deepsea/lib/python3.11/site-packages/keras/src/engine/base_layer.py\", line 1149, in __call__\n\n  File \"/home/tiago/anaconda3/envs/deepsea/lib/python3.11/site-packages/keras/src/utils/traceback_utils.py\", line 96, in error_handler\n\n  File \"/home/tiago/anaconda3/envs/deepsea/lib/python3.11/site-packages/keras/src/engine/sequential.py\", line 398, in call\n\n  File \"/home/tiago/anaconda3/envs/deepsea/lib/python3.11/site-packages/keras/src/engine/functional.py\", line 515, in call\n\n  File \"/home/tiago/anaconda3/envs/deepsea/lib/python3.11/site-packages/keras/src/engine/functional.py\", line 672, in _run_internal_graph\n\n  File \"/home/tiago/anaconda3/envs/deepsea/lib/python3.11/site-packages/keras/src/layers/rnn/base_rnn.py\", line 556, in __call__\n\n  File \"/home/tiago/anaconda3/envs/deepsea/lib/python3.11/site-packages/keras/src/utils/traceback_utils.py\", line 65, in error_handler\n\n  File \"/home/tiago/anaconda3/envs/deepsea/lib/python3.11/site-packages/keras/src/engine/base_layer.py\", line 1149, in __call__\n\n  File \"/home/tiago/anaconda3/envs/deepsea/lib/python3.11/site-packages/keras/src/utils/traceback_utils.py\", line 96, in error_handler\n\n  File \"/home/tiago/anaconda3/envs/deepsea/lib/python3.11/site-packages/keras/src/layers/rnn/gru.py\", line 670, in call\n\n  File \"/home/tiago/anaconda3/envs/deepsea/lib/python3.11/site-packages/keras/src/layers/rnn/gru.py\", line 902, in _defun_gru_call\n\n  File \"/home/tiago/anaconda3/envs/deepsea/lib/python3.11/site-packages/keras/src/layers/rnn/gru.py\", line 1298, in gru_with_backend_selection\n\n  File \"/home/tiago/anaconda3/envs/deepsea/lib/python3.11/site-packages/keras/src/layers/rnn/gru_lstm_utils.py\", line 272, in function_register\n\n  File \"/home/tiago/anaconda3/envs/deepsea/lib/python3.11/site-packages/keras/src/layers/rnn/gru.py\", line 1248, in gpu_gru_with_fallback\n\n  File \"/home/tiago/anaconda3/envs/deepsea/lib/python3.11/site-packages/keras/src/layers/rnn/gru.py\", line 1220, in cudnn_gru_fn\n\n  File \"/home/tiago/anaconda3/envs/deepsea/lib/python3.11/site-packages/keras/src/layers/rnn/gru.py\", line 1083, in gpu_gru\n\nFailed to call ThenRnnForward with model config: [rnn_mode, rnn_input_mode, rnn_direction_mode]: 3, 0, 0 , [num_layers, input_size, num_units, dir_count, max_seq_length, batch_size, cell_num_units]: [1, 512, 512, 1, 2975, 32, 0] \n\t [[{{node cond/CudnnRNNV3}}]]\n\t [[sequential_2/gru_1/PartitionedCall]] [Op:__inference_predict_function_48553]",
     "output_type": "error",
     "traceback": [
      "\u001b[0;31m---------------------------------------------------------------------------\u001b[0m",
      "\u001b[0;31mInternalError\u001b[0m                             Traceback (most recent call last)",
      "Cell \u001b[0;32mIn[17], line 3\u001b[0m\n\u001b[1;32m      1\u001b[0m tf\u001b[38;5;241m.\u001b[39mkeras\u001b[38;5;241m.\u001b[39mbackend\u001b[38;5;241m.\u001b[39mclear_session()\n\u001b[1;32m      2\u001b[0m gru \u001b[38;5;241m=\u001b[39m tf\u001b[38;5;241m.\u001b[39mkeras\u001b[38;5;241m.\u001b[39mmodels\u001b[38;5;241m.\u001b[39mload_model(\u001b[38;5;124mf\u001b[39m\u001b[38;5;124m\"\u001b[39m\u001b[38;5;132;01m{\u001b[39;00mMODELDIR\u001b[38;5;132;01m}\u001b[39;00m\u001b[38;5;124m/gru\u001b[39m\u001b[38;5;124m\"\u001b[39m)\n\u001b[0;32m----> 3\u001b[0m gru_emb_fitted \u001b[38;5;241m=\u001b[39m \u001b[43mmodel_apply\u001b[49m\u001b[43m(\u001b[49m\u001b[43mgru\u001b[49m\u001b[43m,\u001b[49m\u001b[43mX_test\u001b[49m\u001b[43m)\u001b[49m\n\u001b[1;32m      5\u001b[0m tf\u001b[38;5;241m.\u001b[39mkeras\u001b[38;5;241m.\u001b[39mbackend\u001b[38;5;241m.\u001b[39mclear_session()\n\u001b[1;32m      6\u001b[0m gru_emb_random \u001b[38;5;241m=\u001b[39m grur\u001b[38;5;241m.\u001b[39mpredict(X_test)\n",
      "Cell \u001b[0;32mIn[14], line 3\u001b[0m, in \u001b[0;36mmodel_apply\u001b[0;34m(model, x)\u001b[0m\n\u001b[1;32m      1\u001b[0m \u001b[38;5;28;01mdef\u001b[39;00m \u001b[38;5;21mmodel_apply\u001b[39m(model,x):\n\u001b[1;32m      2\u001b[0m     model\u001b[38;5;241m.\u001b[39mpop()\n\u001b[0;32m----> 3\u001b[0m     maxpolling \u001b[38;5;241m=\u001b[39m \u001b[43mmodel\u001b[49m\u001b[38;5;241;43m.\u001b[39;49m\u001b[43mpredict\u001b[49m\u001b[43m(\u001b[49m\u001b[43mx\u001b[49m\u001b[43m)\u001b[49m\n\u001b[1;32m      4\u001b[0m     \u001b[38;5;28;01mreturn\u001b[39;00m maxpolling\n",
      "File \u001b[0;32m~/anaconda3/envs/deepsea/lib/python3.11/site-packages/keras/src/utils/traceback_utils.py:70\u001b[0m, in \u001b[0;36mfilter_traceback.<locals>.error_handler\u001b[0;34m(*args, **kwargs)\u001b[0m\n\u001b[1;32m     67\u001b[0m     filtered_tb \u001b[38;5;241m=\u001b[39m _process_traceback_frames(e\u001b[38;5;241m.\u001b[39m__traceback__)\n\u001b[1;32m     68\u001b[0m     \u001b[38;5;66;03m# To get the full stack trace, call:\u001b[39;00m\n\u001b[1;32m     69\u001b[0m     \u001b[38;5;66;03m# `tf.debugging.disable_traceback_filtering()`\u001b[39;00m\n\u001b[0;32m---> 70\u001b[0m     \u001b[38;5;28;01mraise\u001b[39;00m e\u001b[38;5;241m.\u001b[39mwith_traceback(filtered_tb) \u001b[38;5;28;01mfrom\u001b[39;00m \u001b[38;5;28;01mNone\u001b[39;00m\n\u001b[1;32m     71\u001b[0m \u001b[38;5;28;01mfinally\u001b[39;00m:\n\u001b[1;32m     72\u001b[0m     \u001b[38;5;28;01mdel\u001b[39;00m filtered_tb\n",
      "File \u001b[0;32m~/anaconda3/envs/deepsea/lib/python3.11/site-packages/tensorflow/python/eager/execute.py:53\u001b[0m, in \u001b[0;36mquick_execute\u001b[0;34m(op_name, num_outputs, inputs, attrs, ctx, name)\u001b[0m\n\u001b[1;32m     51\u001b[0m \u001b[38;5;28;01mtry\u001b[39;00m:\n\u001b[1;32m     52\u001b[0m   ctx\u001b[38;5;241m.\u001b[39mensure_initialized()\n\u001b[0;32m---> 53\u001b[0m   tensors \u001b[38;5;241m=\u001b[39m pywrap_tfe\u001b[38;5;241m.\u001b[39mTFE_Py_Execute(ctx\u001b[38;5;241m.\u001b[39m_handle, device_name, op_name,\n\u001b[1;32m     54\u001b[0m                                       inputs, attrs, num_outputs)\n\u001b[1;32m     55\u001b[0m \u001b[38;5;28;01mexcept\u001b[39;00m core\u001b[38;5;241m.\u001b[39m_NotOkStatusException \u001b[38;5;28;01mas\u001b[39;00m e:\n\u001b[1;32m     56\u001b[0m   \u001b[38;5;28;01mif\u001b[39;00m name \u001b[38;5;129;01mis\u001b[39;00m \u001b[38;5;129;01mnot\u001b[39;00m \u001b[38;5;28;01mNone\u001b[39;00m:\n",
      "\u001b[0;31mInternalError\u001b[0m: Graph execution error:\n\nDetected at node cond/CudnnRNNV3 defined at (most recent call last):\n  File \"<frozen runpy>\", line 198, in _run_module_as_main\n\n  File \"<frozen runpy>\", line 88, in _run_code\n\n  File \"/home/tiago/anaconda3/envs/deepsea/lib/python3.11/site-packages/ipykernel_launcher.py\", line 18, in <module>\n\n  File \"/home/tiago/anaconda3/envs/deepsea/lib/python3.11/site-packages/traitlets/config/application.py\", line 1075, in launch_instance\n\n  File \"/home/tiago/anaconda3/envs/deepsea/lib/python3.11/site-packages/ipykernel/kernelapp.py\", line 739, in start\n\n  File \"/home/tiago/anaconda3/envs/deepsea/lib/python3.11/site-packages/tornado/platform/asyncio.py\", line 205, in start\n\n  File \"/home/tiago/anaconda3/envs/deepsea/lib/python3.11/asyncio/base_events.py\", line 608, in run_forever\n\n  File \"/home/tiago/anaconda3/envs/deepsea/lib/python3.11/asyncio/base_events.py\", line 1936, in _run_once\n\n  File \"/home/tiago/anaconda3/envs/deepsea/lib/python3.11/asyncio/events.py\", line 84, in _run\n\n  File \"/home/tiago/anaconda3/envs/deepsea/lib/python3.11/site-packages/ipykernel/kernelbase.py\", line 545, in dispatch_queue\n\n  File \"/home/tiago/anaconda3/envs/deepsea/lib/python3.11/site-packages/ipykernel/kernelbase.py\", line 534, in process_one\n\n  File \"/home/tiago/anaconda3/envs/deepsea/lib/python3.11/site-packages/ipykernel/kernelbase.py\", line 437, in dispatch_shell\n\n  File \"/home/tiago/anaconda3/envs/deepsea/lib/python3.11/site-packages/ipykernel/ipkernel.py\", line 359, in execute_request\n\n  File \"/home/tiago/anaconda3/envs/deepsea/lib/python3.11/site-packages/ipykernel/kernelbase.py\", line 778, in execute_request\n\n  File \"/home/tiago/anaconda3/envs/deepsea/lib/python3.11/site-packages/ipykernel/ipkernel.py\", line 446, in do_execute\n\n  File \"/home/tiago/anaconda3/envs/deepsea/lib/python3.11/site-packages/ipykernel/zmqshell.py\", line 549, in run_cell\n\n  File \"/home/tiago/anaconda3/envs/deepsea/lib/python3.11/site-packages/IPython/core/interactiveshell.py\", line 3075, in run_cell\n\n  File \"/home/tiago/anaconda3/envs/deepsea/lib/python3.11/site-packages/IPython/core/interactiveshell.py\", line 3130, in _run_cell\n\n  File \"/home/tiago/anaconda3/envs/deepsea/lib/python3.11/site-packages/IPython/core/async_helpers.py\", line 129, in _pseudo_sync_runner\n\n  File \"/home/tiago/anaconda3/envs/deepsea/lib/python3.11/site-packages/IPython/core/interactiveshell.py\", line 3334, in run_cell_async\n\n  File \"/home/tiago/anaconda3/envs/deepsea/lib/python3.11/site-packages/IPython/core/interactiveshell.py\", line 3517, in run_ast_nodes\n\n  File \"/home/tiago/anaconda3/envs/deepsea/lib/python3.11/site-packages/IPython/core/interactiveshell.py\", line 3577, in run_code\n\n  File \"/tmp/ipykernel_34618/2267283125.py\", line 3, in <module>\n\n  File \"/tmp/ipykernel_34618/2104521531.py\", line 3, in model_apply\n\n  File \"/home/tiago/anaconda3/envs/deepsea/lib/python3.11/site-packages/keras/src/utils/traceback_utils.py\", line 65, in error_handler\n\n  File \"/home/tiago/anaconda3/envs/deepsea/lib/python3.11/site-packages/keras/src/engine/training.py\", line 2655, in predict\n\n  File \"/home/tiago/anaconda3/envs/deepsea/lib/python3.11/site-packages/keras/src/engine/training.py\", line 2440, in predict_function\n\n  File \"/home/tiago/anaconda3/envs/deepsea/lib/python3.11/site-packages/keras/src/engine/training.py\", line 2425, in step_function\n\n  File \"/home/tiago/anaconda3/envs/deepsea/lib/python3.11/site-packages/keras/src/engine/training.py\", line 2413, in run_step\n\n  File \"/home/tiago/anaconda3/envs/deepsea/lib/python3.11/site-packages/keras/src/engine/training.py\", line 2381, in predict_step\n\n  File \"/home/tiago/anaconda3/envs/deepsea/lib/python3.11/site-packages/keras/src/utils/traceback_utils.py\", line 65, in error_handler\n\n  File \"/home/tiago/anaconda3/envs/deepsea/lib/python3.11/site-packages/keras/src/engine/training.py\", line 590, in __call__\n\n  File \"/home/tiago/anaconda3/envs/deepsea/lib/python3.11/site-packages/keras/src/utils/traceback_utils.py\", line 65, in error_handler\n\n  File \"/home/tiago/anaconda3/envs/deepsea/lib/python3.11/site-packages/keras/src/engine/base_layer.py\", line 1149, in __call__\n\n  File \"/home/tiago/anaconda3/envs/deepsea/lib/python3.11/site-packages/keras/src/utils/traceback_utils.py\", line 96, in error_handler\n\n  File \"/home/tiago/anaconda3/envs/deepsea/lib/python3.11/site-packages/keras/src/engine/sequential.py\", line 398, in call\n\n  File \"/home/tiago/anaconda3/envs/deepsea/lib/python3.11/site-packages/keras/src/engine/functional.py\", line 515, in call\n\n  File \"/home/tiago/anaconda3/envs/deepsea/lib/python3.11/site-packages/keras/src/engine/functional.py\", line 672, in _run_internal_graph\n\n  File \"/home/tiago/anaconda3/envs/deepsea/lib/python3.11/site-packages/keras/src/layers/rnn/base_rnn.py\", line 556, in __call__\n\n  File \"/home/tiago/anaconda3/envs/deepsea/lib/python3.11/site-packages/keras/src/utils/traceback_utils.py\", line 65, in error_handler\n\n  File \"/home/tiago/anaconda3/envs/deepsea/lib/python3.11/site-packages/keras/src/engine/base_layer.py\", line 1149, in __call__\n\n  File \"/home/tiago/anaconda3/envs/deepsea/lib/python3.11/site-packages/keras/src/utils/traceback_utils.py\", line 96, in error_handler\n\n  File \"/home/tiago/anaconda3/envs/deepsea/lib/python3.11/site-packages/keras/src/layers/rnn/gru.py\", line 670, in call\n\n  File \"/home/tiago/anaconda3/envs/deepsea/lib/python3.11/site-packages/keras/src/layers/rnn/gru.py\", line 902, in _defun_gru_call\n\n  File \"/home/tiago/anaconda3/envs/deepsea/lib/python3.11/site-packages/keras/src/layers/rnn/gru.py\", line 1298, in gru_with_backend_selection\n\n  File \"/home/tiago/anaconda3/envs/deepsea/lib/python3.11/site-packages/keras/src/layers/rnn/gru_lstm_utils.py\", line 272, in function_register\n\n  File \"/home/tiago/anaconda3/envs/deepsea/lib/python3.11/site-packages/keras/src/layers/rnn/gru.py\", line 1248, in gpu_gru_with_fallback\n\n  File \"/home/tiago/anaconda3/envs/deepsea/lib/python3.11/site-packages/keras/src/layers/rnn/gru.py\", line 1220, in cudnn_gru_fn\n\n  File \"/home/tiago/anaconda3/envs/deepsea/lib/python3.11/site-packages/keras/src/layers/rnn/gru.py\", line 1083, in gpu_gru\n\nFailed to call ThenRnnForward with model config: [rnn_mode, rnn_input_mode, rnn_direction_mode]: 3, 0, 0 , [num_layers, input_size, num_units, dir_count, max_seq_length, batch_size, cell_num_units]: [1, 512, 512, 1, 2975, 32, 0] \n\t [[{{node cond/CudnnRNNV3}}]]\n\t [[sequential_2/gru_1/PartitionedCall]] [Op:__inference_predict_function_48553]"
     ]
    }
   ],
   "source": [
    "tf.keras.backend.clear_session()\n",
    "gru = tf.keras.models.load_model(f\"{MODELDIR}/gru\")\n",
    "gru_emb_fitted = model_apply(gru,X_test)\n",
    "\n",
    "tf.keras.backend.clear_session()\n",
    "gru_emb_random = grur.predict(X_test)"
   ]
  },
  {
   "cell_type": "code",
   "execution_count": null,
   "metadata": {},
   "outputs": [],
   "source": [
    "test = test.replace({\"macrolide-lincosamide-streptogramin\":\"MLS\",\"NonR\":\"NRP\"})"
   ]
  },
  {
   "cell_type": "code",
   "execution_count": null,
   "metadata": {},
   "outputs": [],
   "source": [
    "cnn_fit_tsne  =  TSNE(n_components=2, learning_rate=\"auto\", n_iter=1000, perplexity=30).fit_transform(cnn_emb_fitted)\n",
    "cnn_rand_tsne =  TSNE(n_components=2, learning_rate=\"auto\", n_iter=1000, perplexity=30).fit_transform(cnn_emb_random)"
   ]
  },
  {
   "cell_type": "code",
   "execution_count": null,
   "metadata": {},
   "outputs": [],
   "source": [
    "category_orders = np.array(['MLS', 'aminoglycoside', 'beta-lactam', 'chloramphenicol','glycopeptide', 'macrolide', 'multidrug', 'phosphonic acid','rifamycin', 'tetracycline',\"NRP\"])"
   ]
  },
  {
   "cell_type": "code",
   "execution_count": null,
   "metadata": {},
   "outputs": [],
   "source": [
    "fig = px.scatter(\n",
    "    cnn_fit_tsne, x=0, y=1,\n",
    "    color=test.Class, \n",
    "    category_orders = {\"color\": category_orders},\n",
    "    labels={'color': 'Class'},\n",
    "    title = \"CNN HMD\",\n",
    "    color_discrete_sequence=px.colors.qualitative.Pastel\n",
    ")\n",
    "fig.update_layout(legend_traceorder=\"normal\")\n",
    "fig.update_traces(marker_size=7)\n",
    "fig.show()\n",
    "fig.write_image(f\"{MODELDIR}/emb/cnn-tsne-classes.svg\")"
   ]
  },
  {
   "cell_type": "code",
   "execution_count": null,
   "metadata": {},
   "outputs": [],
   "source": [
    "fig = px.scatter(\n",
    "    cnn_rand_tsne, x=0, y=1,\n",
    "    color=test.Class, \n",
    "    category_orders = {\"color\": category_orders},\n",
    "    labels={'color': 'Class'},\n",
    "    title = \"CNN HMD\",\n",
    "    color_discrete_sequence=px.colors.qualitative.Pastel\n",
    ")\n",
    "fig.update_layout(legend_traceorder=\"normal\")\n",
    "fig.update_traces(marker_size=7)\n",
    "fig.show()\n",
    "fig.write_image(f\"{MODELDIR}/emb/cnn-random-tsne-classes.svg\")"
   ]
  },
  {
   "cell_type": "markdown",
   "metadata": {},
   "source": [
    "SAME"
   ]
  },
  {
   "cell_type": "code",
   "execution_count": null,
   "metadata": {},
   "outputs": [],
   "source": [
    "cnns_fit_tsne  = TSNE(n_components=2, learning_rate=\"auto\", n_iter=1000, perplexity=30).fit_transform(cnns_emb_fitted)\n",
    "cnns_rand_tsne = TSNE(n_components=2, learning_rate=\"auto\", n_iter=1000, perplexity=30).fit_transform(cnns_emb_random)"
   ]
  },
  {
   "cell_type": "code",
   "execution_count": null,
   "metadata": {},
   "outputs": [],
   "source": [
    "fig = px.scatter(\n",
    "    cnns_fit_tsne, x=0, y=1,\n",
    "    color=test.Class, \n",
    "    category_orders = {\"color\": category_orders},\n",
    "    labels={'color': 'Class'},\n",
    "    title = \"CNN-same HMD\",\n",
    "    color_discrete_sequence=px.colors.qualitative.Pastel\n",
    ")\n",
    "fig.update_layout(legend_traceorder=\"normal\")\n",
    "fig.update_traces(marker_size=7)\n",
    "fig.show()\n",
    "fig.write_image(f\"{MODELDIR}/emb/cnn-same-tsne-classes.svg\")"
   ]
  },
  {
   "cell_type": "code",
   "execution_count": null,
   "metadata": {},
   "outputs": [],
   "source": [
    "fig = px.scatter(\n",
    "    cnns_rand_tsne, x=0, y=1,\n",
    "    color=test.Class, \n",
    "    category_orders = {\"color\": category_orders},\n",
    "    labels={'color': 'Class'},\n",
    "    title = \"CNN-same HMD\",\n",
    "    color_discrete_sequence=px.colors.qualitative.Pastel\n",
    ")\n",
    "fig.update_layout(legend_traceorder=\"normal\")\n",
    "fig.update_traces(marker_size=7)\n",
    "fig.show()\n",
    "fig.write_image(f\"{MODELDIR}/emb/cnn-same-random-tsne-classes.svg\")"
   ]
  },
  {
   "cell_type": "markdown",
   "metadata": {},
   "source": [
    "GRU"
   ]
  },
  {
   "cell_type": "code",
   "execution_count": null,
   "metadata": {},
   "outputs": [],
   "source": [
    "gru_fit_tsne  =  TSNE(n_components=2, learning_rate=\"auto\", n_iter=1000, perplexity=30).fit_transform(gru_emb_fitted)\n",
    "gru_rand_tsne =  TSNE(n_components=2, learning_rate=\"auto\", n_iter=1000, perplexity=30).fit_transform(gru_emb_random)"
   ]
  },
  {
   "cell_type": "code",
   "execution_count": null,
   "metadata": {},
   "outputs": [],
   "source": [
    "fig = px.scatter(\n",
    "    gru_fit_tsne, x=0, y=1,\n",
    "    color=test.Class, \n",
    "    category_orders = {\"color\": category_orders},\n",
    "    labels={'color': 'Class'},\n",
    "    title = \"GRU HMD\",\n",
    "    color_discrete_sequence=px.colors.qualitative.Pastel\n",
    ")\n",
    "fig.update_layout(legend_traceorder=\"normal\")\n",
    "fig.update_traces(marker_size=7)\n",
    "fig.show()\n",
    "fig.write_image(f\"{MODELDIR}/emb/gru-tsne-classes.svg\")"
   ]
  },
  {
   "cell_type": "code",
   "execution_count": null,
   "metadata": {},
   "outputs": [],
   "source": [
    "fig = px.scatter(\n",
    "    gru_rand_tsne, x=0, y=1,\n",
    "    color=test.Class, \n",
    "    category_orders = {\"color\": category_orders},\n",
    "    labels={'color': 'Class'},\n",
    "    title = \"GRU HMD\",\n",
    "    color_discrete_sequence=px.colors.qualitative.Pastel\n",
    ")\n",
    "fig.update_layout(legend_traceorder=\"normal\")\n",
    "fig.update_traces(marker_size=7)\n",
    "fig.show()\n",
    "fig.write_image(f\"{MODELDIR}/emb/gru-random-tsne-classes.svg\")"
   ]
  },
  {
   "cell_type": "code",
   "execution_count": null,
   "metadata": {},
   "outputs": [],
   "source": [
    "tsne_df = pd.DataFrame({\n",
    "    \"CNN-1\":cnn_fit_tsne[:,0],\n",
    "    \"CNN-2\":cnn_fit_tsne[:,1],\n",
    "\n",
    "    \"CNN-Rand-1\":cnn_rand_tsne[:,0],\n",
    "    \"CNN-Rand-2\":cnn_rand_tsne[:,1],\n",
    "\n",
    "    \"CNNS-1\":cnns_fit_tsne[:,0],\n",
    "    \"CNNS-2\":cnns_fit_tsne[:,1],\n",
    "\n",
    "    \"CNNS-Rand-1\":cnns_rand_tsne[:,0],\n",
    "    \"CNNS-Rand-2\":cnns_rand_tsne[:,1],\n",
    "\n",
    "    \"GRU-1\":gru_fit_tsne[:,0],\n",
    "    \"GRU-2\":gru_fit_tsne[:,1],\n",
    "    \n",
    "    \"GRU-Rand-1\":gru_rand_tsne[:,0],\n",
    "    \"GRU-Rand-2\":gru_rand_tsne[:,1],\n",
    "\n",
    "    \"Class\":test.Class.to_list(),\n",
    "    \"Mech\": test.Mech.to_list(),\n",
    "})"
   ]
  },
  {
   "cell_type": "code",
   "execution_count": null,
   "metadata": {},
   "outputs": [],
   "source": [
    "my_pallete = {cls:cor for cls,cor in zip(sorted(ENCODER.categories_[0]),sn.color_palette(\"pastel\"))}\n",
    "my_pallete[\"NonR\"] = (0,0,0)\n",
    "my_pallete[\"tetracycline\"] = (211/255, 211/255, 211/255)"
   ]
  },
  {
   "cell_type": "code",
   "execution_count": null,
   "metadata": {},
   "outputs": [],
   "source": [
    "figure, axes = plt.subplots(2, 3, figsize=(12,5), constrained_layout=True)\n",
    "figure.suptitle(\"Resistance Classes\")\n",
    "\n",
    "sn.scatterplot(ax = axes[0,0], data = tsne_df, x = \"CNN-1\", y = \"CNN-2\", hue = \"Class\", palette = my_pallete, legend=False )\n",
    "sn.scatterplot(ax = axes[1,0], data = tsne_df, x = \"CNN-Rand-1\", y = \"CNN-Rand-2\", hue = \"Class\", palette = my_pallete, legend=False )\n",
    "\n",
    "sn.scatterplot(ax = axes[0,1], data = tsne_df, x = \"CNNS-1\", y = \"CNNS-2\", hue = \"Class\", palette = my_pallete, legend = False)\n",
    "sn.scatterplot(ax = axes[1,1], data = tsne_df, x = \"CNNS-Rand-1\", y = \"CNNS-Rand-2\", hue = \"Class\", palette = my_pallete, legend = False)\n",
    "\n",
    "\n",
    "sn.scatterplot(ax = axes[0,2], data = tsne_df, x = \"GRU-1\", y = \"GRU-2\", hue = \"Class\", palette = my_pallete, legend=False)\n",
    "sn.scatterplot(ax = axes[1,2], data = tsne_df, x = \"GRU-Rand-1\", y = \"GRU-Rand-2\", hue = \"Class\", palette = my_pallete)\n",
    "plt.legend(loc=(1.05, 0))\n",
    "\n",
    "\n",
    "plt.savefig(f\"{MODELDIR}/emb/tsne-align-classes.svg\", format = \"SVG\", bbox_inches='tight')\n",
    "plt.savefig(f\"{MODELDIR}/emb/tsne-align-classes.png\", format = \"PNG\", bbox_inches='tight')\n"
   ]
  },
  {
   "cell_type": "code",
   "execution_count": null,
   "metadata": {},
   "outputs": [],
   "source": [
    "mechs = sorted(test.Mech.fillna(\"unknow\").unique())\n",
    "mechs"
   ]
  },
  {
   "cell_type": "code",
   "execution_count": null,
   "metadata": {},
   "outputs": [],
   "source": [
    "my_pallete = {cls:cor for cls,cor in zip(mechs,sn.color_palette(\"pastel\"))}\n",
    "my_pallete[\"Non antibiotic\"] = (0,0,0)"
   ]
  },
  {
   "cell_type": "code",
   "execution_count": null,
   "metadata": {},
   "outputs": [],
   "source": [
    "figure, axes = plt.subplots(2, 3, figsize=(12,5), constrained_layout=True)\n",
    "figure.suptitle(\"Resistance Mechanisms\")\n",
    "\n",
    "sn.scatterplot(ax = axes[0,0], data = tsne_df, x = \"CNN-1\", y = \"CNN-2\", hue = \"Mech\", palette = my_pallete, legend=False )\n",
    "sn.scatterplot(ax = axes[1,0], data = tsne_df, x = \"CNN-Rand-1\", y = \"CNN-Rand-2\", hue = \"Mech\", palette = my_pallete, legend=False )\n",
    "\n",
    "sn.scatterplot(ax = axes[0,1], data = tsne_df, x = \"CNNS-1\", y = \"CNNS-2\", hue = \"Mech\", palette = my_pallete, legend=False)\n",
    "sn.scatterplot(ax = axes[1,1], data = tsne_df, x = \"CNNS-Rand-1\", y = \"CNNS-Rand-2\", hue = \"Mech\", palette = my_pallete, legend=False)\n",
    "\n",
    "sn.scatterplot(ax = axes[0,2], data = tsne_df, x = \"GRU-1\", y = \"GRU-2\", hue = \"Mech\", palette = my_pallete, legend=False)\n",
    "sn.scatterplot(ax = axes[1,2], data = tsne_df, x = \"GRU-Rand-1\", y = \"GRU-Rand-2\", hue = \"Mech\", palette = my_pallete)\n",
    "plt.legend(loc=(1.05, 0))\n",
    "\n",
    "\n",
    "\n",
    "plt.savefig(f\"{MODELDIR}/emb/tsne-align-mechs.svg\", format = \"SVG\", bbox_inches='tight')\n",
    "plt.savefig(f\"{MODELDIR}/emb/tsne-align-mechs.png\", format = \"PNG\", bbox_inches='tight')"
   ]
  },
  {
   "cell_type": "code",
   "execution_count": null,
   "metadata": {},
   "outputs": [],
   "source": []
  }
 ],
 "metadata": {
  "kernelspec": {
   "display_name": "deepsea",
   "language": "python",
   "name": "python3"
  },
  "language_info": {
   "codemirror_mode": {
    "name": "ipython",
    "version": 3
   },
   "file_extension": ".py",
   "mimetype": "text/x-python",
   "name": "python",
   "nbconvert_exporter": "python",
   "pygments_lexer": "ipython3",
   "version": "3.11.8"
  }
 },
 "nbformat": 4,
 "nbformat_minor": 2
}
