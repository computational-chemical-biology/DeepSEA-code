{
 "cells": [
  {
   "cell_type": "code",
   "execution_count": null,
   "metadata": {},
   "outputs": [],
   "source": [
    "import pandas as pd\n",
    "import seaborn as sn\n",
    "import numpy as np\n",
    "import tensorflow as tf\n",
    "import joblib\n",
    "from sklearn.manifold import TSNE\n",
    "import plotly.express as px\n"
   ]
  },
  {
   "cell_type": "code",
   "execution_count": null,
   "metadata": {},
   "outputs": [],
   "source": [
    "HDM = [60,50,50]\n",
    "NCRD = [70,50,60]\n"
   ]
  },
  {
   "cell_type": "code",
   "execution_count": null,
   "metadata": {},
   "outputs": [],
   "source": [
    "EPOCHS = 20\n",
    "CNN_DIM = HDM[0]\n",
    "CNNS_DIM = HMD[1]\n",
    "GRU_DIM = HDM[2]"
   ]
  },
  {
   "cell_type": "code",
   "execution_count": null,
   "metadata": {},
   "outputs": [],
   "source": [
    "ENCODER =joblib.load(\"../data/NCRD/ncrd95-uniprot-ma_clf_enc.joblib\")\n",
    "TRAIN = \"../data/NCRD/TrainNcrd95-ma.csv\"\n",
    "TEST = \"../data/NCRD/TestNcrd95-ma.csv\"\n",
    "MODELDIR = \"../models/Fase5-NCRD\"\n"
   ]
  },
  {
   "cell_type": "code",
   "execution_count": null,
   "metadata": {},
   "outputs": [],
   "source": [
    "with tf.device(\"cpu\"):\n",
    "    train = pd.read_csv(TRAIN)\n",
    "    train = train[[\"Class\",\"Sequence\"]]\n",
    "    test = pd.read_csv(TEST)\n",
    "    sequences = pd.concat([train,test], axis = 0).Sequence.apply(lambda x: \" \".join(x))\n"
   ]
  },
  {
   "cell_type": "code",
   "execution_count": null,
   "metadata": {},
   "outputs": [],
   "source": [
    "MAX_LEN = max(pd.concat([train[train.Class != \"NonR\"],test[test.Class != \"NonR\"]], axis = 0).Sequence.apply(lambda x: len(x)))\n",
    "MAX_LEN"
   ]
  },
  {
   "cell_type": "code",
   "execution_count": null,
   "metadata": {},
   "outputs": [],
   "source": [
    "len(ENCODER.categories_[0])"
   ]
  },
  {
   "cell_type": "code",
   "execution_count": null,
   "metadata": {},
   "outputs": [],
   "source": [
    "test[\"Sequence\"] = test.Sequence.apply(lambda x: \" \".join(x))\n",
    "X_test = tf.convert_to_tensor(test.Sequence.to_list())\n",
    "y_test = test.Class.to_numpy().reshape(-1,1)"
   ]
  },
  {
   "cell_type": "code",
   "execution_count": null,
   "metadata": {},
   "outputs": [],
   "source": [
    "grur = tf.keras.models.Sequential()        \n",
    "grur.add(tf.keras.layers.TextVectorization(max_tokens = 21 + 2, output_mode = \"int\", standardize = None, output_sequence_length = MAX_LEN))\n",
    "grur.add(tf.keras.layers.Embedding(input_dim = 21 + 2, output_dim = GRU_DIM, input_length = MAX_LEN, mask_zero = True))\n",
    "grur.add(tf.keras.layers.GRU(512,return_sequences=True))\n",
    "grur.add(tf.keras.layers.GRU(512,return_sequences=True))\n",
    "grur.add(tf.keras.layers.GlobalAveragePooling1D())\n",
    "grur.layers[0].adapt(sequences)"
   ]
  },
  {
   "cell_type": "code",
   "execution_count": null,
   "metadata": {},
   "outputs": [],
   "source": [
    "cnnr = tf.keras.models.Sequential()        \n",
    "cnnr.add(tf.keras.layers.TextVectorization(max_tokens = 21 + 2, output_mode = \"int\", standardize = None, output_sequence_length = MAX_LEN))\n",
    "cnnr.add(tf.keras.layers.Embedding(input_dim = 21 + 2, output_dim = CNN_DIM, input_length = MAX_LEN, mask_zero = True))\n",
    "cnnr.add(tf.keras.layers.Conv1D(filters = 512,   kernel_size = 5, activation = \"relu\"))\n",
    "cnnr.add(tf.keras.layers.Conv1D(filters = 512/2, kernel_size = 5, activation = \"relu\"))\n",
    "cnnr.add(tf.keras.layers.Conv1D(filters = 512/4, kernel_size = 5, activation = \"relu\"))\n",
    "cnnr.add(tf.keras.layers.Conv1D(filters = 512/8, kernel_size = 5, activation = \"relu\"))\n",
    "cnnr.add(tf.keras.layers.GlobalAveragePooling1D())\n",
    "cnnr.layers[0].adapt(sequences)"
   ]
  },
  {
   "cell_type": "code",
   "execution_count": null,
   "metadata": {},
   "outputs": [],
   "source": [
    "cnnsr = tf.keras.models.Sequential()        \n",
    "cnnsr.add(tf.keras.layers.TextVectorization(max_tokens = 21 + 2, output_mode = \"int\", standardize = None, output_sequence_length = MAX_LEN))\n",
    "cnnsr.add(tf.keras.layers.Embedding(input_dim = 21 + 2, output_dim = GRU_DIM, input_length = MAX_LEN, mask_zero = True))\n",
    "cnnsr.add(tf.keras.layers.Conv1D(filters = 512,   kernel_size = 5, activation = \"relu\"))\n",
    "cnnsr.add(tf.keras.layers.Conv1D(filters = 512, kernel_size = 5, activation = \"relu\"))\n",
    "cnnsr.add(tf.keras.layers.Conv1D(filters = 512, kernel_size = 5, activation = \"relu\"))\n",
    "cnnsr.add(tf.keras.layers.Conv1D(filters = 512, kernel_size = 5, activation = \"relu\"))\n",
    "cnnsr.add(tf.keras.layers.GlobalAveragePooling1D())\n",
    "cnnsr.layers[0].adapt(sequences)"
   ]
  },
  {
   "cell_type": "code",
   "execution_count": null,
   "metadata": {},
   "outputs": [],
   "source": [
    "def model_apply(model,x):\n",
    "    model.pop()\n",
    "    maxpolling = model.predict(x)\n",
    "    return maxpolling"
   ]
  },
  {
   "cell_type": "code",
   "execution_count": null,
   "metadata": {},
   "outputs": [],
   "source": [
    "tf.keras.backend.clear_session()\n",
    "cnn = tf.keras.models.load_model(f\"{MODELDIR}/cnn\")\n",
    "cnn_emb_fitted = model_apply(cnn,X_test)\n",
    "\n",
    "tf.keras.backend.clear_session()\n",
    "cnn_emb_random = cnnr.predict(X_test)"
   ]
  },
  {
   "cell_type": "code",
   "execution_count": null,
   "metadata": {},
   "outputs": [],
   "source": [
    "tf.keras.backend.clear_session()\n",
    "cnns = tf.keras.models.load_model(f\"{MODELDIR}/cnn-same\")\n",
    "cnns_emb_fitted = model_apply(cnns,X_test)\n",
    "\n",
    "tf.keras.backend.clear_session()\n",
    "cnns_emb_random = cnnsr.predict(X_test)"
   ]
  },
  {
   "cell_type": "code",
   "execution_count": null,
   "metadata": {},
   "outputs": [],
   "source": [
    "tf.keras.backend.clear_session()\n",
    "gru = tf.keras.models.load_model(f\"{MODELDIR}/gru\")\n",
    "gru_emb_fitted = model_apply(gru,X_test)\n",
    "\n",
    "tf.keras.backend.clear_session()\n",
    "gru_emb_random = grur.predict(X_test)"
   ]
  },
  {
   "cell_type": "code",
   "execution_count": null,
   "metadata": {},
   "outputs": [],
   "source": [
    "test = test.replace({\"macrolide-lincosamide-streptogramin\":\"MLS\",\"NonR\":\"NRP\"})"
   ]
  },
  {
   "cell_type": "code",
   "execution_count": null,
   "metadata": {},
   "outputs": [],
   "source": [
    "cnn_fit_tsne  =  TSNE(n_components=2, learning_rate=\"auto\", n_iter=1000, perplexity=30).fit_transform(cnn_emb_fitted)\n",
    "cnn_rand_tsne =  TSNE(n_components=2, learning_rate=\"auto\", n_iter=1000, perplexity=30).fit_transform(cnn_emb_random)"
   ]
  },
  {
   "cell_type": "code",
   "execution_count": null,
   "metadata": {},
   "outputs": [],
   "source": [
    "category_orders = np.array(['MLS', 'aminoglycoside', 'beta-lactam', 'chloramphenicol','glycopeptide', 'macrolide', 'multidrug', 'phosphonic acid','rifamycin', 'tetracycline',\"NRP\"])"
   ]
  },
  {
   "cell_type": "code",
   "execution_count": null,
   "metadata": {},
   "outputs": [],
   "source": [
    "fig = px.scatter(\n",
    "    cnn_fit_tsne, x=0, y=1,\n",
    "    color=test.Class, \n",
    "    category_orders = {\"color\": category_orders},\n",
    "    labels={'color': 'Class'},\n",
    "    title = \"CNN HMD\",\n",
    "    color_discrete_sequence=px.colors.qualitative.Pastel\n",
    ")\n",
    "fig.update_layout(legend_traceorder=\"normal\")\n",
    "fig.update_traces(marker_size=7)\n",
    "fig.show()\n",
    "fig.write_image(f\"{MODELDIR}/cnn-tsne-classes.svg\")"
   ]
  },
  {
   "cell_type": "code",
   "execution_count": null,
   "metadata": {},
   "outputs": [],
   "source": [
    "fig = px.scatter(\n",
    "    cnn_rand_tsne, x=0, y=1,\n",
    "    color=test.Class, \n",
    "    category_orders = {\"color\": category_orders},\n",
    "    labels={'color': 'Class'},\n",
    "    title = \"CNN HMD\",\n",
    "    color_discrete_sequence=px.colors.qualitative.Pastel\n",
    ")\n",
    "fig.update_layout(legend_traceorder=\"normal\")\n",
    "fig.update_traces(marker_size=7)\n",
    "fig.show()\n",
    "fig.write_image(f\"{MODELDIR}/cnn-random-tsne-classes.svg\")"
   ]
  },
  {
   "cell_type": "markdown",
   "metadata": {},
   "source": [
    "SAME"
   ]
  },
  {
   "cell_type": "code",
   "execution_count": null,
   "metadata": {},
   "outputs": [],
   "source": [
    "cnns_fit_tsne  = TSNE(n_components=2, learning_rate=\"auto\", n_iter=1000, perplexity=30).fit_transform(cnns_emb_fitted)\n",
    "cnns_rand_tsne = TSNE(n_components=2, learning_rate=\"auto\", n_iter=1000, perplexity=30).fit_transform(cnns_emb_random)"
   ]
  },
  {
   "cell_type": "code",
   "execution_count": null,
   "metadata": {},
   "outputs": [],
   "source": [
    "fig = px.scatter(\n",
    "    cnns_fit_tsne, x=0, y=1,\n",
    "    color=test.Class, \n",
    "    category_orders = {\"color\": category_orders},\n",
    "    labels={'color': 'Class'},\n",
    "    title = \"CNN-same HMD\",\n",
    "    color_discrete_sequence=px.colors.qualitative.Pastel\n",
    ")\n",
    "fig.update_layout(legend_traceorder=\"normal\")\n",
    "fig.update_traces(marker_size=7)\n",
    "fig.show()\n",
    "fig.write_image(f\"{MODELDIR}/cnn-same-tsne-classes.svg\")"
   ]
  },
  {
   "cell_type": "code",
   "execution_count": null,
   "metadata": {},
   "outputs": [],
   "source": [
    "fig = px.scatter(\n",
    "    cnns_rand_tsne, x=0, y=1,\n",
    "    color=test.Class, \n",
    "    category_orders = {\"color\": category_orders},\n",
    "    labels={'color': 'Class'},\n",
    "    title = \"CNN-same HMD\",\n",
    "    color_discrete_sequence=px.colors.qualitative.Pastel\n",
    ")\n",
    "fig.update_layout(legend_traceorder=\"normal\")\n",
    "fig.update_traces(marker_size=7)\n",
    "fig.show()\n",
    "fig.write_image(f\"{MODELDIR}/cnn-same-random-tsne-classes.svg\")"
   ]
  },
  {
   "cell_type": "markdown",
   "metadata": {},
   "source": [
    "GRU"
   ]
  },
  {
   "cell_type": "code",
   "execution_count": null,
   "metadata": {},
   "outputs": [],
   "source": [
    "gru_fit_tsne  =  TSNE(n_components=2, learning_rate=\"auto\", n_iter=1000, perplexity=30).fit_transform(gru_emb_fitted)\n",
    "gru_rand_tsne =  TSNE(n_components=2, learning_rate=\"auto\", n_iter=1000, perplexity=30).fit_transform(gru_emb_random)"
   ]
  },
  {
   "cell_type": "code",
   "execution_count": null,
   "metadata": {},
   "outputs": [],
   "source": [
    "fig = px.scatter(\n",
    "    gru_fit_tsne, x=0, y=1,\n",
    "    color=test.Class, \n",
    "    category_orders = {\"color\": category_orders},\n",
    "    labels={'color': 'Class'},\n",
    "    title = \"GRU HMD\",\n",
    "    color_discrete_sequence=px.colors.qualitative.Pastel\n",
    ")\n",
    "fig.update_layout(legend_traceorder=\"normal\")\n",
    "fig.update_traces(marker_size=7)\n",
    "fig.show()\n",
    "fig.write_image(f\"{MODELDIR}/gru-tsne-classes.svg\")"
   ]
  },
  {
   "cell_type": "code",
   "execution_count": null,
   "metadata": {},
   "outputs": [],
   "source": [
    "fig = px.scatter(\n",
    "    gru_rand_tsne, x=0, y=1,\n",
    "    color=test.Class, \n",
    "    category_orders = {\"color\": category_orders},\n",
    "    labels={'color': 'Class'},\n",
    "    title = \"GRU HMD\",\n",
    "    color_discrete_sequence=px.colors.qualitative.Pastel\n",
    ")\n",
    "fig.update_layout(legend_traceorder=\"normal\")\n",
    "fig.update_traces(marker_size=7)\n",
    "fig.show()\n",
    "fig.write_image(f\"{MODELDIR}/gru-random-tsne-classes.svg\")"
   ]
  }
 ],
 "metadata": {
  "kernelspec": {
   "display_name": "deepsea",
   "language": "python",
   "name": "python3"
  },
  "language_info": {
   "codemirror_mode": {
    "name": "ipython",
    "version": 3
   },
   "file_extension": ".py",
   "mimetype": "text/x-python",
   "name": "python",
   "nbconvert_exporter": "python",
   "pygments_lexer": "ipython3",
   "version": "3.11.8"
  }
 },
 "nbformat": 4,
 "nbformat_minor": 2
}
