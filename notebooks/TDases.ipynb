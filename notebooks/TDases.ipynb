{
 "cells": [
  {
   "cell_type": "code",
   "execution_count": 1,
   "metadata": {},
   "outputs": [
    {
     "name": "stderr",
     "output_type": "stream",
     "text": [
      "2024-04-25 09:59:07.345594: I tensorflow/core/util/port.cc:113] oneDNN custom operations are on. You may see slightly different numerical results due to floating-point round-off errors from different computation orders. To turn them off, set the environment variable `TF_ENABLE_ONEDNN_OPTS=0`.\n",
      "2024-04-25 09:59:07.368123: E external/local_xla/xla/stream_executor/cuda/cuda_dnn.cc:9261] Unable to register cuDNN factory: Attempting to register factory for plugin cuDNN when one has already been registered\n",
      "2024-04-25 09:59:07.368138: E external/local_xla/xla/stream_executor/cuda/cuda_fft.cc:607] Unable to register cuFFT factory: Attempting to register factory for plugin cuFFT when one has already been registered\n",
      "2024-04-25 09:59:07.368701: E external/local_xla/xla/stream_executor/cuda/cuda_blas.cc:1515] Unable to register cuBLAS factory: Attempting to register factory for plugin cuBLAS when one has already been registered\n",
      "2024-04-25 09:59:07.372631: I tensorflow/core/platform/cpu_feature_guard.cc:182] This TensorFlow binary is optimized to use available CPU instructions in performance-critical operations.\n",
      "To enable the following instructions: AVX2 AVX_VNNI FMA, in other operations, rebuild TensorFlow with the appropriate compiler flags.\n",
      "2024-04-25 09:59:07.788345: W tensorflow/compiler/tf2tensorrt/utils/py_utils.cc:38] TF-TRT Warning: Could not find TensorRT\n"
     ]
    }
   ],
   "source": [
    "import pandas as pd\n",
    "import numpy as np\n",
    "import joblib\n",
    "import matplotlib.pyplot as plt\n",
    "import tensorflow as tf\n",
    "import plotly.express as px\n",
    "tf.keras.backend.clear_session()\n"
   ]
  },
  {
   "cell_type": "code",
   "execution_count": 2,
   "metadata": {},
   "outputs": [],
   "source": [
    "MODELDIR = \"../../models\""
   ]
  },
  {
   "cell_type": "code",
   "execution_count": 3,
   "metadata": {},
   "outputs": [
    {
     "name": "stderr",
     "output_type": "stream",
     "text": [
      "/home/tiago/anaconda3/envs/deepsea-project/lib/python3.10/site-packages/sklearn/base.py:376: InconsistentVersionWarning: Trying to unpickle estimator OneHotEncoder from version 1.4.1.post1 when using version 1.4.2. This might lead to breaking code or invalid results. Use at your own risk. For more info please refer to:\n",
      "https://scikit-learn.org/stable/model_persistence.html#security-maintainability-limitations\n",
      "  warnings.warn(\n"
     ]
    },
    {
     "data": {
      "text/plain": [
       "[array(['NonR', 'aminoglycoside', 'beta-lactam', 'chloramphenicol',\n",
       "        'glycopeptide', 'macrolide', 'macrolide-lincosamide-streptogramin',\n",
       "        'multidrug', 'phosphonic acid', 'rifamycin', 'tetracycline'],\n",
       "       dtype=object)]"
      ]
     },
     "execution_count": 3,
     "metadata": {},
     "output_type": "execute_result"
    }
   ],
   "source": [
    "ENCODER_N = joblib.load(\"../data/NCRD/ncrd95-uniprot-ma_clf_enc.joblib\")\n",
    "ENCODER_N.categories_"
   ]
  },
  {
   "cell_type": "code",
   "execution_count": 4,
   "metadata": {},
   "outputs": [
    {
     "data": {
      "text/plain": [
       "[array(['aminoglycoside', 'beta-lactam', 'chloramphenicol', 'glycopeptide',\n",
       "        'macrolide', 'macrolide-lincosamide-streptogramin', 'multidrug',\n",
       "        'phosphonic acid', 'rifamycin', 'tetracycline'], dtype=object)]"
      ]
     },
     "execution_count": 4,
     "metadata": {},
     "output_type": "execute_result"
    }
   ],
   "source": [
    "ENCODER_P = joblib.load(\"../data/NCRD/ncrd95-ma_clf_enc.joblib\")\n",
    "ENCODER_P.categories_"
   ]
  },
  {
   "cell_type": "code",
   "execution_count": 5,
   "metadata": {},
   "outputs": [],
   "source": [
    "def model_eval_n(model,data):\n",
    "    yhat = model.predict(data)\n",
    "    yhat_prob =[np.round(x[np.argmax(x)],3)  for x in yhat]\n",
    "    yhat_oh = tf.convert_to_tensor([tf.one_hot(np.argmax(x),depth = len(ENCODER_N.categories_[0])) for x in yhat],dtype=tf.float32)\n",
    "    classes = ENCODER_N.inverse_transform(yhat_oh).squeeze()\n",
    "    return np.array(classes), np.array(yhat_prob)\n",
    "\n",
    "\n",
    "def model_eval_p(model,data):\n",
    "    yhat = model.predict(data)\n",
    "    yhat_prob =[np.round(x[np.argmax(x)],3)  for x in yhat]\n",
    "    yhat_oh = tf.convert_to_tensor([tf.one_hot(np.argmax(x),len(ENCODER_P.categories_[0])) for x in yhat],dtype=tf.float32)\n",
    "    classes = ENCODER_P.inverse_transform(yhat_oh).squeeze()\n",
    "    return np.array(classes), np.array(yhat_prob)"
   ]
  },
  {
   "cell_type": "markdown",
   "metadata": {},
   "source": [
    "---"
   ]
  },
  {
   "cell_type": "code",
   "execution_count": 6,
   "metadata": {},
   "outputs": [
    {
     "name": "stderr",
     "output_type": "stream",
     "text": [
      "2024-04-25 09:59:08.348818: I external/local_xla/xla/stream_executor/cuda/cuda_executor.cc:901] successful NUMA node read from SysFS had negative value (-1), but there must be at least one NUMA node, so returning NUMA node zero. See more at https://github.com/torvalds/linux/blob/v6.0/Documentation/ABI/testing/sysfs-bus-pci#L344-L355\n",
      "2024-04-25 09:59:08.366237: I external/local_xla/xla/stream_executor/cuda/cuda_executor.cc:901] successful NUMA node read from SysFS had negative value (-1), but there must be at least one NUMA node, so returning NUMA node zero. See more at https://github.com/torvalds/linux/blob/v6.0/Documentation/ABI/testing/sysfs-bus-pci#L344-L355\n",
      "2024-04-25 09:59:08.366488: I external/local_xla/xla/stream_executor/cuda/cuda_executor.cc:901] successful NUMA node read from SysFS had negative value (-1), but there must be at least one NUMA node, so returning NUMA node zero. See more at https://github.com/torvalds/linux/blob/v6.0/Documentation/ABI/testing/sysfs-bus-pci#L344-L355\n",
      "2024-04-25 09:59:08.368177: I external/local_xla/xla/stream_executor/cuda/cuda_executor.cc:901] successful NUMA node read from SysFS had negative value (-1), but there must be at least one NUMA node, so returning NUMA node zero. See more at https://github.com/torvalds/linux/blob/v6.0/Documentation/ABI/testing/sysfs-bus-pci#L344-L355\n",
      "2024-04-25 09:59:08.368360: I external/local_xla/xla/stream_executor/cuda/cuda_executor.cc:901] successful NUMA node read from SysFS had negative value (-1), but there must be at least one NUMA node, so returning NUMA node zero. See more at https://github.com/torvalds/linux/blob/v6.0/Documentation/ABI/testing/sysfs-bus-pci#L344-L355\n",
      "2024-04-25 09:59:08.368459: I external/local_xla/xla/stream_executor/cuda/cuda_executor.cc:901] successful NUMA node read from SysFS had negative value (-1), but there must be at least one NUMA node, so returning NUMA node zero. See more at https://github.com/torvalds/linux/blob/v6.0/Documentation/ABI/testing/sysfs-bus-pci#L344-L355\n",
      "2024-04-25 09:59:08.410457: I external/local_xla/xla/stream_executor/cuda/cuda_executor.cc:901] successful NUMA node read from SysFS had negative value (-1), but there must be at least one NUMA node, so returning NUMA node zero. See more at https://github.com/torvalds/linux/blob/v6.0/Documentation/ABI/testing/sysfs-bus-pci#L344-L355\n",
      "2024-04-25 09:59:08.410579: I external/local_xla/xla/stream_executor/cuda/cuda_executor.cc:901] successful NUMA node read from SysFS had negative value (-1), but there must be at least one NUMA node, so returning NUMA node zero. See more at https://github.com/torvalds/linux/blob/v6.0/Documentation/ABI/testing/sysfs-bus-pci#L344-L355\n",
      "2024-04-25 09:59:08.410648: I external/local_xla/xla/stream_executor/cuda/cuda_executor.cc:901] successful NUMA node read from SysFS had negative value (-1), but there must be at least one NUMA node, so returning NUMA node zero. See more at https://github.com/torvalds/linux/blob/v6.0/Documentation/ABI/testing/sysfs-bus-pci#L344-L355\n",
      "2024-04-25 09:59:08.410699: I tensorflow/core/common_runtime/gpu/gpu_device.cc:1929] Created device /job:localhost/replica:0/task:0/device:GPU:0 with 1103 MB memory:  -> device: 0, name: NVIDIA RTX A4500, pci bus id: 0000:01:00.0, compute capability: 8.6\n"
     ]
    }
   ],
   "source": [
    "func = list(\"YNNYYNNNNNNNYNNNNNNNNNYNNNNNNNNNNNNYYNYYYYYNYNNNYN\")\n",
    "\n",
    "dantas_data = pd.read_csv(\"../data/real/dantas/hmm-hit.tsv\",sep = \"\\t\",names = [\"Id\",\"Acc\",\"Sequence\"])\n",
    "dantas_data[\"Sequence\"] = dantas_data.Sequence.apply(lambda x: \" \".join(x))\n",
    "dantas_data[\"Func\"] = func\n",
    "X_dantas = tf.convert_to_tensor(dantas_data.Sequence.to_list())"
   ]
  },
  {
   "cell_type": "code",
   "execution_count": 7,
   "metadata": {},
   "outputs": [
    {
     "name": "stderr",
     "output_type": "stream",
     "text": [
      "2024-04-25 09:59:09.718983: I external/local_tsl/tsl/platform/default/subprocess.cc:304] Start cannot spawn child process: No such file or directory\n",
      "2024-04-25 09:59:09.967863: I external/local_xla/xla/stream_executor/cuda/cuda_dnn.cc:454] Loaded cuDNN version 8907\n",
      "2024-04-25 09:59:10.032588: I external/local_tsl/tsl/platform/default/subprocess.cc:304] Start cannot spawn child process: No such file or directory\n"
     ]
    },
    {
     "name": "stdout",
     "output_type": "stream",
     "text": [
      "2/2 [==============================] - 2s 696ms/step\n",
      "2/2 [==============================] - 0s 10ms/step\n",
      "2/2 [==============================] - 0s 10ms/step\n",
      "2/2 [==============================] - 0s 10ms/step\n",
      "WARNING:tensorflow:5 out of the last 9 calls to <function Model.make_predict_function.<locals>.predict_function at 0x7f2ee41a4310> triggered tf.function retracing. Tracing is expensive and the excessive number of tracings could be due to (1) creating @tf.function repeatedly in a loop, (2) passing tensors with different shapes, (3) passing Python objects instead of tensors. For (1), please define your @tf.function outside of the loop. For (2), @tf.function has reduce_retracing=True option that can avoid unnecessary retracing. For (3), please refer to https://www.tensorflow.org/guide/function#controlling_retracing and https://www.tensorflow.org/api_docs/python/tf/function for  more details.\n",
      "2/2 [==============================] - 0s 9ms/step\n"
     ]
    }
   ],
   "source": [
    "tf.keras.backend.clear_session()\n",
    "cnn_ARPs = tf.keras.models.load_model(f\"{MODELDIR}/Fase5-NCRD/cnn\")\n",
    "cnn_aligned = tf.keras.models.load_model(f\"{MODELDIR}/Fase5-NCRD-neg-align/cnn\")\n",
    "cnn_unaligned = tf.keras.models.load_model(f\"{MODELDIR}/Fase5-NCRD-neg-unalign/cnn\")\n",
    "cnn_unaligned50 = tf.keras.models.load_model(f\"{MODELDIR}/Fase5-NCRD-neg-unalign50/cnn\")\n",
    "cnn_unaligned100 = tf.keras.models.load_model(f\"{MODELDIR}/Fase5-NCRD-neg-unalign100/cnn\")\n",
    "\n",
    "tf.keras.backend.clear_session()\n",
    "yhat = model_eval_p(cnn_ARPs,X_dantas)\n",
    "yhat_align = model_eval_n(cnn_aligned, X_dantas)\n",
    "yhat_unalign = model_eval_n(cnn_unaligned, X_dantas)\n",
    "yhat_unalign50 = model_eval_n(cnn_unaligned50,X_dantas)\n",
    "yhat_unalign100 = model_eval_n(cnn_unaligned100,X_dantas)\n",
    "\n",
    "dantas_data[\"CNN-Only-ARPs-class\"] = yhat[0]\n",
    "dantas_data[\"CNN-Only-ARPs-prob\"] = yhat[1]\n",
    "dantas_data[\"CNN-Only-ARPs-class\"] = dantas_data[\"CNN-Only-ARPs-class\"].where(dantas_data[\"CNN-Only-ARPs-prob\"] > 0.5, \"NonR\").to_list()\n",
    "\n",
    "dantas_data[\"CNN-Aligned-class\"] = yhat_align[0]\n",
    "dantas_data[\"CNN-Aligned-prob\"] = yhat_align[1]\n",
    "dantas_data[\"CNN-Unaligned-class\"] = yhat_unalign[0]\n",
    "dantas_data[\"CNN-Unaligned-prob\"] = yhat_unalign[1]\n",
    "# dantas_data[\"CNN-Unaligned50-class\"] = yhat_unalign50[0]\n",
    "# dantas_data[\"CNN-Unaligned50-prob\"] = yhat_unalign50[1]\n",
    "# dantas_data[\"CNN-Unaligned100-class\"] = yhat_unalign100[0]\n",
    "# dantas_data[\"CNN-Unaligned100-prob\"] = yhat_unalign100[1]"
   ]
  },
  {
   "cell_type": "code",
   "execution_count": 8,
   "metadata": {},
   "outputs": [
    {
     "name": "stderr",
     "output_type": "stream",
     "text": [
      "2024-04-25 09:59:14.169443: W external/local_tsl/tsl/framework/bfc_allocator.cc:296] Allocator (GPU_0_bfc) ran out of memory trying to allocate 714.62MiB with freed_by_count=0. The caller indicates that this is not a failure, but this may mean that there could be performance gains if more memory were available.\n",
      "2024-04-25 09:59:14.485659: W external/local_tsl/tsl/framework/bfc_allocator.cc:296] Allocator (GPU_0_bfc) ran out of memory trying to allocate 714.62MiB with freed_by_count=0. The caller indicates that this is not a failure, but this may mean that there could be performance gains if more memory were available.\n",
      "2024-04-25 09:59:14.814922: W external/local_tsl/tsl/framework/bfc_allocator.cc:296] Allocator (GPU_0_bfc) ran out of memory trying to allocate 714.12MiB with freed_by_count=0. The caller indicates that this is not a failure, but this may mean that there could be performance gains if more memory were available.\n",
      "2024-04-25 09:59:15.138754: W external/local_tsl/tsl/framework/bfc_allocator.cc:296] Allocator (GPU_0_bfc) ran out of memory trying to allocate 714.12MiB with freed_by_count=0. The caller indicates that this is not a failure, but this may mean that there could be performance gains if more memory were available.\n",
      "2024-04-25 09:59:15.473503: W external/local_tsl/tsl/framework/bfc_allocator.cc:296] Allocator (GPU_0_bfc) ran out of memory trying to allocate 713.62MiB with freed_by_count=0. The caller indicates that this is not a failure, but this may mean that there could be performance gains if more memory were available.\n"
     ]
    },
    {
     "name": "stdout",
     "output_type": "stream",
     "text": [
      "WARNING:tensorflow:6 out of the last 11 calls to <function Model.make_predict_function.<locals>.predict_function at 0x7f2ec2a0bd90> triggered tf.function retracing. Tracing is expensive and the excessive number of tracings could be due to (1) creating @tf.function repeatedly in a loop, (2) passing tensors with different shapes, (3) passing Python objects instead of tensors. For (1), please define your @tf.function outside of the loop. For (2), @tf.function has reduce_retracing=True option that can avoid unnecessary retracing. For (3), please refer to https://www.tensorflow.org/guide/function#controlling_retracing and https://www.tensorflow.org/api_docs/python/tf/function for  more details.\n",
      "1/2 [==============>...............] - ETA: 2s"
     ]
    },
    {
     "name": "stderr",
     "output_type": "stream",
     "text": [
      "2024-04-25 09:59:15.798766: W external/local_tsl/tsl/framework/bfc_allocator.cc:296] Allocator (GPU_0_bfc) ran out of memory trying to allocate 713.62MiB with freed_by_count=0. The caller indicates that this is not a failure, but this may mean that there could be performance gains if more memory were available.\n"
     ]
    },
    {
     "name": "stdout",
     "output_type": "stream",
     "text": [
      "2/2 [==============================] - 4s 2s/step\n",
      "2/2 [==============================] - 0s 25ms/step\n",
      "2/2 [==============================] - 0s 26ms/step\n",
      "2/2 [==============================] - 0s 25ms/step\n",
      "2/2 [==============================] - 0s 26ms/step\n"
     ]
    }
   ],
   "source": [
    "tf.keras.backend.clear_session()\n",
    "cnn_ARPs = tf.keras.models.load_model(f\"{MODELDIR}/Fase5-NCRD/cnn-same\")\n",
    "cnn_aligned = tf.keras.models.load_model(f\"{MODELDIR}/Fase5-NCRD-neg-align/cnn-same\")\n",
    "cnn_unaligned = tf.keras.models.load_model(f\"{MODELDIR}/Fase5-NCRD-neg-unalign/cnn-same\")\n",
    "cnn_unaligned50 = tf.keras.models.load_model(f\"{MODELDIR}/Fase5-NCRD-neg-unalign50/cnn-same\")\n",
    "cnn_unaligned100 = tf.keras.models.load_model(f\"{MODELDIR}/Fase5-NCRD-neg-unalign100/cnn-same\")\n",
    "\n",
    "tf.keras.backend.clear_session()\n",
    "yhat = model_eval_p(cnn_ARPs,X_dantas)\n",
    "yhat_align = model_eval_n(cnn_aligned, X_dantas)\n",
    "yhat_unalign = model_eval_n(cnn_unaligned, X_dantas)\n",
    "yhat_unalign50 = model_eval_n(cnn_unaligned50,X_dantas)\n",
    "yhat_unalign100 = model_eval_n(cnn_unaligned100,X_dantas)\n",
    "\n",
    "dantas_data[\"CNNS-Only-ARPs-class\"] = yhat[0]\n",
    "dantas_data[\"CNNS-Only-ARPs-prob\"] = yhat[1]\n",
    "dantas_data[\"CNNS-Only-ARPs-class\"] = dantas_data[\"CNNS-Only-ARPs-class\"].where(dantas_data[\"CNNS-Only-ARPs-prob\"] > 0.5, \"NonR\").to_list()\n",
    "\n",
    "dantas_data[\"CNNS-Aligned-class\"] = yhat_align[0]\n",
    "dantas_data[\"CNNS-Aligned-prob\"] = yhat_align[1]\n",
    "dantas_data[\"CNNS-Unaligned-class\"] = yhat_unalign[0]\n",
    "dantas_data[\"CNNS-Unaligned-prob\"] = yhat_unalign[1]\n",
    "# dantas_data[\"CNNS-Unaligned50-class\"] = yhat_unalign50[0]\n",
    "# dantas_data[\"CNNS-Unaligned50-prob\"] = yhat_unalign50[1]\n",
    "# dantas_data[\"CNNS-Unaligned100-class\"] = yhat_unalign100[0]\n",
    "# dantas_data[\"CNNS-Unaligned100-prob\"] = yhat_unalign100[1]"
   ]
  },
  {
   "cell_type": "code",
   "execution_count": 9,
   "metadata": {},
   "outputs": [
    {
     "name": "stderr",
     "output_type": "stream",
     "text": [
      "2024-04-25 09:59:18.385716: W tensorflow/core/common_runtime/graph_constructor.cc:840] Node 'cond/while' has 13 outputs but the _output_shapes attribute specifies shapes for 40 outputs. Output shapes may be inaccurate.\n",
      "2024-04-25 09:59:18.392072: W tensorflow/core/common_runtime/graph_constructor.cc:840] Node 'cond/while' has 13 outputs but the _output_shapes attribute specifies shapes for 40 outputs. Output shapes may be inaccurate.\n",
      "2024-04-25 09:59:18.470264: W tensorflow/core/common_runtime/graph_constructor.cc:840] Node 'cond/while' has 13 outputs but the _output_shapes attribute specifies shapes for 40 outputs. Output shapes may be inaccurate.\n",
      "2024-04-25 09:59:18.474753: W tensorflow/core/common_runtime/graph_constructor.cc:840] Node 'cond' has 4 outputs but the _output_shapes attribute specifies shapes for 40 outputs. Output shapes may be inaccurate.\n",
      "2024-04-25 09:59:18.636137: W tensorflow/core/common_runtime/graph_constructor.cc:840] Node 'cond/while' has 13 outputs but the _output_shapes attribute specifies shapes for 40 outputs. Output shapes may be inaccurate.\n",
      "2024-04-25 09:59:18.723578: W tensorflow/core/common_runtime/graph_constructor.cc:840] Node 'cond/while' has 13 outputs but the _output_shapes attribute specifies shapes for 40 outputs. Output shapes may be inaccurate.\n",
      "2024-04-25 09:59:18.727975: W tensorflow/core/common_runtime/graph_constructor.cc:840] Node 'cond' has 4 outputs but the _output_shapes attribute specifies shapes for 40 outputs. Output shapes may be inaccurate.\n",
      "2024-04-25 09:59:18.909857: W tensorflow/core/common_runtime/graph_constructor.cc:840] Node 'cond/while' has 13 outputs but the _output_shapes attribute specifies shapes for 40 outputs. Output shapes may be inaccurate.\n",
      "2024-04-25 09:59:18.914565: W tensorflow/core/common_runtime/graph_constructor.cc:840] Node 'cond' has 4 outputs but the _output_shapes attribute specifies shapes for 40 outputs. Output shapes may be inaccurate.\n",
      "2024-04-25 09:59:19.012054: W tensorflow/core/common_runtime/graph_constructor.cc:840] Node 'cond/while' has 13 outputs but the _output_shapes attribute specifies shapes for 40 outputs. Output shapes may be inaccurate.\n",
      "2024-04-25 09:59:19.070523: W tensorflow/core/common_runtime/graph_constructor.cc:840] Node 'cond' has 4 outputs but the _output_shapes attribute specifies shapes for 40 outputs. Output shapes may be inaccurate.\n",
      "2024-04-25 09:59:19.173465: W tensorflow/core/common_runtime/graph_constructor.cc:840] Node 'cond' has 4 outputs but the _output_shapes attribute specifies shapes for 40 outputs. Output shapes may be inaccurate.\n",
      "2024-04-25 09:59:19.200660: W tensorflow/core/common_runtime/graph_constructor.cc:840] Node 'cond' has 4 outputs but the _output_shapes attribute specifies shapes for 40 outputs. Output shapes may be inaccurate.\n",
      "2024-04-25 09:59:19.244821: W tensorflow/core/common_runtime/graph_constructor.cc:840] Node 'cond' has 4 outputs but the _output_shapes attribute specifies shapes for 40 outputs. Output shapes may be inaccurate.\n",
      "2024-04-25 09:59:19.326754: W tensorflow/core/common_runtime/graph_constructor.cc:840] Node 'cond/while' has 13 outputs but the _output_shapes attribute specifies shapes for 40 outputs. Output shapes may be inaccurate.\n",
      "2024-04-25 09:59:19.331171: W tensorflow/core/common_runtime/graph_constructor.cc:840] Node 'cond' has 4 outputs but the _output_shapes attribute specifies shapes for 40 outputs. Output shapes may be inaccurate.\n",
      "2024-04-25 09:59:19.559744: W tensorflow/core/common_runtime/graph_constructor.cc:840] Node 'cond/while' has 13 outputs but the _output_shapes attribute specifies shapes for 40 outputs. Output shapes may be inaccurate.\n",
      "2024-04-25 09:59:19.564503: W tensorflow/core/common_runtime/graph_constructor.cc:840] Node 'cond' has 4 outputs but the _output_shapes attribute specifies shapes for 40 outputs. Output shapes may be inaccurate.\n",
      "2024-04-25 09:59:19.572297: W tensorflow/core/common_runtime/graph_constructor.cc:840] Node 'cond/while' has 13 outputs but the _output_shapes attribute specifies shapes for 40 outputs. Output shapes may be inaccurate.\n",
      "2024-04-25 09:59:19.576802: W tensorflow/core/common_runtime/graph_constructor.cc:840] Node 'cond' has 4 outputs but the _output_shapes attribute specifies shapes for 40 outputs. Output shapes may be inaccurate.\n",
      "2024-04-25 09:59:20.728546: W tensorflow/core/common_runtime/graph_constructor.cc:840] Node 'cond/while' has 13 outputs but the _output_shapes attribute specifies shapes for 40 outputs. Output shapes may be inaccurate.\n",
      "2024-04-25 09:59:20.733352: W tensorflow/core/common_runtime/graph_constructor.cc:840] Node 'cond' has 4 outputs but the _output_shapes attribute specifies shapes for 40 outputs. Output shapes may be inaccurate.\n",
      "2024-04-25 09:59:21.171938: W tensorflow/core/common_runtime/graph_constructor.cc:840] Node 'cond/while' has 13 outputs but the _output_shapes attribute specifies shapes for 40 outputs. Output shapes may be inaccurate.\n",
      "2024-04-25 09:59:21.176707: W tensorflow/core/common_runtime/graph_constructor.cc:840] Node 'cond' has 4 outputs but the _output_shapes attribute specifies shapes for 40 outputs. Output shapes may be inaccurate.\n",
      "2024-04-25 09:59:21.225259: W tensorflow/core/common_runtime/graph_constructor.cc:840] Node 'cond/while' has 13 outputs but the _output_shapes attribute specifies shapes for 40 outputs. Output shapes may be inaccurate.\n",
      "2024-04-25 09:59:21.229619: W tensorflow/core/common_runtime/graph_constructor.cc:840] Node 'cond' has 4 outputs but the _output_shapes attribute specifies shapes for 40 outputs. Output shapes may be inaccurate.\n",
      "2024-04-25 09:59:21.266794: W tensorflow/core/common_runtime/graph_constructor.cc:840] Node 'cond/while' has 13 outputs but the _output_shapes attribute specifies shapes for 40 outputs. Output shapes may be inaccurate.\n",
      "2024-04-25 09:59:21.457572: W tensorflow/core/common_runtime/graph_constructor.cc:840] Node 'cond/while' has 13 outputs but the _output_shapes attribute specifies shapes for 40 outputs. Output shapes may be inaccurate.\n",
      "2024-04-25 09:59:21.462303: W tensorflow/core/common_runtime/graph_constructor.cc:840] Node 'cond' has 4 outputs but the _output_shapes attribute specifies shapes for 40 outputs. Output shapes may be inaccurate.\n",
      "2024-04-25 09:59:21.479195: W tensorflow/core/common_runtime/graph_constructor.cc:840] Node 'cond/while' has 13 outputs but the _output_shapes attribute specifies shapes for 40 outputs. Output shapes may be inaccurate.\n",
      "2024-04-25 09:59:21.483633: W tensorflow/core/common_runtime/graph_constructor.cc:840] Node 'cond' has 4 outputs but the _output_shapes attribute specifies shapes for 40 outputs. Output shapes may be inaccurate.\n",
      "2024-04-25 09:59:21.642507: W tensorflow/core/common_runtime/graph_constructor.cc:840] Node 'cond/while' has 13 outputs but the _output_shapes attribute specifies shapes for 40 outputs. Output shapes may be inaccurate.\n",
      "2024-04-25 09:59:21.646860: W tensorflow/core/common_runtime/graph_constructor.cc:840] Node 'cond' has 4 outputs but the _output_shapes attribute specifies shapes for 40 outputs. Output shapes may be inaccurate.\n",
      "2024-04-25 09:59:21.655360: W tensorflow/core/common_runtime/graph_constructor.cc:840] Node 'cond/while' has 13 outputs but the _output_shapes attribute specifies shapes for 40 outputs. Output shapes may be inaccurate.\n",
      "2024-04-25 09:59:21.659634: W tensorflow/core/common_runtime/graph_constructor.cc:840] Node 'cond' has 4 outputs but the _output_shapes attribute specifies shapes for 40 outputs. Output shapes may be inaccurate.\n",
      "2024-04-25 09:59:21.674930: W tensorflow/core/common_runtime/graph_constructor.cc:840] Node 'cond' has 4 outputs but the _output_shapes attribute specifies shapes for 40 outputs. Output shapes may be inaccurate.\n",
      "2024-04-25 09:59:21.709539: W tensorflow/core/common_runtime/graph_constructor.cc:840] Node 'cond/while' has 13 outputs but the _output_shapes attribute specifies shapes for 40 outputs. Output shapes may be inaccurate.\n",
      "2024-04-25 09:59:21.718957: W tensorflow/core/common_runtime/graph_constructor.cc:840] Node 'cond' has 4 outputs but the _output_shapes attribute specifies shapes for 40 outputs. Output shapes may be inaccurate.\n",
      "2024-04-25 09:59:21.760058: W tensorflow/core/common_runtime/graph_constructor.cc:840] Node 'cond/while' has 13 outputs but the _output_shapes attribute specifies shapes for 40 outputs. Output shapes may be inaccurate.\n",
      "2024-04-25 09:59:21.764430: W tensorflow/core/common_runtime/graph_constructor.cc:840] Node 'cond' has 4 outputs but the _output_shapes attribute specifies shapes for 40 outputs. Output shapes may be inaccurate.\n",
      "2024-04-25 09:59:23.243932: W tensorflow/core/common_runtime/graph_constructor.cc:840] Node 'cond/while' has 13 outputs but the _output_shapes attribute specifies shapes for 40 outputs. Output shapes may be inaccurate.\n",
      "2024-04-25 09:59:23.253105: W tensorflow/core/common_runtime/graph_constructor.cc:840] Node 'cond/while' has 13 outputs but the _output_shapes attribute specifies shapes for 40 outputs. Output shapes may be inaccurate.\n",
      "2024-04-25 09:59:23.257703: W tensorflow/core/common_runtime/graph_constructor.cc:840] Node 'cond' has 4 outputs but the _output_shapes attribute specifies shapes for 40 outputs. Output shapes may be inaccurate.\n",
      "2024-04-25 09:59:23.414205: W tensorflow/core/common_runtime/graph_constructor.cc:840] Node 'cond/while' has 13 outputs but the _output_shapes attribute specifies shapes for 40 outputs. Output shapes may be inaccurate.\n",
      "2024-04-25 09:59:23.418577: W tensorflow/core/common_runtime/graph_constructor.cc:840] Node 'cond' has 4 outputs but the _output_shapes attribute specifies shapes for 40 outputs. Output shapes may be inaccurate.\n",
      "2024-04-25 09:59:23.429523: W tensorflow/core/common_runtime/graph_constructor.cc:840] Node 'cond/while' has 13 outputs but the _output_shapes attribute specifies shapes for 40 outputs. Output shapes may be inaccurate.\n",
      "2024-04-25 09:59:23.455882: W tensorflow/core/common_runtime/graph_constructor.cc:840] Node 'cond/while' has 13 outputs but the _output_shapes attribute specifies shapes for 40 outputs. Output shapes may be inaccurate.\n",
      "2024-04-25 09:59:23.460812: W tensorflow/core/common_runtime/graph_constructor.cc:840] Node 'cond' has 4 outputs but the _output_shapes attribute specifies shapes for 40 outputs. Output shapes may be inaccurate.\n",
      "2024-04-25 09:59:23.514056: W tensorflow/core/common_runtime/graph_constructor.cc:840] Node 'cond/while' has 13 outputs but the _output_shapes attribute specifies shapes for 40 outputs. Output shapes may be inaccurate.\n",
      "2024-04-25 09:59:23.518430: W tensorflow/core/common_runtime/graph_constructor.cc:840] Node 'cond' has 4 outputs but the _output_shapes attribute specifies shapes for 40 outputs. Output shapes may be inaccurate.\n",
      "2024-04-25 09:59:23.523182: W tensorflow/core/common_runtime/graph_constructor.cc:840] Node 'cond/while' has 13 outputs but the _output_shapes attribute specifies shapes for 40 outputs. Output shapes may be inaccurate.\n",
      "2024-04-25 09:59:23.527673: W tensorflow/core/common_runtime/graph_constructor.cc:840] Node 'cond' has 4 outputs but the _output_shapes attribute specifies shapes for 40 outputs. Output shapes may be inaccurate.\n",
      "2024-04-25 09:59:23.534741: W tensorflow/core/common_runtime/graph_constructor.cc:840] Node 'cond' has 4 outputs but the _output_shapes attribute specifies shapes for 40 outputs. Output shapes may be inaccurate.\n",
      "2024-04-25 09:59:23.804683: W tensorflow/core/common_runtime/graph_constructor.cc:840] Node 'cond/while' has 13 outputs but the _output_shapes attribute specifies shapes for 40 outputs. Output shapes may be inaccurate.\n",
      "2024-04-25 09:59:23.809795: W tensorflow/core/common_runtime/graph_constructor.cc:840] Node 'cond' has 4 outputs but the _output_shapes attribute specifies shapes for 40 outputs. Output shapes may be inaccurate.\n",
      "2024-04-25 09:59:23.832942: W tensorflow/core/common_runtime/graph_constructor.cc:840] Node 'cond/while' has 13 outputs but the _output_shapes attribute specifies shapes for 40 outputs. Output shapes may be inaccurate.\n",
      "2024-04-25 09:59:23.837861: W tensorflow/core/common_runtime/graph_constructor.cc:840] Node 'cond' has 4 outputs but the _output_shapes attribute specifies shapes for 40 outputs. Output shapes may be inaccurate.\n",
      "2024-04-25 09:59:23.854191: W tensorflow/core/common_runtime/graph_constructor.cc:840] Node 'cond/while' has 13 outputs but the _output_shapes attribute specifies shapes for 40 outputs. Output shapes may be inaccurate.\n",
      "2024-04-25 09:59:23.858587: W tensorflow/core/common_runtime/graph_constructor.cc:840] Node 'cond' has 4 outputs but the _output_shapes attribute specifies shapes for 40 outputs. Output shapes may be inaccurate.\n",
      "2024-04-25 09:59:23.895535: W tensorflow/core/common_runtime/graph_constructor.cc:840] Node 'cond' has 4 outputs but the _output_shapes attribute specifies shapes for 40 outputs. Output shapes may be inaccurate.\n",
      "2024-04-25 09:59:25.179932: W tensorflow/core/common_runtime/graph_constructor.cc:840] Node 'cond/while' has 13 outputs but the _output_shapes attribute specifies shapes for 40 outputs. Output shapes may be inaccurate.\n",
      "2024-04-25 09:59:25.220927: W tensorflow/core/common_runtime/graph_constructor.cc:840] Node 'cond/while' has 13 outputs but the _output_shapes attribute specifies shapes for 40 outputs. Output shapes may be inaccurate.\n",
      "2024-04-25 09:59:25.226154: W tensorflow/core/common_runtime/graph_constructor.cc:840] Node 'cond' has 4 outputs but the _output_shapes attribute specifies shapes for 40 outputs. Output shapes may be inaccurate.\n",
      "2024-04-25 09:59:25.261280: W tensorflow/core/common_runtime/graph_constructor.cc:840] Node 'cond/while' has 13 outputs but the _output_shapes attribute specifies shapes for 40 outputs. Output shapes may be inaccurate.\n",
      "2024-04-25 09:59:25.265795: W tensorflow/core/common_runtime/graph_constructor.cc:840] Node 'cond' has 4 outputs but the _output_shapes attribute specifies shapes for 40 outputs. Output shapes may be inaccurate.\n",
      "2024-04-25 09:59:25.295863: W tensorflow/core/common_runtime/graph_constructor.cc:840] Node 'cond/while' has 13 outputs but the _output_shapes attribute specifies shapes for 40 outputs. Output shapes may be inaccurate.\n",
      "2024-04-25 09:59:25.323959: W tensorflow/core/common_runtime/graph_constructor.cc:840] Node 'cond/while' has 13 outputs but the _output_shapes attribute specifies shapes for 40 outputs. Output shapes may be inaccurate.\n",
      "2024-04-25 09:59:25.328577: W tensorflow/core/common_runtime/graph_constructor.cc:840] Node 'cond' has 4 outputs but the _output_shapes attribute specifies shapes for 40 outputs. Output shapes may be inaccurate.\n",
      "2024-04-25 09:59:25.622633: W tensorflow/core/common_runtime/graph_constructor.cc:840] Node 'cond' has 4 outputs but the _output_shapes attribute specifies shapes for 40 outputs. Output shapes may be inaccurate.\n",
      "2024-04-25 09:59:25.635559: W tensorflow/core/common_runtime/graph_constructor.cc:840] Node 'cond/while' has 13 outputs but the _output_shapes attribute specifies shapes for 40 outputs. Output shapes may be inaccurate.\n",
      "2024-04-25 09:59:25.639883: W tensorflow/core/common_runtime/graph_constructor.cc:840] Node 'cond' has 4 outputs but the _output_shapes attribute specifies shapes for 40 outputs. Output shapes may be inaccurate.\n",
      "2024-04-25 09:59:25.874020: W tensorflow/core/common_runtime/graph_constructor.cc:840] Node 'cond/while' has 13 outputs but the _output_shapes attribute specifies shapes for 40 outputs. Output shapes may be inaccurate.\n",
      "2024-04-25 09:59:25.880317: W tensorflow/core/common_runtime/graph_constructor.cc:840] Node 'cond' has 4 outputs but the _output_shapes attribute specifies shapes for 40 outputs. Output shapes may be inaccurate.\n",
      "2024-04-25 09:59:25.918528: W tensorflow/core/common_runtime/graph_constructor.cc:840] Node 'cond/while' has 13 outputs but the _output_shapes attribute specifies shapes for 40 outputs. Output shapes may be inaccurate.\n",
      "2024-04-25 09:59:25.922870: W tensorflow/core/common_runtime/graph_constructor.cc:840] Node 'cond' has 4 outputs but the _output_shapes attribute specifies shapes for 40 outputs. Output shapes may be inaccurate.\n",
      "2024-04-25 09:59:26.114226: W tensorflow/core/common_runtime/graph_constructor.cc:840] Node 'cond' has 4 outputs but the _output_shapes attribute specifies shapes for 40 outputs. Output shapes may be inaccurate.\n",
      "2024-04-25 09:59:26.124284: W tensorflow/core/common_runtime/graph_constructor.cc:840] Node 'cond/while' has 13 outputs but the _output_shapes attribute specifies shapes for 40 outputs. Output shapes may be inaccurate.\n",
      "2024-04-25 09:59:26.128706: W tensorflow/core/common_runtime/graph_constructor.cc:840] Node 'cond' has 4 outputs but the _output_shapes attribute specifies shapes for 40 outputs. Output shapes may be inaccurate.\n",
      "2024-04-25 09:59:26.143032: W tensorflow/core/common_runtime/graph_constructor.cc:840] Node 'cond/while' has 13 outputs but the _output_shapes attribute specifies shapes for 40 outputs. Output shapes may be inaccurate.\n",
      "2024-04-25 09:59:26.147261: W tensorflow/core/common_runtime/graph_constructor.cc:840] Node 'cond' has 4 outputs but the _output_shapes attribute specifies shapes for 40 outputs. Output shapes may be inaccurate.\n",
      "2024-04-25 09:59:27.170646: W tensorflow/core/common_runtime/graph_constructor.cc:840] Node 'cond/while' has 13 outputs but the _output_shapes attribute specifies shapes for 40 outputs. Output shapes may be inaccurate.\n",
      "2024-04-25 09:59:27.258384: W tensorflow/core/common_runtime/graph_constructor.cc:840] Node 'cond/while' has 13 outputs but the _output_shapes attribute specifies shapes for 40 outputs. Output shapes may be inaccurate.\n",
      "2024-04-25 09:59:27.392535: W tensorflow/core/common_runtime/graph_constructor.cc:840] Node 'cond/while' has 13 outputs but the _output_shapes attribute specifies shapes for 40 outputs. Output shapes may be inaccurate.\n",
      "2024-04-25 09:59:27.399018: W tensorflow/core/common_runtime/graph_constructor.cc:840] Node 'cond/while' has 13 outputs but the _output_shapes attribute specifies shapes for 40 outputs. Output shapes may be inaccurate.\n",
      "2024-04-25 09:59:27.435721: W tensorflow/core/common_runtime/graph_constructor.cc:840] Node 'cond/while' has 13 outputs but the _output_shapes attribute specifies shapes for 40 outputs. Output shapes may be inaccurate.\n",
      "2024-04-25 09:59:27.456467: W tensorflow/core/common_runtime/graph_constructor.cc:840] Node 'cond' has 4 outputs but the _output_shapes attribute specifies shapes for 40 outputs. Output shapes may be inaccurate.\n",
      "2024-04-25 09:59:27.492388: W tensorflow/core/common_runtime/graph_constructor.cc:840] Node 'cond/while' has 13 outputs but the _output_shapes attribute specifies shapes for 40 outputs. Output shapes may be inaccurate.\n",
      "2024-04-25 09:59:27.496786: W tensorflow/core/common_runtime/graph_constructor.cc:840] Node 'cond' has 4 outputs but the _output_shapes attribute specifies shapes for 40 outputs. Output shapes may be inaccurate.\n",
      "2024-04-25 09:59:27.520793: W tensorflow/core/common_runtime/graph_constructor.cc:840] Node 'cond/while' has 13 outputs but the _output_shapes attribute specifies shapes for 40 outputs. Output shapes may be inaccurate.\n",
      "2024-04-25 09:59:27.525271: W tensorflow/core/common_runtime/graph_constructor.cc:840] Node 'cond' has 4 outputs but the _output_shapes attribute specifies shapes for 40 outputs. Output shapes may be inaccurate.\n",
      "2024-04-25 09:59:27.591234: W tensorflow/core/common_runtime/graph_constructor.cc:840] Node 'cond/while' has 13 outputs but the _output_shapes attribute specifies shapes for 40 outputs. Output shapes may be inaccurate.\n",
      "2024-04-25 09:59:27.596080: W tensorflow/core/common_runtime/graph_constructor.cc:840] Node 'cond' has 4 outputs but the _output_shapes attribute specifies shapes for 40 outputs. Output shapes may be inaccurate.\n",
      "2024-04-25 09:59:27.968795: W tensorflow/core/common_runtime/graph_constructor.cc:840] Node 'cond' has 4 outputs but the _output_shapes attribute specifies shapes for 40 outputs. Output shapes may be inaccurate.\n",
      "2024-04-25 09:59:27.999263: W tensorflow/core/common_runtime/graph_constructor.cc:840] Node 'cond' has 4 outputs but the _output_shapes attribute specifies shapes for 40 outputs. Output shapes may be inaccurate.\n",
      "2024-04-25 09:59:28.010197: W tensorflow/core/common_runtime/graph_constructor.cc:840] Node 'cond' has 4 outputs but the _output_shapes attribute specifies shapes for 40 outputs. Output shapes may be inaccurate.\n",
      "2024-04-25 09:59:28.170467: W tensorflow/core/common_runtime/graph_constructor.cc:840] Node 'cond/while' has 13 outputs but the _output_shapes attribute specifies shapes for 40 outputs. Output shapes may be inaccurate.\n",
      "2024-04-25 09:59:28.175569: W tensorflow/core/common_runtime/graph_constructor.cc:840] Node 'cond' has 4 outputs but the _output_shapes attribute specifies shapes for 40 outputs. Output shapes may be inaccurate.\n",
      "2024-04-25 09:59:28.183048: W tensorflow/core/common_runtime/graph_constructor.cc:840] Node 'cond' has 4 outputs but the _output_shapes attribute specifies shapes for 40 outputs. Output shapes may be inaccurate.\n",
      "2024-04-25 09:59:28.347166: W tensorflow/core/common_runtime/graph_constructor.cc:840] Node 'cond/while' has 13 outputs but the _output_shapes attribute specifies shapes for 40 outputs. Output shapes may be inaccurate.\n",
      "2024-04-25 09:59:28.351680: W tensorflow/core/common_runtime/graph_constructor.cc:840] Node 'cond' has 4 outputs but the _output_shapes attribute specifies shapes for 40 outputs. Output shapes may be inaccurate.\n",
      "2024-04-25 09:59:40.206878: W external/local_tsl/tsl/framework/bfc_allocator.cc:485] Allocator (GPU_0_bfc) ran out of memory trying to allocate 806.97MiB (rounded to 846168576)requested by op cond/then/_0/cond/CudnnRNNV3\n",
      "If the cause is memory fragmentation maybe the environment variable 'TF_GPU_ALLOCATOR=cuda_malloc_async' will improve the situation. \n",
      "Current allocation summary follows.\n",
      "Current allocation summary follows.\n",
      "2024-04-25 09:59:40.206962: I external/local_tsl/tsl/framework/bfc_allocator.cc:1039] BFCAllocator dump for GPU_0_bfc\n",
      "2024-04-25 09:59:40.206984: I external/local_tsl/tsl/framework/bfc_allocator.cc:1046] Bin (256): \tTotal Chunks: 135, Chunks in use: 134. 33.8KiB allocated for chunks. 33.5KiB in use in bin. 2.2KiB client-requested in use in bin.\n",
      "2024-04-25 09:59:40.206998: I external/local_tsl/tsl/framework/bfc_allocator.cc:1046] Bin (512): \tTotal Chunks: 0, Chunks in use: 0. 0B allocated for chunks. 0B in use in bin. 0B client-requested in use in bin.\n",
      "2024-04-25 09:59:40.207010: I external/local_tsl/tsl/framework/bfc_allocator.cc:1046] Bin (1024): \tTotal Chunks: 1, Chunks in use: 1. 1.2KiB allocated for chunks. 1.2KiB in use in bin. 1.0KiB client-requested in use in bin.\n",
      "2024-04-25 09:59:40.207024: I external/local_tsl/tsl/framework/bfc_allocator.cc:1046] Bin (2048): \tTotal Chunks: 12, Chunks in use: 8. 28.0KiB allocated for chunks. 16.0KiB in use in bin. 16.0KiB client-requested in use in bin.\n",
      "2024-04-25 09:59:40.207037: I external/local_tsl/tsl/framework/bfc_allocator.cc:1046] Bin (4096): \tTotal Chunks: 7, Chunks in use: 6. 40.0KiB allocated for chunks. 33.0KiB in use in bin. 30.5KiB client-requested in use in bin.\n",
      "2024-04-25 09:59:40.207050: I external/local_tsl/tsl/framework/bfc_allocator.cc:1046] Bin (8192): \tTotal Chunks: 10, Chunks in use: 8. 117.2KiB allocated for chunks. 94.8KiB in use in bin. 89.4KiB client-requested in use in bin.\n",
      "2024-04-25 09:59:40.207064: I external/local_tsl/tsl/framework/bfc_allocator.cc:1046] Bin (16384): \tTotal Chunks: 13, Chunks in use: 10. 295.5KiB allocated for chunks. 217.8KiB in use in bin. 188.0KiB client-requested in use in bin.\n",
      "2024-04-25 09:59:40.207075: I external/local_tsl/tsl/framework/bfc_allocator.cc:1046] Bin (32768): \tTotal Chunks: 1, Chunks in use: 0. 36.0KiB allocated for chunks. 0B in use in bin. 0B client-requested in use in bin.\n",
      "2024-04-25 09:59:40.207087: I external/local_tsl/tsl/framework/bfc_allocator.cc:1046] Bin (65536): \tTotal Chunks: 2, Chunks in use: 2. 128.0KiB allocated for chunks. 128.0KiB in use in bin. 128.0KiB client-requested in use in bin.\n",
      "2024-04-25 09:59:40.207100: I external/local_tsl/tsl/framework/bfc_allocator.cc:1046] Bin (131072): \tTotal Chunks: 2, Chunks in use: 1. 362.2KiB allocated for chunks. 130.2KiB in use in bin. 93.0KiB client-requested in use in bin.\n",
      "2024-04-25 09:59:40.207112: I external/local_tsl/tsl/framework/bfc_allocator.cc:1046] Bin (262144): \tTotal Chunks: 5, Chunks in use: 5. 1.76MiB allocated for chunks. 1.76MiB in use in bin. 1.76MiB client-requested in use in bin.\n",
      "2024-04-25 09:59:40.207123: I external/local_tsl/tsl/framework/bfc_allocator.cc:1046] Bin (524288): \tTotal Chunks: 4, Chunks in use: 3. 3.27MiB allocated for chunks. 2.53MiB in use in bin. 1.34MiB client-requested in use in bin.\n",
      "2024-04-25 09:59:40.207133: I external/local_tsl/tsl/framework/bfc_allocator.cc:1046] Bin (1048576): \tTotal Chunks: 0, Chunks in use: 0. 0B allocated for chunks. 0B in use in bin. 0B client-requested in use in bin.\n",
      "2024-04-25 09:59:40.207146: I external/local_tsl/tsl/framework/bfc_allocator.cc:1046] Bin (2097152): \tTotal Chunks: 14, Chunks in use: 12. 42.96MiB allocated for chunks. 36.96MiB in use in bin. 36.00MiB client-requested in use in bin.\n",
      "2024-04-25 09:59:40.207159: I external/local_tsl/tsl/framework/bfc_allocator.cc:1046] Bin (4194304): \tTotal Chunks: 11, Chunks in use: 10. 58.09MiB allocated for chunks. 52.09MiB in use in bin. 45.01MiB client-requested in use in bin.\n",
      "2024-04-25 09:59:40.207170: I external/local_tsl/tsl/framework/bfc_allocator.cc:1046] Bin (8388608): \tTotal Chunks: 1, Chunks in use: 0. 9.38MiB allocated for chunks. 0B in use in bin. 0B client-requested in use in bin.\n",
      "2024-04-25 09:59:40.207181: I external/local_tsl/tsl/framework/bfc_allocator.cc:1046] Bin (16777216): \tTotal Chunks: 2, Chunks in use: 0. 42.49MiB allocated for chunks. 0B in use in bin. 0B client-requested in use in bin.\n",
      "2024-04-25 09:59:40.207190: I external/local_tsl/tsl/framework/bfc_allocator.cc:1046] Bin (33554432): \tTotal Chunks: 0, Chunks in use: 0. 0B allocated for chunks. 0B in use in bin. 0B client-requested in use in bin.\n",
      "2024-04-25 09:59:40.207201: I external/local_tsl/tsl/framework/bfc_allocator.cc:1046] Bin (67108864): \tTotal Chunks: 0, Chunks in use: 0. 0B allocated for chunks. 0B in use in bin. 0B client-requested in use in bin.\n",
      "2024-04-25 09:59:40.207214: I external/local_tsl/tsl/framework/bfc_allocator.cc:1046] Bin (134217728): \tTotal Chunks: 2, Chunks in use: 2. 371.88MiB allocated for chunks. 371.88MiB in use in bin. 371.88MiB client-requested in use in bin.\n",
      "2024-04-25 09:59:40.207228: I external/local_tsl/tsl/framework/bfc_allocator.cc:1046] Bin (268435456): \tTotal Chunks: 1, Chunks in use: 0. 572.91MiB allocated for chunks. 0B in use in bin. 0B client-requested in use in bin.\n",
      "2024-04-25 09:59:40.207257: I external/local_tsl/tsl/framework/bfc_allocator.cc:1062] Bin for 806.97MiB was 256.00MiB, Chunk State: \n",
      "2024-04-25 09:59:40.207284: I external/local_tsl/tsl/framework/bfc_allocator.cc:1068]   Size: 572.91MiB | Requested Size: 1B | in_use: 0 | bin_num: 20, prev:   Size: 185.94MiB | Requested Size: 185.94MiB | in_use: 1 | bin_num: -1\n",
      "2024-04-25 09:59:40.207297: I external/local_tsl/tsl/framework/bfc_allocator.cc:1075] Next region of size 1157365760\n",
      "2024-04-25 09:59:40.207317: I external/local_tsl/tsl/framework/bfc_allocator.cc:1095] InUse at 7f2e66000000 of size 1280 next 1\n",
      "2024-04-25 09:59:40.207331: I external/local_tsl/tsl/framework/bfc_allocator.cc:1095] InUse at 7f2e66000500 of size 256 next 2\n",
      "2024-04-25 09:59:40.207344: I external/local_tsl/tsl/framework/bfc_allocator.cc:1095] InUse at 7f2e66000600 of size 256 next 3\n",
      "2024-04-25 09:59:40.207351: I external/local_tsl/tsl/framework/bfc_allocator.cc:1095] InUse at 7f2e66000700 of size 256 next 4\n",
      "2024-04-25 09:59:40.207363: I external/local_tsl/tsl/framework/bfc_allocator.cc:1095] InUse at 7f2e66000800 of size 256 next 5\n",
      "2024-04-25 09:59:40.207376: I external/local_tsl/tsl/framework/bfc_allocator.cc:1095] InUse at 7f2e66000900 of size 256 next 7\n",
      "2024-04-25 09:59:40.207389: I external/local_tsl/tsl/framework/bfc_allocator.cc:1095] InUse at 7f2e66000a00 of size 256 next 8\n",
      "2024-04-25 09:59:40.207402: I external/local_tsl/tsl/framework/bfc_allocator.cc:1095] InUse at 7f2e66000b00 of size 256 next 12\n",
      "2024-04-25 09:59:40.207413: I external/local_tsl/tsl/framework/bfc_allocator.cc:1095] InUse at 7f2e66000c00 of size 256 next 193\n",
      "2024-04-25 09:59:40.207424: I external/local_tsl/tsl/framework/bfc_allocator.cc:1095] InUse at 7f2e66000d00 of size 256 next 175\n",
      "2024-04-25 09:59:40.207435: I external/local_tsl/tsl/framework/bfc_allocator.cc:1095] InUse at 7f2e66000e00 of size 256 next 170\n",
      "2024-04-25 09:59:40.207446: I external/local_tsl/tsl/framework/bfc_allocator.cc:1095] InUse at 7f2e66000f00 of size 256 next 184\n",
      "2024-04-25 09:59:40.207459: I external/local_tsl/tsl/framework/bfc_allocator.cc:1095] InUse at 7f2e66001000 of size 256 next 48\n",
      "2024-04-25 09:59:40.207472: I external/local_tsl/tsl/framework/bfc_allocator.cc:1095] Free  at 7f2e66001100 of size 256 next 19\n",
      "2024-04-25 09:59:40.207484: I external/local_tsl/tsl/framework/bfc_allocator.cc:1095] InUse at 7f2e66001200 of size 256 next 52\n",
      "2024-04-25 09:59:40.207496: I external/local_tsl/tsl/framework/bfc_allocator.cc:1095] InUse at 7f2e66001300 of size 256 next 6\n",
      "2024-04-25 09:59:40.207508: I external/local_tsl/tsl/framework/bfc_allocator.cc:1095] InUse at 7f2e66001400 of size 256 next 9\n",
      "2024-04-25 09:59:40.207521: I external/local_tsl/tsl/framework/bfc_allocator.cc:1095] InUse at 7f2e66001500 of size 256 next 15\n",
      "2024-04-25 09:59:40.207533: I external/local_tsl/tsl/framework/bfc_allocator.cc:1095] InUse at 7f2e66001600 of size 256 next 57\n",
      "2024-04-25 09:59:40.207546: I external/local_tsl/tsl/framework/bfc_allocator.cc:1095] InUse at 7f2e66001700 of size 256 next 122\n",
      "2024-04-25 09:59:40.207558: I external/local_tsl/tsl/framework/bfc_allocator.cc:1095] InUse at 7f2e66001800 of size 256 next 106\n",
      "2024-04-25 09:59:40.207570: I external/local_tsl/tsl/framework/bfc_allocator.cc:1095] InUse at 7f2e66001900 of size 256 next 18\n",
      "2024-04-25 09:59:40.207582: I external/local_tsl/tsl/framework/bfc_allocator.cc:1095] InUse at 7f2e66001a00 of size 256 next 16\n",
      "2024-04-25 09:59:40.207594: I external/local_tsl/tsl/framework/bfc_allocator.cc:1095] InUse at 7f2e66001b00 of size 256 next 17\n",
      "2024-04-25 09:59:40.207605: I external/local_tsl/tsl/framework/bfc_allocator.cc:1095] InUse at 7f2e66001c00 of size 256 next 80\n",
      "2024-04-25 09:59:40.207618: I external/local_tsl/tsl/framework/bfc_allocator.cc:1095] InUse at 7f2e66001d00 of size 256 next 23\n",
      "2024-04-25 09:59:40.207631: I external/local_tsl/tsl/framework/bfc_allocator.cc:1095] InUse at 7f2e66001e00 of size 256 next 21\n",
      "2024-04-25 09:59:40.207647: I external/local_tsl/tsl/framework/bfc_allocator.cc:1095] InUse at 7f2e66001f00 of size 256 next 22\n",
      "2024-04-25 09:59:40.207660: I external/local_tsl/tsl/framework/bfc_allocator.cc:1095] InUse at 7f2e66002000 of size 256 next 27\n",
      "2024-04-25 09:59:40.207673: I external/local_tsl/tsl/framework/bfc_allocator.cc:1095] InUse at 7f2e66002100 of size 256 next 25\n",
      "2024-04-25 09:59:40.207685: I external/local_tsl/tsl/framework/bfc_allocator.cc:1095] InUse at 7f2e66002200 of size 256 next 26\n",
      "2024-04-25 09:59:40.207698: I external/local_tsl/tsl/framework/bfc_allocator.cc:1095] InUse at 7f2e66002300 of size 256 next 282\n",
      "2024-04-25 09:59:40.207711: I external/local_tsl/tsl/framework/bfc_allocator.cc:1095] InUse at 7f2e66002400 of size 256 next 275\n",
      "2024-04-25 09:59:40.207725: I external/local_tsl/tsl/framework/bfc_allocator.cc:1095] InUse at 7f2e66002500 of size 256 next 104\n",
      "2024-04-25 09:59:40.207738: I external/local_tsl/tsl/framework/bfc_allocator.cc:1095] InUse at 7f2e66002600 of size 256 next 33\n",
      "2024-04-25 09:59:40.207751: I external/local_tsl/tsl/framework/bfc_allocator.cc:1095] InUse at 7f2e66002700 of size 256 next 35\n",
      "2024-04-25 09:59:40.207764: I external/local_tsl/tsl/framework/bfc_allocator.cc:1095] InUse at 7f2e66002800 of size 256 next 163\n",
      "2024-04-25 09:59:40.207777: I external/local_tsl/tsl/framework/bfc_allocator.cc:1095] InUse at 7f2e66002900 of size 256 next 140\n",
      "2024-04-25 09:59:40.207789: I external/local_tsl/tsl/framework/bfc_allocator.cc:1095] InUse at 7f2e66002a00 of size 256 next 283\n",
      "2024-04-25 09:59:40.207802: I external/local_tsl/tsl/framework/bfc_allocator.cc:1095] InUse at 7f2e66002b00 of size 256 next 39\n",
      "2024-04-25 09:59:40.207815: I external/local_tsl/tsl/framework/bfc_allocator.cc:1095] InUse at 7f2e66002c00 of size 256 next 40\n",
      "2024-04-25 09:59:40.207829: I external/local_tsl/tsl/framework/bfc_allocator.cc:1095] InUse at 7f2e66002d00 of size 5632 next 64\n",
      "2024-04-25 09:59:40.207845: I external/local_tsl/tsl/framework/bfc_allocator.cc:1095] InUse at 7f2e66004300 of size 256 next 65\n",
      "2024-04-25 09:59:40.207859: I external/local_tsl/tsl/framework/bfc_allocator.cc:1095] InUse at 7f2e66004400 of size 256 next 126\n",
      "2024-04-25 09:59:40.207873: I external/local_tsl/tsl/framework/bfc_allocator.cc:1095] InUse at 7f2e66004500 of size 256 next 84\n",
      "2024-04-25 09:59:40.207888: I external/local_tsl/tsl/framework/bfc_allocator.cc:1095] InUse at 7f2e66004600 of size 256 next 132\n",
      "2024-04-25 09:59:40.207902: I external/local_tsl/tsl/framework/bfc_allocator.cc:1095] InUse at 7f2e66004700 of size 256 next 69\n",
      "2024-04-25 09:59:40.207915: I external/local_tsl/tsl/framework/bfc_allocator.cc:1095] InUse at 7f2e66004800 of size 256 next 70\n",
      "2024-04-25 09:59:40.207929: I external/local_tsl/tsl/framework/bfc_allocator.cc:1095] InUse at 7f2e66004900 of size 22528 next 153\n",
      "2024-04-25 09:59:40.207941: I external/local_tsl/tsl/framework/bfc_allocator.cc:1095] InUse at 7f2e6600a100 of size 22528 next 120\n",
      "2024-04-25 09:59:40.207957: I external/local_tsl/tsl/framework/bfc_allocator.cc:1095] InUse at 7f2e6600f900 of size 22528 next 81\n",
      "2024-04-25 09:59:40.207966: I external/local_tsl/tsl/framework/bfc_allocator.cc:1095] Free  at 7f2e66015100 of size 36864 next 136\n",
      "2024-04-25 09:59:40.207975: I external/local_tsl/tsl/framework/bfc_allocator.cc:1095] InUse at 7f2e6601e100 of size 12288 next 261\n",
      "2024-04-25 09:59:40.207983: I external/local_tsl/tsl/framework/bfc_allocator.cc:1095] InUse at 7f2e66021100 of size 22528 next 141\n",
      "2024-04-25 09:59:40.207991: I external/local_tsl/tsl/framework/bfc_allocator.cc:1095] Free  at 7f2e66026900 of size 24576 next 95\n",
      "2024-04-25 09:59:40.207998: I external/local_tsl/tsl/framework/bfc_allocator.cc:1095] InUse at 7f2e6602c900 of size 12288 next 59\n",
      "2024-04-25 09:59:40.208006: I external/local_tsl/tsl/framework/bfc_allocator.cc:1095] Free  at 7f2e6602f900 of size 12288 next 164\n",
      "2024-04-25 09:59:40.208014: I external/local_tsl/tsl/framework/bfc_allocator.cc:1095] InUse at 7f2e66032900 of size 12288 next 118\n",
      "2024-04-25 09:59:40.208024: I external/local_tsl/tsl/framework/bfc_allocator.cc:1095] InUse at 7f2e66035900 of size 133376 next 51\n",
      "2024-04-25 09:59:40.208033: I external/local_tsl/tsl/framework/bfc_allocator.cc:1095] InUse at 7f2e66056200 of size 256 next 58\n",
      "2024-04-25 09:59:40.208041: I external/local_tsl/tsl/framework/bfc_allocator.cc:1095] InUse at 7f2e66056300 of size 256 next 46\n",
      "2024-04-25 09:59:40.208049: I external/local_tsl/tsl/framework/bfc_allocator.cc:1095] Free  at 7f2e66056400 of size 3840 next 98\n",
      "2024-04-25 09:59:40.208057: I external/local_tsl/tsl/framework/bfc_allocator.cc:1095] InUse at 7f2e66057300 of size 256 next 145\n",
      "2024-04-25 09:59:40.208064: I external/local_tsl/tsl/framework/bfc_allocator.cc:1095] InUse at 7f2e66057400 of size 256 next 146\n",
      "2024-04-25 09:59:40.208072: I external/local_tsl/tsl/framework/bfc_allocator.cc:1095] InUse at 7f2e66057500 of size 256 next 142\n",
      "2024-04-25 09:59:40.208080: I external/local_tsl/tsl/framework/bfc_allocator.cc:1095] InUse at 7f2e66057600 of size 256 next 127\n",
      "2024-04-25 09:59:40.208087: I external/local_tsl/tsl/framework/bfc_allocator.cc:1095] Free  at 7f2e66057700 of size 10752 next 60\n",
      "2024-04-25 09:59:40.208095: I external/local_tsl/tsl/framework/bfc_allocator.cc:1095] InUse at 7f2e6605a100 of size 256 next 61\n",
      "2024-04-25 09:59:40.208103: I external/local_tsl/tsl/framework/bfc_allocator.cc:1095] InUse at 7f2e6605a200 of size 7168 next 71\n",
      "2024-04-25 09:59:40.208111: I external/local_tsl/tsl/framework/bfc_allocator.cc:1095] InUse at 7f2e6605be00 of size 256 next 44\n",
      "2024-04-25 09:59:40.208119: I external/local_tsl/tsl/framework/bfc_allocator.cc:1095] InUse at 7f2e6605bf00 of size 256 next 86\n",
      "2024-04-25 09:59:40.208126: I external/local_tsl/tsl/framework/bfc_allocator.cc:1095] InUse at 7f2e6605c000 of size 256 next 82\n",
      "2024-04-25 09:59:40.208134: I external/local_tsl/tsl/framework/bfc_allocator.cc:1095] Free  at 7f2e6605c100 of size 7168 next 123\n",
      "2024-04-25 09:59:40.208142: I external/local_tsl/tsl/framework/bfc_allocator.cc:1095] InUse at 7f2e6605dd00 of size 256 next 151\n",
      "2024-04-25 09:59:40.208150: I external/local_tsl/tsl/framework/bfc_allocator.cc:1095] InUse at 7f2e6605de00 of size 256 next 198\n",
      "2024-04-25 09:59:40.208158: I external/local_tsl/tsl/framework/bfc_allocator.cc:1095] InUse at 7f2e6605df00 of size 256 next 197\n",
      "2024-04-25 09:59:40.208165: I external/local_tsl/tsl/framework/bfc_allocator.cc:1095] InUse at 7f2e6605e000 of size 256 next 196\n",
      "2024-04-25 09:59:40.208173: I external/local_tsl/tsl/framework/bfc_allocator.cc:1095] InUse at 7f2e6605e100 of size 256 next 199\n",
      "2024-04-25 09:59:40.208180: I external/local_tsl/tsl/framework/bfc_allocator.cc:1095] InUse at 7f2e6605e200 of size 256 next 144\n",
      "2024-04-25 09:59:40.208188: I external/local_tsl/tsl/framework/bfc_allocator.cc:1095] InUse at 7f2e6605e300 of size 256 next 195\n",
      "2024-04-25 09:59:40.208196: I external/local_tsl/tsl/framework/bfc_allocator.cc:1095] InUse at 7f2e6605e400 of size 256 next 103\n",
      "2024-04-25 09:59:40.208204: I external/local_tsl/tsl/framework/bfc_allocator.cc:1095] InUse at 7f2e6605e500 of size 18176 next 125\n",
      "2024-04-25 09:59:40.208212: I external/local_tsl/tsl/framework/bfc_allocator.cc:1095] Free  at 7f2e66062c00 of size 30464 next 210\n",
      "2024-04-25 09:59:40.208220: I external/local_tsl/tsl/framework/bfc_allocator.cc:1095] InUse at 7f2e6606a300 of size 256 next 128\n",
      "2024-04-25 09:59:40.208228: I external/local_tsl/tsl/framework/bfc_allocator.cc:1095] InUse at 7f2e6606a400 of size 256 next 168\n",
      "2024-04-25 09:59:40.208236: I external/local_tsl/tsl/framework/bfc_allocator.cc:1095] InUse at 7f2e6606a500 of size 256 next 174\n",
      "2024-04-25 09:59:40.208244: I external/local_tsl/tsl/framework/bfc_allocator.cc:1095] InUse at 7f2e6606a600 of size 256 next 160\n",
      "2024-04-25 09:59:40.208252: I external/local_tsl/tsl/framework/bfc_allocator.cc:1095] InUse at 7f2e6606a700 of size 256 next 194\n",
      "2024-04-25 09:59:40.208259: I external/local_tsl/tsl/framework/bfc_allocator.cc:1095] InUse at 7f2e6606a800 of size 256 next 176\n",
      "2024-04-25 09:59:40.208267: I external/local_tsl/tsl/framework/bfc_allocator.cc:1095] InUse at 7f2e6606a900 of size 256 next 171\n",
      "2024-04-25 09:59:40.208275: I external/local_tsl/tsl/framework/bfc_allocator.cc:1095] InUse at 7f2e6606aa00 of size 256 next 172\n",
      "2024-04-25 09:59:40.208283: I external/local_tsl/tsl/framework/bfc_allocator.cc:1095] InUse at 7f2e6606ab00 of size 256 next 166\n",
      "2024-04-25 09:59:40.208290: I external/local_tsl/tsl/framework/bfc_allocator.cc:1095] InUse at 7f2e6606ac00 of size 256 next 178\n",
      "2024-04-25 09:59:40.208298: I external/local_tsl/tsl/framework/bfc_allocator.cc:1095] InUse at 7f2e6606ad00 of size 256 next 232\n",
      "2024-04-25 09:59:40.208307: I external/local_tsl/tsl/framework/bfc_allocator.cc:1095] InUse at 7f2e6606ae00 of size 256 next 187\n",
      "2024-04-25 09:59:40.208314: I external/local_tsl/tsl/framework/bfc_allocator.cc:1095] InUse at 7f2e6606af00 of size 256 next 188\n",
      "2024-04-25 09:59:40.208323: I external/local_tsl/tsl/framework/bfc_allocator.cc:1095] Free  at 7f2e6606b000 of size 2048 next 200\n",
      "2024-04-25 09:59:40.208330: I external/local_tsl/tsl/framework/bfc_allocator.cc:1095] InUse at 7f2e6606b800 of size 256 next 138\n",
      "2024-04-25 09:59:40.208338: I external/local_tsl/tsl/framework/bfc_allocator.cc:1095] InUse at 7f2e6606b900 of size 256 next 150\n",
      "2024-04-25 09:59:40.208346: I external/local_tsl/tsl/framework/bfc_allocator.cc:1095] InUse at 7f2e6606ba00 of size 256 next 147\n",
      "2024-04-25 09:59:40.208354: I external/local_tsl/tsl/framework/bfc_allocator.cc:1095] InUse at 7f2e6606bb00 of size 256 next 158\n",
      "2024-04-25 09:59:40.208362: I external/local_tsl/tsl/framework/bfc_allocator.cc:1095] InUse at 7f2e6606bc00 of size 256 next 119\n",
      "2024-04-25 09:59:40.208369: I external/local_tsl/tsl/framework/bfc_allocator.cc:1095] InUse at 7f2e6606bd00 of size 256 next 107\n",
      "2024-04-25 09:59:40.208380: I external/local_tsl/tsl/framework/bfc_allocator.cc:1095] InUse at 7f2e6606be00 of size 256 next 159\n",
      "2024-04-25 09:59:40.208388: I external/local_tsl/tsl/framework/bfc_allocator.cc:1095] InUse at 7f2e6606bf00 of size 256 next 162\n",
      "2024-04-25 09:59:40.208396: I external/local_tsl/tsl/framework/bfc_allocator.cc:1095] InUse at 7f2e6606c000 of size 256 next 91\n",
      "2024-04-25 09:59:40.208404: I external/local_tsl/tsl/framework/bfc_allocator.cc:1095] InUse at 7f2e6606c100 of size 256 next 155\n",
      "2024-04-25 09:59:40.208412: I external/local_tsl/tsl/framework/bfc_allocator.cc:1095] InUse at 7f2e6606c200 of size 256 next 281\n",
      "2024-04-25 09:59:40.208420: I external/local_tsl/tsl/framework/bfc_allocator.cc:1095] InUse at 7f2e6606c300 of size 256 next 157\n",
      "2024-04-25 09:59:40.208428: I external/local_tsl/tsl/framework/bfc_allocator.cc:1095] InUse at 7f2e6606c400 of size 20480 next 152\n",
      "2024-04-25 09:59:40.208437: I external/local_tsl/tsl/framework/bfc_allocator.cc:1095] Free  at 7f2e66071400 of size 24576 next 204\n",
      "2024-04-25 09:59:40.208445: I external/local_tsl/tsl/framework/bfc_allocator.cc:1095] InUse at 7f2e66077400 of size 13312 next 181\n",
      "2024-04-25 09:59:40.208454: I external/local_tsl/tsl/framework/bfc_allocator.cc:1095] InUse at 7f2e6607a800 of size 256 next 137\n",
      "2024-04-25 09:59:40.208462: I external/local_tsl/tsl/framework/bfc_allocator.cc:1095] InUse at 7f2e6607a900 of size 256 next 183\n",
      "2024-04-25 09:59:40.208471: I external/local_tsl/tsl/framework/bfc_allocator.cc:1095] InUse at 7f2e6607aa00 of size 6144 next 206\n",
      "2024-04-25 09:59:40.208479: I external/local_tsl/tsl/framework/bfc_allocator.cc:1095] InUse at 7f2e6607c200 of size 256 next 231\n",
      "2024-04-25 09:59:40.208488: I external/local_tsl/tsl/framework/bfc_allocator.cc:1095] InUse at 7f2e6607c300 of size 256 next 161\n",
      "2024-04-25 09:59:40.208496: I external/local_tsl/tsl/framework/bfc_allocator.cc:1095] InUse at 7f2e6607c400 of size 256 next 139\n",
      "2024-04-25 09:59:40.208504: I external/local_tsl/tsl/framework/bfc_allocator.cc:1095] InUse at 7f2e6607c500 of size 256 next 182\n",
      "2024-04-25 09:59:40.208512: I external/local_tsl/tsl/framework/bfc_allocator.cc:1095] InUse at 7f2e6607c600 of size 256 next 241\n",
      "2024-04-25 09:59:40.208520: I external/local_tsl/tsl/framework/bfc_allocator.cc:1095] InUse at 7f2e6607c700 of size 256 next 235\n",
      "2024-04-25 09:59:40.208527: I external/local_tsl/tsl/framework/bfc_allocator.cc:1095] InUse at 7f2e6607c800 of size 256 next 236\n",
      "2024-04-25 09:59:40.208536: I external/local_tsl/tsl/framework/bfc_allocator.cc:1095] InUse at 7f2e6607c900 of size 256 next 154\n",
      "2024-04-25 09:59:40.208543: I external/local_tsl/tsl/framework/bfc_allocator.cc:1095] InUse at 7f2e6607ca00 of size 256 next 177\n",
      "2024-04-25 09:59:40.208551: I external/local_tsl/tsl/framework/bfc_allocator.cc:1095] InUse at 7f2e6607cb00 of size 256 next 213\n",
      "2024-04-25 09:59:40.208558: I external/local_tsl/tsl/framework/bfc_allocator.cc:1095] InUse at 7f2e6607cc00 of size 256 next 186\n",
      "2024-04-25 09:59:40.208567: I external/local_tsl/tsl/framework/bfc_allocator.cc:1095] InUse at 7f2e6607cd00 of size 256 next 219\n",
      "2024-04-25 09:59:40.208575: I external/local_tsl/tsl/framework/bfc_allocator.cc:1095] InUse at 7f2e6607ce00 of size 256 next 220\n",
      "2024-04-25 09:59:40.208583: I external/local_tsl/tsl/framework/bfc_allocator.cc:1095] Free  at 7f2e6607cf00 of size 2816 next 28\n",
      "2024-04-25 09:59:40.208592: I external/local_tsl/tsl/framework/bfc_allocator.cc:1095] InUse at 7f2e6607da00 of size 3145728 next 280\n",
      "2024-04-25 09:59:40.208601: I external/local_tsl/tsl/framework/bfc_allocator.cc:1095] InUse at 7f2e6637da00 of size 5128192 next 92\n",
      "2024-04-25 09:59:40.208611: I external/local_tsl/tsl/framework/bfc_allocator.cc:1095] InUse at 7f2e66861a00 of size 65536 next 78\n",
      "2024-04-25 09:59:40.208619: I external/local_tsl/tsl/framework/bfc_allocator.cc:1095] InUse at 7f2e66871a00 of size 65536 next 167\n",
      "2024-04-25 09:59:40.208628: I external/local_tsl/tsl/framework/bfc_allocator.cc:1095] Free  at 7f2e66881a00 of size 237568 next 216\n",
      "2024-04-25 09:59:40.208636: I external/local_tsl/tsl/framework/bfc_allocator.cc:1095] InUse at 7f2e668bba00 of size 368640 next 205\n",
      "2024-04-25 09:59:40.208644: I external/local_tsl/tsl/framework/bfc_allocator.cc:1095] Free  at 7f2e66915a00 of size 778240 next 99\n",
      "2024-04-25 09:59:40.208652: I external/local_tsl/tsl/framework/bfc_allocator.cc:1095] InUse at 7f2e669d3a00 of size 368640 next 121\n",
      "2024-04-25 09:59:40.208660: I external/local_tsl/tsl/framework/bfc_allocator.cc:1095] InUse at 7f2e66a2da00 of size 4853760 next 76\n",
      "2024-04-25 09:59:40.208670: I external/local_tsl/tsl/framework/bfc_allocator.cc:1095] InUse at 7f2e66ecea00 of size 3801088 next 268\n",
      "2024-04-25 09:59:40.208678: I external/local_tsl/tsl/framework/bfc_allocator.cc:1095] InUse at 7f2e6726ea00 of size 3145728 next 131\n",
      "2024-04-25 09:59:40.208687: I external/local_tsl/tsl/framework/bfc_allocator.cc:1095] InUse at 7f2e6756ea00 of size 368640 next 100\n",
      "2024-04-25 09:59:40.208695: I external/local_tsl/tsl/framework/bfc_allocator.cc:1095] InUse at 7f2e675c8a00 of size 5914624 next 130\n",
      "2024-04-25 09:59:40.208704: I external/local_tsl/tsl/framework/bfc_allocator.cc:1095] InUse at 7f2e67b6ca00 of size 3145728 next 134\n",
      "2024-04-25 09:59:40.208713: I external/local_tsl/tsl/framework/bfc_allocator.cc:1095] Free  at 7f2e67e6ca00 of size 3145728 next 73\n",
      "2024-04-25 09:59:40.208720: I external/local_tsl/tsl/framework/bfc_allocator.cc:1095] InUse at 7f2e6816ca00 of size 368640 next 202\n",
      "2024-04-25 09:59:40.208728: I external/local_tsl/tsl/framework/bfc_allocator.cc:1095] InUse at 7f2e681c6a00 of size 3145728 next 143\n",
      "2024-04-25 09:59:40.208737: I external/local_tsl/tsl/framework/bfc_allocator.cc:1095] Free  at 7f2e684c6a00 of size 21703168 next 149\n",
      "2024-04-25 09:59:40.208746: I external/local_tsl/tsl/framework/bfc_allocator.cc:1095] InUse at 7f2e69979400 of size 2048 next 229\n",
      "2024-04-25 09:59:40.208754: I external/local_tsl/tsl/framework/bfc_allocator.cc:1095] InUse at 7f2e69979c00 of size 2048 next 223\n",
      "2024-04-25 09:59:40.208762: I external/local_tsl/tsl/framework/bfc_allocator.cc:1095] InUse at 7f2e6997a400 of size 2048 next 222\n",
      "2024-04-25 09:59:40.208771: I external/local_tsl/tsl/framework/bfc_allocator.cc:1095] InUse at 7f2e6997ac00 of size 32256 next 215\n",
      "2024-04-25 09:59:40.208780: I external/local_tsl/tsl/framework/bfc_allocator.cc:1095] Free  at 7f2e69982a00 of size 6291456 next 189\n",
      "2024-04-25 09:59:40.208788: I external/local_tsl/tsl/framework/bfc_allocator.cc:1095] InUse at 7f2e69f82a00 of size 3145728 next 90\n",
      "2024-04-25 09:59:40.208796: I external/local_tsl/tsl/framework/bfc_allocator.cc:1095] InUse at 7f2e6a282a00 of size 7270400 next 191\n",
      "2024-04-25 09:59:40.208804: I external/local_tsl/tsl/framework/bfc_allocator.cc:1095] InUse at 7f2e6a971a00 of size 256 next 233\n",
      "2024-04-25 09:59:40.208812: I external/local_tsl/tsl/framework/bfc_allocator.cc:1095] InUse at 7f2e6a971b00 of size 256 next 234\n",
      "2024-04-25 09:59:40.208821: I external/local_tsl/tsl/framework/bfc_allocator.cc:1095] InUse at 7f2e6a971c00 of size 256 next 212\n",
      "2024-04-25 09:59:40.208829: I external/local_tsl/tsl/framework/bfc_allocator.cc:1095] InUse at 7f2e6a971d00 of size 256 next 239\n",
      "2024-04-25 09:59:40.208837: I external/local_tsl/tsl/framework/bfc_allocator.cc:1095] InUse at 7f2e6a971e00 of size 256 next 242\n",
      "2024-04-25 09:59:40.208846: I external/local_tsl/tsl/framework/bfc_allocator.cc:1095] InUse at 7f2e6a971f00 of size 4608 next 243\n",
      "2024-04-25 09:59:40.208855: I external/local_tsl/tsl/framework/bfc_allocator.cc:1095] InUse at 7f2e6a973100 of size 2048 next 227\n",
      "2024-04-25 09:59:40.208865: I external/local_tsl/tsl/framework/bfc_allocator.cc:1095] InUse at 7f2e6a973900 of size 2048 next 267\n",
      "2024-04-25 09:59:40.208907: I external/local_tsl/tsl/framework/bfc_allocator.cc:1095] InUse at 7f2e6a974100 of size 256 next 278\n",
      "2024-04-25 09:59:40.208919: I external/local_tsl/tsl/framework/bfc_allocator.cc:1095] InUse at 7f2e6a974200 of size 256 next 279\n",
      "2024-04-25 09:59:40.208927: I external/local_tsl/tsl/framework/bfc_allocator.cc:1095] InUse at 7f2e6a974300 of size 256 next 328\n",
      "2024-04-25 09:59:40.208937: I external/local_tsl/tsl/framework/bfc_allocator.cc:1095] InUse at 7f2e6a974400 of size 256 next 325\n",
      "2024-04-25 09:59:40.208950: I external/local_tsl/tsl/framework/bfc_allocator.cc:1095] InUse at 7f2e6a974500 of size 256 next 272\n",
      "2024-04-25 09:59:40.208963: I external/local_tsl/tsl/framework/bfc_allocator.cc:1095] InUse at 7f2e6a974600 of size 256 next 324\n",
      "2024-04-25 09:59:40.208975: I external/local_tsl/tsl/framework/bfc_allocator.cc:1095] InUse at 7f2e6a974700 of size 256 next 270\n",
      "2024-04-25 09:59:40.208983: I external/local_tsl/tsl/framework/bfc_allocator.cc:1095] InUse at 7f2e6a974800 of size 256 next 326\n",
      "2024-04-25 09:59:40.208992: I external/local_tsl/tsl/framework/bfc_allocator.cc:1095] InUse at 7f2e6a974900 of size 256 next 323\n",
      "2024-04-25 09:59:40.208999: I external/local_tsl/tsl/framework/bfc_allocator.cc:1095] InUse at 7f2e6a974a00 of size 256 next 320\n",
      "2024-04-25 09:59:40.209008: I external/local_tsl/tsl/framework/bfc_allocator.cc:1095] InUse at 7f2e6a974b00 of size 256 next 253\n",
      "2024-04-25 09:59:40.209015: I external/local_tsl/tsl/framework/bfc_allocator.cc:1095] InUse at 7f2e6a974c00 of size 256 next 173\n",
      "2024-04-25 09:59:40.209024: I external/local_tsl/tsl/framework/bfc_allocator.cc:1095] InUse at 7f2e6a974d00 of size 256 next 251\n",
      "2024-04-25 09:59:40.209031: I external/local_tsl/tsl/framework/bfc_allocator.cc:1095] InUse at 7f2e6a974e00 of size 256 next 258\n",
      "2024-04-25 09:59:40.209040: I external/local_tsl/tsl/framework/bfc_allocator.cc:1095] InUse at 7f2e6a974f00 of size 256 next 259\n",
      "2024-04-25 09:59:40.209047: I external/local_tsl/tsl/framework/bfc_allocator.cc:1095] InUse at 7f2e6a975000 of size 256 next 256\n",
      "2024-04-25 09:59:40.209055: I external/local_tsl/tsl/framework/bfc_allocator.cc:1095] InUse at 7f2e6a975100 of size 256 next 257\n",
      "2024-04-25 09:59:40.209063: I external/local_tsl/tsl/framework/bfc_allocator.cc:1095] InUse at 7f2e6a975200 of size 256 next 252\n",
      "2024-04-25 09:59:40.209071: I external/local_tsl/tsl/framework/bfc_allocator.cc:1095] InUse at 7f2e6a975300 of size 256 next 238\n",
      "2024-04-25 09:59:40.209079: I external/local_tsl/tsl/framework/bfc_allocator.cc:1095] InUse at 7f2e6a975400 of size 256 next 265\n",
      "2024-04-25 09:59:40.209087: I external/local_tsl/tsl/framework/bfc_allocator.cc:1095] InUse at 7f2e6a975500 of size 4608 next 266\n",
      "2024-04-25 09:59:40.209095: I external/local_tsl/tsl/framework/bfc_allocator.cc:1095] InUse at 7f2e6a976700 of size 5632 next 322\n",
      "2024-04-25 09:59:40.209104: I external/local_tsl/tsl/framework/bfc_allocator.cc:1095] InUse at 7f2e6a977d00 of size 8960 next 262\n",
      "2024-04-25 09:59:40.209112: I external/local_tsl/tsl/framework/bfc_allocator.cc:1095] InUse at 7f2e6a97a000 of size 256 next 221\n",
      "2024-04-25 09:59:40.209120: I external/local_tsl/tsl/framework/bfc_allocator.cc:1095] InUse at 7f2e6a97a100 of size 256 next 192\n",
      "2024-04-25 09:59:40.209128: I external/local_tsl/tsl/framework/bfc_allocator.cc:1095] InUse at 7f2e6a97a200 of size 256 next 254\n",
      "2024-04-25 09:59:40.209136: I external/local_tsl/tsl/framework/bfc_allocator.cc:1095] InUse at 7f2e6a97a300 of size 2048 next 255\n",
      "2024-04-25 09:59:40.209144: I external/local_tsl/tsl/framework/bfc_allocator.cc:1095] InUse at 7f2e6a97ab00 of size 2048 next 248\n",
      "2024-04-25 09:59:40.209152: I external/local_tsl/tsl/framework/bfc_allocator.cc:1095] InUse at 7f2e6a97b300 of size 2048 next 224\n",
      "2024-04-25 09:59:40.209160: I external/local_tsl/tsl/framework/bfc_allocator.cc:1095] InUse at 7f2e6a97bb00 of size 256 next 271\n",
      "2024-04-25 09:59:40.209170: I external/local_tsl/tsl/framework/bfc_allocator.cc:1095] Free  at 7f2e6a97bc00 of size 3584 next 230\n",
      "2024-04-25 09:59:40.209178: I external/local_tsl/tsl/framework/bfc_allocator.cc:1095] InUse at 7f2e6a97ca00 of size 978944 next 226\n",
      "2024-04-25 09:59:40.209187: I external/local_tsl/tsl/framework/bfc_allocator.cc:1095] InUse at 7f2e6aa6ba00 of size 5242880 next 225\n",
      "2024-04-25 09:59:40.209195: I external/local_tsl/tsl/framework/bfc_allocator.cc:1095] InUse at 7f2e6af6ba00 of size 5242880 next 207\n",
      "2024-04-25 09:59:40.209203: I external/local_tsl/tsl/framework/bfc_allocator.cc:1095] InUse at 7f2e6b46ba00 of size 5242880 next 228\n",
      "2024-04-25 09:59:40.209211: I external/local_tsl/tsl/framework/bfc_allocator.cc:1095] InUse at 7f2e6b96ba00 of size 22528 next 250\n",
      "2024-04-25 09:59:40.209219: I external/local_tsl/tsl/framework/bfc_allocator.cc:1095] InUse at 7f2e6b971200 of size 12288 next 274\n",
      "2024-04-25 09:59:40.209228: I external/local_tsl/tsl/framework/bfc_allocator.cc:1095] InUse at 7f2e6b974200 of size 18944 next 285\n",
      "2024-04-25 09:59:40.209236: I external/local_tsl/tsl/framework/bfc_allocator.cc:1095] InUse at 7f2e6b978c00 of size 256 next 286\n",
      "2024-04-25 09:59:40.209245: I external/local_tsl/tsl/framework/bfc_allocator.cc:1095] InUse at 7f2e6b978d00 of size 256 next 287\n",
      "2024-04-25 09:59:40.209254: I external/local_tsl/tsl/framework/bfc_allocator.cc:1095] InUse at 7f2e6b978e00 of size 13312 next 260\n",
      "2024-04-25 09:59:40.209262: I external/local_tsl/tsl/framework/bfc_allocator.cc:1095] InUse at 7f2e6b97c200 of size 956416 next 247\n",
      "2024-04-25 09:59:40.209270: I external/local_tsl/tsl/framework/bfc_allocator.cc:1095] InUse at 7f2e6ba65a00 of size 5242880 next 249\n",
      "2024-04-25 09:59:40.209278: I external/local_tsl/tsl/framework/bfc_allocator.cc:1095] InUse at 7f2e6bf65a00 of size 5242880 next 246\n",
      "2024-04-25 09:59:40.209286: I external/local_tsl/tsl/framework/bfc_allocator.cc:1095] InUse at 7f2e6c465a00 of size 5242880 next 245\n",
      "2024-04-25 09:59:40.209295: I external/local_tsl/tsl/framework/bfc_allocator.cc:1095] InUse at 7f2e6c965a00 of size 20480 next 321\n",
      "2024-04-25 09:59:40.209304: I external/local_tsl/tsl/framework/bfc_allocator.cc:1095] InUse at 7f2e6c96aa00 of size 716800 next 237\n",
      "2024-04-25 09:59:40.209312: I external/local_tsl/tsl/framework/bfc_allocator.cc:1095] InUse at 7f2e6ca19a00 of size 12288 next 156\n",
      "2024-04-25 09:59:40.209320: I external/local_tsl/tsl/framework/bfc_allocator.cc:1095] Free  at 7f2e6ca1ca00 of size 3145728 next 276\n",
      "2024-04-25 09:59:40.209329: I external/local_tsl/tsl/framework/bfc_allocator.cc:1095] InUse at 7f2e6cd1ca00 of size 3502080 next 284\n",
      "2024-04-25 09:59:40.209337: I external/local_tsl/tsl/framework/bfc_allocator.cc:1095] InUse at 7f2e6d073a00 of size 3145728 next 269\n",
      "2024-04-25 09:59:40.209345: I external/local_tsl/tsl/framework/bfc_allocator.cc:1095] InUse at 7f2e6d373a00 of size 3145728 next 244\n",
      "2024-04-25 09:59:40.209354: I external/local_tsl/tsl/framework/bfc_allocator.cc:1095] InUse at 7f2e6d673a00 of size 3145728 next 117\n",
      "2024-04-25 09:59:40.209361: I external/local_tsl/tsl/framework/bfc_allocator.cc:1095] InUse at 7f2e6d973a00 of size 3145728 next 108\n",
      "2024-04-25 09:59:40.209370: I external/local_tsl/tsl/framework/bfc_allocator.cc:1095] Free  at 7f2e6dc73a00 of size 9830400 next 54\n",
      "2024-04-25 09:59:40.209378: I external/local_tsl/tsl/framework/bfc_allocator.cc:1095] InUse at 7f2e6e5d3a00 of size 368640 next 32\n",
      "2024-04-25 09:59:40.209386: I external/local_tsl/tsl/framework/bfc_allocator.cc:1095] InUse at 7f2e6e62da00 of size 3145728 next 31\n",
      "2024-04-25 09:59:40.209394: I external/local_tsl/tsl/framework/bfc_allocator.cc:1095] Free  at 7f2e6e92da00 of size 22848000 next 203\n",
      "2024-04-25 09:59:40.209403: I external/local_tsl/tsl/framework/bfc_allocator.cc:1095] InUse at 7f2e6fef7c00 of size 194969600 next 165\n",
      "2024-04-25 09:59:40.209411: I external/local_tsl/tsl/framework/bfc_allocator.cc:1095] InUse at 7f2e7b8e7c00 of size 194969600 next 185\n",
      "2024-04-25 09:59:40.209421: I external/local_tsl/tsl/framework/bfc_allocator.cc:1095] Free  at 7f2e872d7c00 of size 600736768 next 18446744073709551615\n",
      "2024-04-25 09:59:40.209429: I external/local_tsl/tsl/framework/bfc_allocator.cc:1100]      Summary of in-use Chunks by size: \n",
      "2024-04-25 09:59:40.209443: I external/local_tsl/tsl/framework/bfc_allocator.cc:1103] 134 Chunks of size 256 totalling 33.5KiB\n",
      "2024-04-25 09:59:40.209453: I external/local_tsl/tsl/framework/bfc_allocator.cc:1103] 1 Chunks of size 1280 totalling 1.2KiB\n",
      "2024-04-25 09:59:40.209463: I external/local_tsl/tsl/framework/bfc_allocator.cc:1103] 8 Chunks of size 2048 totalling 16.0KiB\n",
      "2024-04-25 09:59:40.209473: I external/local_tsl/tsl/framework/bfc_allocator.cc:1103] 2 Chunks of size 4608 totalling 9.0KiB\n",
      "2024-04-25 09:59:40.209483: I external/local_tsl/tsl/framework/bfc_allocator.cc:1103] 2 Chunks of size 5632 totalling 11.0KiB\n",
      "2024-04-25 09:59:40.209494: I external/local_tsl/tsl/framework/bfc_allocator.cc:1103] 1 Chunks of size 6144 totalling 6.0KiB\n",
      "2024-04-25 09:59:40.209503: I external/local_tsl/tsl/framework/bfc_allocator.cc:1103] 1 Chunks of size 7168 totalling 7.0KiB\n",
      "2024-04-25 09:59:40.209513: I external/local_tsl/tsl/framework/bfc_allocator.cc:1103] 1 Chunks of size 8960 totalling 8.8KiB\n",
      "2024-04-25 09:59:40.209522: I external/local_tsl/tsl/framework/bfc_allocator.cc:1103] 5 Chunks of size 12288 totalling 60.0KiB\n",
      "2024-04-25 09:59:40.209532: I external/local_tsl/tsl/framework/bfc_allocator.cc:1103] 2 Chunks of size 13312 totalling 26.0KiB\n",
      "2024-04-25 09:59:40.209542: I external/local_tsl/tsl/framework/bfc_allocator.cc:1103] 1 Chunks of size 18176 totalling 17.8KiB\n",
      "2024-04-25 09:59:40.209551: I external/local_tsl/tsl/framework/bfc_allocator.cc:1103] 1 Chunks of size 18944 totalling 18.5KiB\n",
      "2024-04-25 09:59:40.209561: I external/local_tsl/tsl/framework/bfc_allocator.cc:1103] 2 Chunks of size 20480 totalling 40.0KiB\n",
      "2024-04-25 09:59:40.209571: I external/local_tsl/tsl/framework/bfc_allocator.cc:1103] 5 Chunks of size 22528 totalling 110.0KiB\n",
      "2024-04-25 09:59:40.209581: I external/local_tsl/tsl/framework/bfc_allocator.cc:1103] 1 Chunks of size 32256 totalling 31.5KiB\n",
      "2024-04-25 09:59:40.209591: I external/local_tsl/tsl/framework/bfc_allocator.cc:1103] 2 Chunks of size 65536 totalling 128.0KiB\n",
      "2024-04-25 09:59:40.209600: I external/local_tsl/tsl/framework/bfc_allocator.cc:1103] 1 Chunks of size 133376 totalling 130.2KiB\n",
      "2024-04-25 09:59:40.209610: I external/local_tsl/tsl/framework/bfc_allocator.cc:1103] 5 Chunks of size 368640 totalling 1.76MiB\n",
      "2024-04-25 09:59:40.209620: I external/local_tsl/tsl/framework/bfc_allocator.cc:1103] 1 Chunks of size 716800 totalling 700.0KiB\n",
      "2024-04-25 09:59:40.209630: I external/local_tsl/tsl/framework/bfc_allocator.cc:1103] 1 Chunks of size 956416 totalling 934.0KiB\n",
      "2024-04-25 09:59:40.209639: I external/local_tsl/tsl/framework/bfc_allocator.cc:1103] 1 Chunks of size 978944 totalling 956.0KiB\n",
      "2024-04-25 09:59:40.209649: I external/local_tsl/tsl/framework/bfc_allocator.cc:1103] 10 Chunks of size 3145728 totalling 30.00MiB\n",
      "2024-04-25 09:59:40.209659: I external/local_tsl/tsl/framework/bfc_allocator.cc:1103] 1 Chunks of size 3502080 totalling 3.34MiB\n",
      "2024-04-25 09:59:40.209668: I external/local_tsl/tsl/framework/bfc_allocator.cc:1103] 1 Chunks of size 3801088 totalling 3.62MiB\n",
      "2024-04-25 09:59:40.209677: I external/local_tsl/tsl/framework/bfc_allocator.cc:1103] 1 Chunks of size 4853760 totalling 4.63MiB\n",
      "2024-04-25 09:59:40.209686: I external/local_tsl/tsl/framework/bfc_allocator.cc:1103] 1 Chunks of size 5128192 totalling 4.89MiB\n",
      "2024-04-25 09:59:40.209696: I external/local_tsl/tsl/framework/bfc_allocator.cc:1103] 6 Chunks of size 5242880 totalling 30.00MiB\n",
      "2024-04-25 09:59:40.209706: I external/local_tsl/tsl/framework/bfc_allocator.cc:1103] 1 Chunks of size 5914624 totalling 5.64MiB\n",
      "2024-04-25 09:59:40.209715: I external/local_tsl/tsl/framework/bfc_allocator.cc:1103] 1 Chunks of size 7270400 totalling 6.93MiB\n",
      "2024-04-25 09:59:40.209725: I external/local_tsl/tsl/framework/bfc_allocator.cc:1103] 2 Chunks of size 194969600 totalling 371.88MiB\n",
      "2024-04-25 09:59:40.209735: I external/local_tsl/tsl/framework/bfc_allocator.cc:1107] Sum Total of in-use chunks: 465.86MiB\n",
      "2024-04-25 09:59:40.209746: I external/local_tsl/tsl/framework/bfc_allocator.cc:1109] Total bytes in pool: 1157365760 memory_limit_: 1157365760 available bytes: 0 curr_region_allocation_bytes_: 2314731520\n",
      "2024-04-25 09:59:40.209764: I external/local_tsl/tsl/framework/bfc_allocator.cc:1114] Stats: \n",
      "Limit:                      1157365760\n",
      "InUse:                       488489472\n",
      "MaxInUse:                   1157300736\n",
      "NumAllocs:                        4070\n",
      "MaxAllocSize:                549495040\n",
      "Reserved:                            0\n",
      "PeakReserved:                        0\n",
      "LargestFreeBlock:                    0\n",
      "\n",
      "2024-04-25 09:59:40.209792: W external/local_tsl/tsl/framework/bfc_allocator.cc:497] ****_********_***********************************___________________________________________________\n",
      "2024-04-25 09:59:40.209833: E external/local_xla/xla/stream_executor/dnn.cc:1140] OOM when allocating tensor with shape[846168448] and type uint8 on /job:localhost/replica:0/task:0/device:GPU:0 by allocator GPU_0_bfc\n",
      "2024-04-25 09:59:40.209891: W tensorflow/core/framework/op_kernel.cc:1839] OP_REQUIRES failed at cudnn_rnn_ops.cc:1771 : INTERNAL: Failed to call ThenRnnForward with model config: [rnn_mode, rnn_input_mode, rnn_direction_mode]: 3, 0, 0 , [num_layers, input_size, num_units, dir_count, max_seq_length, batch_size, cell_num_units]: [1, 512, 512, 1, 2975, 32, 0] \n"
     ]
    },
    {
     "ename": "InternalError",
     "evalue": "Graph execution error:\n\nDetected at node cond/CudnnRNNV3 defined at (most recent call last):\n  File \"/home/tiago/anaconda3/envs/deepsea-project/lib/python3.10/runpy.py\", line 196, in _run_module_as_main\n\n  File \"/home/tiago/anaconda3/envs/deepsea-project/lib/python3.10/runpy.py\", line 86, in _run_code\n\n  File \"/home/tiago/anaconda3/envs/deepsea-project/lib/python3.10/site-packages/ipykernel_launcher.py\", line 18, in <module>\n\n  File \"/home/tiago/anaconda3/envs/deepsea-project/lib/python3.10/site-packages/traitlets/config/application.py\", line 1075, in launch_instance\n\n  File \"/home/tiago/anaconda3/envs/deepsea-project/lib/python3.10/site-packages/ipykernel/kernelapp.py\", line 739, in start\n\n  File \"/home/tiago/anaconda3/envs/deepsea-project/lib/python3.10/site-packages/tornado/platform/asyncio.py\", line 205, in start\n\n  File \"/home/tiago/anaconda3/envs/deepsea-project/lib/python3.10/asyncio/base_events.py\", line 603, in run_forever\n\n  File \"/home/tiago/anaconda3/envs/deepsea-project/lib/python3.10/asyncio/base_events.py\", line 1909, in _run_once\n\n  File \"/home/tiago/anaconda3/envs/deepsea-project/lib/python3.10/asyncio/events.py\", line 80, in _run\n\n  File \"/home/tiago/anaconda3/envs/deepsea-project/lib/python3.10/site-packages/ipykernel/kernelbase.py\", line 545, in dispatch_queue\n\n  File \"/home/tiago/anaconda3/envs/deepsea-project/lib/python3.10/site-packages/ipykernel/kernelbase.py\", line 534, in process_one\n\n  File \"/home/tiago/anaconda3/envs/deepsea-project/lib/python3.10/site-packages/ipykernel/kernelbase.py\", line 437, in dispatch_shell\n\n  File \"/home/tiago/anaconda3/envs/deepsea-project/lib/python3.10/site-packages/ipykernel/ipkernel.py\", line 359, in execute_request\n\n  File \"/home/tiago/anaconda3/envs/deepsea-project/lib/python3.10/site-packages/ipykernel/kernelbase.py\", line 778, in execute_request\n\n  File \"/home/tiago/anaconda3/envs/deepsea-project/lib/python3.10/site-packages/ipykernel/ipkernel.py\", line 446, in do_execute\n\n  File \"/home/tiago/anaconda3/envs/deepsea-project/lib/python3.10/site-packages/ipykernel/zmqshell.py\", line 549, in run_cell\n\n  File \"/home/tiago/anaconda3/envs/deepsea-project/lib/python3.10/site-packages/IPython/core/interactiveshell.py\", line 3075, in run_cell\n\n  File \"/home/tiago/anaconda3/envs/deepsea-project/lib/python3.10/site-packages/IPython/core/interactiveshell.py\", line 3130, in _run_cell\n\n  File \"/home/tiago/anaconda3/envs/deepsea-project/lib/python3.10/site-packages/IPython/core/async_helpers.py\", line 129, in _pseudo_sync_runner\n\n  File \"/home/tiago/anaconda3/envs/deepsea-project/lib/python3.10/site-packages/IPython/core/interactiveshell.py\", line 3334, in run_cell_async\n\n  File \"/home/tiago/anaconda3/envs/deepsea-project/lib/python3.10/site-packages/IPython/core/interactiveshell.py\", line 3517, in run_ast_nodes\n\n  File \"/home/tiago/anaconda3/envs/deepsea-project/lib/python3.10/site-packages/IPython/core/interactiveshell.py\", line 3577, in run_code\n\n  File \"/tmp/ipykernel_270129/2309455231.py\", line 9, in <module>\n\n  File \"/tmp/ipykernel_270129/481595699.py\", line 10, in model_eval_p\n\n  File \"/home/tiago/anaconda3/envs/deepsea-project/lib/python3.10/site-packages/keras/src/utils/traceback_utils.py\", line 65, in error_handler\n\n  File \"/home/tiago/anaconda3/envs/deepsea-project/lib/python3.10/site-packages/keras/src/engine/training.py\", line 2655, in predict\n\n  File \"/home/tiago/anaconda3/envs/deepsea-project/lib/python3.10/site-packages/keras/src/engine/training.py\", line 2440, in predict_function\n\n  File \"/home/tiago/anaconda3/envs/deepsea-project/lib/python3.10/site-packages/keras/src/engine/training.py\", line 2425, in step_function\n\n  File \"/home/tiago/anaconda3/envs/deepsea-project/lib/python3.10/site-packages/keras/src/engine/training.py\", line 2413, in run_step\n\n  File \"/home/tiago/anaconda3/envs/deepsea-project/lib/python3.10/site-packages/keras/src/engine/training.py\", line 2381, in predict_step\n\n  File \"/home/tiago/anaconda3/envs/deepsea-project/lib/python3.10/site-packages/keras/src/utils/traceback_utils.py\", line 65, in error_handler\n\n  File \"/home/tiago/anaconda3/envs/deepsea-project/lib/python3.10/site-packages/keras/src/engine/training.py\", line 590, in __call__\n\n  File \"/home/tiago/anaconda3/envs/deepsea-project/lib/python3.10/site-packages/keras/src/utils/traceback_utils.py\", line 65, in error_handler\n\n  File \"/home/tiago/anaconda3/envs/deepsea-project/lib/python3.10/site-packages/keras/src/engine/base_layer.py\", line 1149, in __call__\n\n  File \"/home/tiago/anaconda3/envs/deepsea-project/lib/python3.10/site-packages/keras/src/utils/traceback_utils.py\", line 96, in error_handler\n\n  File \"/home/tiago/anaconda3/envs/deepsea-project/lib/python3.10/site-packages/keras/src/engine/sequential.py\", line 398, in call\n\n  File \"/home/tiago/anaconda3/envs/deepsea-project/lib/python3.10/site-packages/keras/src/engine/functional.py\", line 515, in call\n\n  File \"/home/tiago/anaconda3/envs/deepsea-project/lib/python3.10/site-packages/keras/src/engine/functional.py\", line 672, in _run_internal_graph\n\n  File \"/home/tiago/anaconda3/envs/deepsea-project/lib/python3.10/site-packages/keras/src/layers/rnn/base_rnn.py\", line 556, in __call__\n\n  File \"/home/tiago/anaconda3/envs/deepsea-project/lib/python3.10/site-packages/keras/src/utils/traceback_utils.py\", line 65, in error_handler\n\n  File \"/home/tiago/anaconda3/envs/deepsea-project/lib/python3.10/site-packages/keras/src/engine/base_layer.py\", line 1149, in __call__\n\n  File \"/home/tiago/anaconda3/envs/deepsea-project/lib/python3.10/site-packages/keras/src/utils/traceback_utils.py\", line 96, in error_handler\n\n  File \"/home/tiago/anaconda3/envs/deepsea-project/lib/python3.10/site-packages/keras/src/layers/rnn/gru.py\", line 670, in call\n\n  File \"/home/tiago/anaconda3/envs/deepsea-project/lib/python3.10/site-packages/keras/src/layers/rnn/gru.py\", line 902, in _defun_gru_call\n\n  File \"/home/tiago/anaconda3/envs/deepsea-project/lib/python3.10/site-packages/keras/src/layers/rnn/gru.py\", line 1298, in gru_with_backend_selection\n\n  File \"/home/tiago/anaconda3/envs/deepsea-project/lib/python3.10/site-packages/keras/src/layers/rnn/gru_lstm_utils.py\", line 272, in function_register\n\n  File \"/home/tiago/anaconda3/envs/deepsea-project/lib/python3.10/site-packages/keras/src/layers/rnn/gru.py\", line 1248, in gpu_gru_with_fallback\n\n  File \"/home/tiago/anaconda3/envs/deepsea-project/lib/python3.10/site-packages/keras/src/layers/rnn/gru.py\", line 1220, in cudnn_gru_fn\n\n  File \"/home/tiago/anaconda3/envs/deepsea-project/lib/python3.10/site-packages/keras/src/layers/rnn/gru.py\", line 1083, in gpu_gru\n\nFailed to call ThenRnnForward with model config: [rnn_mode, rnn_input_mode, rnn_direction_mode]: 3, 0, 0 , [num_layers, input_size, num_units, dir_count, max_seq_length, batch_size, cell_num_units]: [1, 512, 512, 1, 2975, 32, 0] \n\t [[{{node cond/CudnnRNNV3}}]]\n\t [[sequential_2/gru_1/PartitionedCall]] [Op:__inference_predict_function_151009]",
     "output_type": "error",
     "traceback": [
      "\u001b[0;31m---------------------------------------------------------------------------\u001b[0m",
      "\u001b[0;31mInternalError\u001b[0m                             Traceback (most recent call last)",
      "Cell \u001b[0;32mIn[9], line 9\u001b[0m\n\u001b[1;32m      6\u001b[0m cnn_unaligned100 \u001b[38;5;241m=\u001b[39m tf\u001b[38;5;241m.\u001b[39mkeras\u001b[38;5;241m.\u001b[39mmodels\u001b[38;5;241m.\u001b[39mload_model(\u001b[38;5;124mf\u001b[39m\u001b[38;5;124m\"\u001b[39m\u001b[38;5;132;01m{\u001b[39;00mMODELDIR\u001b[38;5;132;01m}\u001b[39;00m\u001b[38;5;124m/Fase5-NCRD-neg-unalign100/gru\u001b[39m\u001b[38;5;124m\"\u001b[39m)\n\u001b[1;32m      8\u001b[0m tf\u001b[38;5;241m.\u001b[39mkeras\u001b[38;5;241m.\u001b[39mbackend\u001b[38;5;241m.\u001b[39mclear_session()\n\u001b[0;32m----> 9\u001b[0m yhat \u001b[38;5;241m=\u001b[39m \u001b[43mmodel_eval_p\u001b[49m\u001b[43m(\u001b[49m\u001b[43mcnn_ARPs\u001b[49m\u001b[43m,\u001b[49m\u001b[43mX_dantas\u001b[49m\u001b[43m)\u001b[49m\n\u001b[1;32m     10\u001b[0m yhat_align \u001b[38;5;241m=\u001b[39m model_eval_n(cnn_aligned, X_dantas)\n\u001b[1;32m     11\u001b[0m yhat_unalign \u001b[38;5;241m=\u001b[39m model_eval_n(cnn_unaligned, X_dantas)\n",
      "Cell \u001b[0;32mIn[5], line 10\u001b[0m, in \u001b[0;36mmodel_eval_p\u001b[0;34m(model, data)\u001b[0m\n\u001b[1;32m      9\u001b[0m \u001b[38;5;28;01mdef\u001b[39;00m \u001b[38;5;21mmodel_eval_p\u001b[39m(model,data):\n\u001b[0;32m---> 10\u001b[0m     yhat \u001b[38;5;241m=\u001b[39m \u001b[43mmodel\u001b[49m\u001b[38;5;241;43m.\u001b[39;49m\u001b[43mpredict\u001b[49m\u001b[43m(\u001b[49m\u001b[43mdata\u001b[49m\u001b[43m)\u001b[49m\n\u001b[1;32m     11\u001b[0m     yhat_prob \u001b[38;5;241m=\u001b[39m[np\u001b[38;5;241m.\u001b[39mround(x[np\u001b[38;5;241m.\u001b[39margmax(x)],\u001b[38;5;241m3\u001b[39m)  \u001b[38;5;28;01mfor\u001b[39;00m x \u001b[38;5;129;01min\u001b[39;00m yhat]\n\u001b[1;32m     12\u001b[0m     yhat_oh \u001b[38;5;241m=\u001b[39m tf\u001b[38;5;241m.\u001b[39mconvert_to_tensor([tf\u001b[38;5;241m.\u001b[39mone_hot(np\u001b[38;5;241m.\u001b[39margmax(x),\u001b[38;5;28mlen\u001b[39m(ENCODER_P\u001b[38;5;241m.\u001b[39mcategories_[\u001b[38;5;241m0\u001b[39m])) \u001b[38;5;28;01mfor\u001b[39;00m x \u001b[38;5;129;01min\u001b[39;00m yhat],dtype\u001b[38;5;241m=\u001b[39mtf\u001b[38;5;241m.\u001b[39mfloat32)\n",
      "File \u001b[0;32m~/anaconda3/envs/deepsea-project/lib/python3.10/site-packages/keras/src/utils/traceback_utils.py:70\u001b[0m, in \u001b[0;36mfilter_traceback.<locals>.error_handler\u001b[0;34m(*args, **kwargs)\u001b[0m\n\u001b[1;32m     67\u001b[0m     filtered_tb \u001b[38;5;241m=\u001b[39m _process_traceback_frames(e\u001b[38;5;241m.\u001b[39m__traceback__)\n\u001b[1;32m     68\u001b[0m     \u001b[38;5;66;03m# To get the full stack trace, call:\u001b[39;00m\n\u001b[1;32m     69\u001b[0m     \u001b[38;5;66;03m# `tf.debugging.disable_traceback_filtering()`\u001b[39;00m\n\u001b[0;32m---> 70\u001b[0m     \u001b[38;5;28;01mraise\u001b[39;00m e\u001b[38;5;241m.\u001b[39mwith_traceback(filtered_tb) \u001b[38;5;28;01mfrom\u001b[39;00m \u001b[38;5;28;01mNone\u001b[39;00m\n\u001b[1;32m     71\u001b[0m \u001b[38;5;28;01mfinally\u001b[39;00m:\n\u001b[1;32m     72\u001b[0m     \u001b[38;5;28;01mdel\u001b[39;00m filtered_tb\n",
      "File \u001b[0;32m~/anaconda3/envs/deepsea-project/lib/python3.10/site-packages/tensorflow/python/eager/execute.py:53\u001b[0m, in \u001b[0;36mquick_execute\u001b[0;34m(op_name, num_outputs, inputs, attrs, ctx, name)\u001b[0m\n\u001b[1;32m     51\u001b[0m \u001b[38;5;28;01mtry\u001b[39;00m:\n\u001b[1;32m     52\u001b[0m   ctx\u001b[38;5;241m.\u001b[39mensure_initialized()\n\u001b[0;32m---> 53\u001b[0m   tensors \u001b[38;5;241m=\u001b[39m pywrap_tfe\u001b[38;5;241m.\u001b[39mTFE_Py_Execute(ctx\u001b[38;5;241m.\u001b[39m_handle, device_name, op_name,\n\u001b[1;32m     54\u001b[0m                                       inputs, attrs, num_outputs)\n\u001b[1;32m     55\u001b[0m \u001b[38;5;28;01mexcept\u001b[39;00m core\u001b[38;5;241m.\u001b[39m_NotOkStatusException \u001b[38;5;28;01mas\u001b[39;00m e:\n\u001b[1;32m     56\u001b[0m   \u001b[38;5;28;01mif\u001b[39;00m name \u001b[38;5;129;01mis\u001b[39;00m \u001b[38;5;129;01mnot\u001b[39;00m \u001b[38;5;28;01mNone\u001b[39;00m:\n",
      "\u001b[0;31mInternalError\u001b[0m: Graph execution error:\n\nDetected at node cond/CudnnRNNV3 defined at (most recent call last):\n  File \"/home/tiago/anaconda3/envs/deepsea-project/lib/python3.10/runpy.py\", line 196, in _run_module_as_main\n\n  File \"/home/tiago/anaconda3/envs/deepsea-project/lib/python3.10/runpy.py\", line 86, in _run_code\n\n  File \"/home/tiago/anaconda3/envs/deepsea-project/lib/python3.10/site-packages/ipykernel_launcher.py\", line 18, in <module>\n\n  File \"/home/tiago/anaconda3/envs/deepsea-project/lib/python3.10/site-packages/traitlets/config/application.py\", line 1075, in launch_instance\n\n  File \"/home/tiago/anaconda3/envs/deepsea-project/lib/python3.10/site-packages/ipykernel/kernelapp.py\", line 739, in start\n\n  File \"/home/tiago/anaconda3/envs/deepsea-project/lib/python3.10/site-packages/tornado/platform/asyncio.py\", line 205, in start\n\n  File \"/home/tiago/anaconda3/envs/deepsea-project/lib/python3.10/asyncio/base_events.py\", line 603, in run_forever\n\n  File \"/home/tiago/anaconda3/envs/deepsea-project/lib/python3.10/asyncio/base_events.py\", line 1909, in _run_once\n\n  File \"/home/tiago/anaconda3/envs/deepsea-project/lib/python3.10/asyncio/events.py\", line 80, in _run\n\n  File \"/home/tiago/anaconda3/envs/deepsea-project/lib/python3.10/site-packages/ipykernel/kernelbase.py\", line 545, in dispatch_queue\n\n  File \"/home/tiago/anaconda3/envs/deepsea-project/lib/python3.10/site-packages/ipykernel/kernelbase.py\", line 534, in process_one\n\n  File \"/home/tiago/anaconda3/envs/deepsea-project/lib/python3.10/site-packages/ipykernel/kernelbase.py\", line 437, in dispatch_shell\n\n  File \"/home/tiago/anaconda3/envs/deepsea-project/lib/python3.10/site-packages/ipykernel/ipkernel.py\", line 359, in execute_request\n\n  File \"/home/tiago/anaconda3/envs/deepsea-project/lib/python3.10/site-packages/ipykernel/kernelbase.py\", line 778, in execute_request\n\n  File \"/home/tiago/anaconda3/envs/deepsea-project/lib/python3.10/site-packages/ipykernel/ipkernel.py\", line 446, in do_execute\n\n  File \"/home/tiago/anaconda3/envs/deepsea-project/lib/python3.10/site-packages/ipykernel/zmqshell.py\", line 549, in run_cell\n\n  File \"/home/tiago/anaconda3/envs/deepsea-project/lib/python3.10/site-packages/IPython/core/interactiveshell.py\", line 3075, in run_cell\n\n  File \"/home/tiago/anaconda3/envs/deepsea-project/lib/python3.10/site-packages/IPython/core/interactiveshell.py\", line 3130, in _run_cell\n\n  File \"/home/tiago/anaconda3/envs/deepsea-project/lib/python3.10/site-packages/IPython/core/async_helpers.py\", line 129, in _pseudo_sync_runner\n\n  File \"/home/tiago/anaconda3/envs/deepsea-project/lib/python3.10/site-packages/IPython/core/interactiveshell.py\", line 3334, in run_cell_async\n\n  File \"/home/tiago/anaconda3/envs/deepsea-project/lib/python3.10/site-packages/IPython/core/interactiveshell.py\", line 3517, in run_ast_nodes\n\n  File \"/home/tiago/anaconda3/envs/deepsea-project/lib/python3.10/site-packages/IPython/core/interactiveshell.py\", line 3577, in run_code\n\n  File \"/tmp/ipykernel_270129/2309455231.py\", line 9, in <module>\n\n  File \"/tmp/ipykernel_270129/481595699.py\", line 10, in model_eval_p\n\n  File \"/home/tiago/anaconda3/envs/deepsea-project/lib/python3.10/site-packages/keras/src/utils/traceback_utils.py\", line 65, in error_handler\n\n  File \"/home/tiago/anaconda3/envs/deepsea-project/lib/python3.10/site-packages/keras/src/engine/training.py\", line 2655, in predict\n\n  File \"/home/tiago/anaconda3/envs/deepsea-project/lib/python3.10/site-packages/keras/src/engine/training.py\", line 2440, in predict_function\n\n  File \"/home/tiago/anaconda3/envs/deepsea-project/lib/python3.10/site-packages/keras/src/engine/training.py\", line 2425, in step_function\n\n  File \"/home/tiago/anaconda3/envs/deepsea-project/lib/python3.10/site-packages/keras/src/engine/training.py\", line 2413, in run_step\n\n  File \"/home/tiago/anaconda3/envs/deepsea-project/lib/python3.10/site-packages/keras/src/engine/training.py\", line 2381, in predict_step\n\n  File \"/home/tiago/anaconda3/envs/deepsea-project/lib/python3.10/site-packages/keras/src/utils/traceback_utils.py\", line 65, in error_handler\n\n  File \"/home/tiago/anaconda3/envs/deepsea-project/lib/python3.10/site-packages/keras/src/engine/training.py\", line 590, in __call__\n\n  File \"/home/tiago/anaconda3/envs/deepsea-project/lib/python3.10/site-packages/keras/src/utils/traceback_utils.py\", line 65, in error_handler\n\n  File \"/home/tiago/anaconda3/envs/deepsea-project/lib/python3.10/site-packages/keras/src/engine/base_layer.py\", line 1149, in __call__\n\n  File \"/home/tiago/anaconda3/envs/deepsea-project/lib/python3.10/site-packages/keras/src/utils/traceback_utils.py\", line 96, in error_handler\n\n  File \"/home/tiago/anaconda3/envs/deepsea-project/lib/python3.10/site-packages/keras/src/engine/sequential.py\", line 398, in call\n\n  File \"/home/tiago/anaconda3/envs/deepsea-project/lib/python3.10/site-packages/keras/src/engine/functional.py\", line 515, in call\n\n  File \"/home/tiago/anaconda3/envs/deepsea-project/lib/python3.10/site-packages/keras/src/engine/functional.py\", line 672, in _run_internal_graph\n\n  File \"/home/tiago/anaconda3/envs/deepsea-project/lib/python3.10/site-packages/keras/src/layers/rnn/base_rnn.py\", line 556, in __call__\n\n  File \"/home/tiago/anaconda3/envs/deepsea-project/lib/python3.10/site-packages/keras/src/utils/traceback_utils.py\", line 65, in error_handler\n\n  File \"/home/tiago/anaconda3/envs/deepsea-project/lib/python3.10/site-packages/keras/src/engine/base_layer.py\", line 1149, in __call__\n\n  File \"/home/tiago/anaconda3/envs/deepsea-project/lib/python3.10/site-packages/keras/src/utils/traceback_utils.py\", line 96, in error_handler\n\n  File \"/home/tiago/anaconda3/envs/deepsea-project/lib/python3.10/site-packages/keras/src/layers/rnn/gru.py\", line 670, in call\n\n  File \"/home/tiago/anaconda3/envs/deepsea-project/lib/python3.10/site-packages/keras/src/layers/rnn/gru.py\", line 902, in _defun_gru_call\n\n  File \"/home/tiago/anaconda3/envs/deepsea-project/lib/python3.10/site-packages/keras/src/layers/rnn/gru.py\", line 1298, in gru_with_backend_selection\n\n  File \"/home/tiago/anaconda3/envs/deepsea-project/lib/python3.10/site-packages/keras/src/layers/rnn/gru_lstm_utils.py\", line 272, in function_register\n\n  File \"/home/tiago/anaconda3/envs/deepsea-project/lib/python3.10/site-packages/keras/src/layers/rnn/gru.py\", line 1248, in gpu_gru_with_fallback\n\n  File \"/home/tiago/anaconda3/envs/deepsea-project/lib/python3.10/site-packages/keras/src/layers/rnn/gru.py\", line 1220, in cudnn_gru_fn\n\n  File \"/home/tiago/anaconda3/envs/deepsea-project/lib/python3.10/site-packages/keras/src/layers/rnn/gru.py\", line 1083, in gpu_gru\n\nFailed to call ThenRnnForward with model config: [rnn_mode, rnn_input_mode, rnn_direction_mode]: 3, 0, 0 , [num_layers, input_size, num_units, dir_count, max_seq_length, batch_size, cell_num_units]: [1, 512, 512, 1, 2975, 32, 0] \n\t [[{{node cond/CudnnRNNV3}}]]\n\t [[sequential_2/gru_1/PartitionedCall]] [Op:__inference_predict_function_151009]"
     ]
    }
   ],
   "source": [
    "tf.keras.backend.clear_session()\n",
    "cnn_ARPs = tf.keras.models.load_model(f\"{MODELDIR}/Fase5-NCRD/gru\")\n",
    "cnn_aligned = tf.keras.models.load_model(f\"{MODELDIR}/Fase5-NCRD-neg-align/gru\")\n",
    "cnn_unaligned = tf.keras.models.load_model(f\"{MODELDIR}/Fase5-NCRD-neg-unalign/gru\")\n",
    "cnn_unaligned50 = tf.keras.models.load_model(f\"{MODELDIR}/Fase5-NCRD-neg-unalign50/gru\")\n",
    "cnn_unaligned100 = tf.keras.models.load_model(f\"{MODELDIR}/Fase5-NCRD-neg-unalign100/gru\")\n",
    "\n",
    "tf.keras.backend.clear_session()\n",
    "yhat = model_eval_p(cnn_ARPs,X_dantas)\n",
    "yhat_align = model_eval_n(cnn_aligned, X_dantas)\n",
    "yhat_unalign = model_eval_n(cnn_unaligned, X_dantas)\n",
    "yhat_unalign50 = model_eval_n(cnn_unaligned50,X_dantas)\n",
    "yhat_unalign100 = model_eval_n(cnn_unaligned100,X_dantas)\n",
    "\n",
    "dantas_data[\"GRU-Only-ARPs-class\"] = yhat[0]\n",
    "dantas_data[\"GRU-Only-ARPs-prob\"] = yhat[1]\n",
    "dantas_data[\"GRU-Only-ARPs-class\"] = dantas_data[\"GRU-Only-ARPs-class\"].where(dantas_data[\"GRU-Only-ARPs-prob\"] > 0.5, \"NonR\").to_list()\n",
    "\n",
    "dantas_data[\"GRU-Aligned-class\"] = yhat_align[0]\n",
    "dantas_data[\"GRU-Aligned-prob\"] = yhat_align[1]\n",
    "dantas_data[\"GRU-Unaligned-class\"] = yhat_unalign[0]\n",
    "dantas_data[\"GRU-Unaligned-prob\"] = yhat_unalign[1]\n",
    "# dantas_data[\"GRU-Unaligned50-class\"] = yhat_unalign50[0]\n",
    "# dantas_data[\"GRU-Unaligned50-prob\"] = yhat_unalign50[1]\n",
    "# dantas_data[\"GRU-Unaligned100-class\"] = yhat_unalign100[0]\n",
    "# dantas_data[\"GRU-Unaligned100-prob\"] = yhat_unalign100[1]"
   ]
  },
  {
   "cell_type": "code",
   "execution_count": null,
   "metadata": {},
   "outputs": [],
   "source": [
    "dantas_data.head()"
   ]
  },
  {
   "cell_type": "code",
   "execution_count": null,
   "metadata": {},
   "outputs": [],
   "source": [
    "ncrd_dantas_diamond = pd.read_csv(\"../data/real/dantas/diamond/ncrd-dantas-out.tsv\", sep = \"\\t\", names = [\"qseqid\",\"qlen\",\"sseqid\",\"slen\",\"evalue\", \"bitscore\", \"length\", \"pident\"])\n",
    "ncrd_dantas_diamond = ncrd_dantas_diamond.rename(columns={\"qseqid\":\"Id\"})\n",
    "ncrd_dantas_diamond.tail(3)"
   ]
  },
  {
   "cell_type": "code",
   "execution_count": null,
   "metadata": {},
   "outputs": [],
   "source": [
    "dantas_ncrd_data = dantas_data.merge(ncrd_dantas_diamond[[\"Id\",\"pident\"]], on = \"Id\", how = \"left\")"
   ]
  },
  {
   "cell_type": "code",
   "execution_count": null,
   "metadata": {},
   "outputs": [],
   "source": [
    "dantas_amrfinder = pd.read_csv(\"../data/real/dantas/hmm-amrfinder-out.csv\", sep = \"\\t\").rename(columns= {\"Protein identifier\":\"Id\"})"
   ]
  },
  {
   "cell_type": "code",
   "execution_count": null,
   "metadata": {},
   "outputs": [],
   "source": [
    "dantas_ncrd_amrfinder = dantas_ncrd_data.merge(dantas_amrfinder[[\"Id\",\"Class\",\"% Identity to reference sequence\",\"Method\"]], on = \"Id\", how = \"left\")"
   ]
  },
  {
   "cell_type": "code",
   "execution_count": null,
   "metadata": {},
   "outputs": [],
   "source": [
    "dantas_rgi = pd.read_csv(\"../data/real/dantas/hmm-rgi.txt\",sep = \"\\t\").rename(columns= {\"ORF_ID\":\"Id\"})"
   ]
  },
  {
   "cell_type": "code",
   "execution_count": null,
   "metadata": {},
   "outputs": [],
   "source": [
    "dantas_ncrd_amrfinder_rgi = dantas_ncrd_amrfinder.merge(dantas_rgi[[\"Id\",\"Drug Class\",\"Best_Identities\"]], on = \"Id\", how = \"left\")"
   ]
  },
  {
   "cell_type": "code",
   "execution_count": null,
   "metadata": {},
   "outputs": [],
   "source": [
    "dantas_deeparg = pd.read_csv(\"../data/DeepARG/hmm-hits.mapping.ARG\", sep = \"\\t\").rename(columns = {\"read_id\":\"Id\"})"
   ]
  },
  {
   "cell_type": "code",
   "execution_count": null,
   "metadata": {},
   "outputs": [],
   "source": [
    "dantas_final = dantas_ncrd_amrfinder_rgi.merge(dantas_deeparg[[\"Id\",\"predicted_ARG-class\",\"probability\",\"identity\"]], on = \"Id\", how = \"left\")"
   ]
  },
  {
   "cell_type": "code",
   "execution_count": null,
   "metadata": {},
   "outputs": [],
   "source": [
    "names = {\n",
    "    # \"Only ARGs\": \"DeepSEA-OnlyARGs\" ,\n",
    "    # \"Aligned\": \"DeepSEA-Aligned\",\t\n",
    "    # 'Unaligned': \"DeepSEA-Unaligned\",\t\n",
    "    # \"Unaligned50\": \"DeepSEA-Unaligned50\",\t\n",
    "    # \"Unaligned100\": \"DeepSEA-Unaligned100\",\n",
    "    # \"pident\": \"DeepSEA-Ident\",\n",
    "    \"Class\": \"AMRFinder-class\",\n",
    "    \"% Identity to reference sequence\": \"AMRfinder-Ident\",\n",
    "    \"Method\": \"AMRFinder-Method\",\n",
    "    \"Drug Class\":\"RGI-class\",\n",
    "    \"Best_Identities\": \"RGI-Ident\",\n",
    "    \"predicted_ARG-class\": \"DeepARG-class\",\n",
    "    \"probability\": \"DeepARG-Prob\",\n",
    "    \"identity\": \"DeepARG-Ident\"\n",
    "}\n",
    "\n",
    "dantas_final = dantas_final.rename(columns=names)\n",
    "dantas_final[\"AMRFinder-class\"] = dantas_final[\"AMRFinder-class\"].str.lower()\n",
    "dantas_final[\"RGI-class\"].replace({\"tetracycline antibiotic\":\"tetracycline\",\"glycylcycline; tetracycline antibiotic\":\"tetracycline\"}, inplace = True)\n",
    "dantas_final.head()"
   ]
  },
  {
   "cell_type": "code",
   "execution_count": null,
   "metadata": {},
   "outputs": [],
   "source": [
    "sankey = pd.concat([\n",
    "    dantas_final.loc[:,dantas_final.columns.str.contains(\"class\")],\n",
    "    dantas_final[[\"Func\",\"Id\"]]\n",
    "], axis = 1)\n",
    "\n"
   ]
  },
  {
   "cell_type": "code",
   "execution_count": null,
   "metadata": {},
   "outputs": [],
   "source": [
    "classes = [\"tetracycline\",\"beta-lactam\",\"multidrug\",\"glycopeptide\",\"macrolide-lincosamide-streptogramin\",\"aminoglycoside\"]\n",
    "id = sankey.Id.to_list()\n",
    "func = sankey.Func.to_list()"
   ]
  },
  {
   "cell_type": "code",
   "execution_count": null,
   "metadata": {},
   "outputs": [],
   "source": [
    "sankey.fillna(\"NonR\").replace({\"NonR\"}).drop([\"CNN-Only-ARPs-class\",\"CNNS-Only-ARPs-class\",\"GRU-Only-ARPs-class\"], axis=1).melt(id_vars = \"Id\")"
   ]
  },
  {
   "cell_type": "code",
   "execution_count": null,
   "metadata": {},
   "outputs": [],
   "source": [
    "import plotly.graph_objects as go"
   ]
  },
  {
   "cell_type": "code",
   "execution_count": null,
   "metadata": {},
   "outputs": [],
   "source": []
  },
  {
   "cell_type": "code",
   "execution_count": null,
   "metadata": {},
   "outputs": [],
   "source": []
  },
  {
   "cell_type": "code",
   "execution_count": null,
   "metadata": {},
   "outputs": [],
   "source": []
  },
  {
   "cell_type": "code",
   "execution_count": null,
   "metadata": {},
   "outputs": [],
   "source": []
  },
  {
   "cell_type": "code",
   "execution_count": null,
   "metadata": {},
   "outputs": [],
   "source": [
    "dantas_final_positive_ds = dantas_final.loc[dantas_final.Func == \"Y\", dantas_final.columns.str.contains(\"class\")].melt()\n",
    "dantas_final_positive_ds = pd.crosstab(index = dantas_final_positive_ds[\"variable\"],columns = dantas_final_positive_ds[\"value\"])\n",
    "dantas_final_positive_ds[\"tetracycline\"] = dantas_final_positive_ds[\"tetracycline\"].div(len(dantas_final[dantas_final.Func == \"Y\"])).mul(100)\n",
    "dantas_final_positive_ds = dantas_final_positive_ds[[\"tetracycline\"]]\n",
    "dantas_final_positive_ds.index.name = \"Tool\"\n",
    "dantas_final_positive_ds.reset_index(inplace = True)\n",
    "dantas_final_positive_ds.columns.name = None"
   ]
  },
  {
   "cell_type": "code",
   "execution_count": null,
   "metadata": {},
   "outputs": [],
   "source": [
    "dantas_final_positive_ds[\"Tag\"] = [\"Other\",\"DeepSEA\",\"DeepSEA\",\"DeepSEA\",\"DeepSEA\",\"DeepSEA\",\"DeepSEA\",\"DeepSEA\",\"DeepSEA\",\"DeepSEA\",\"DeepSEA\",\"Other\",\"DeepSEA\",\"DeepSEA\",\"DeepSEA\",\"DeepSEA\",\"DeepSEA\",\"Other\"]"
   ]
  },
  {
   "cell_type": "code",
   "execution_count": null,
   "metadata": {},
   "outputs": [],
   "source": [
    "dantas_final_positive_ds[\"Tool\"] = dantas_final_positive_ds[\"Tool\"].str.rstrip(\"-class\")"
   ]
  },
  {
   "cell_type": "code",
   "execution_count": null,
   "metadata": {},
   "outputs": [],
   "source": [
    "dantas_final_positive_ds"
   ]
  },
  {
   "cell_type": "code",
   "execution_count": null,
   "metadata": {},
   "outputs": [],
   "source": [
    "fig = px.histogram(\n",
    "    dantas_final_positive_ds,\n",
    "    x = \"Tool\",\n",
    "    y = \"tetracycline\",\n",
    "    color = \"Tag\",\n",
    "    barmode = \"group\",\n",
    ")\n",
    "\n",
    "fig.show()"
   ]
  },
  {
   "cell_type": "code",
   "execution_count": null,
   "metadata": {},
   "outputs": [],
   "source": []
  }
 ],
 "metadata": {
  "kernelspec": {
   "display_name": "deepsea",
   "language": "python",
   "name": "python3"
  },
  "language_info": {
   "codemirror_mode": {
    "name": "ipython",
    "version": 3
   },
   "file_extension": ".py",
   "mimetype": "text/x-python",
   "name": "python",
   "nbconvert_exporter": "python",
   "pygments_lexer": "ipython3",
   "version": "3.10.14"
  }
 },
 "nbformat": 4,
 "nbformat_minor": 2
}
