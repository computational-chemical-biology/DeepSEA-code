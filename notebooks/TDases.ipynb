{
 "cells": [
  {
   "cell_type": "code",
   "execution_count": null,
   "metadata": {},
   "outputs": [],
   "source": [
    "import pandas as pd\n",
    "import numpy as np\n",
    "import joblib\n",
    "import matplotlib.pyplot as plt\n",
    "import tensorflow as tf\n",
    "import plotly.express as px\n",
    "tf.keras.backend.clear_session()\n"
   ]
  },
  {
   "cell_type": "code",
   "execution_count": null,
   "metadata": {},
   "outputs": [],
   "source": [
    "MODELDIR = \"../models\""
   ]
  },
  {
   "cell_type": "code",
   "execution_count": null,
   "metadata": {},
   "outputs": [],
   "source": [
    "ENCODER_N = joblib.load(\"../data/NCRD/ncrd95-uniprot-ma_clf_enc.joblib\")\n",
    "ENCODER_N.categories_"
   ]
  },
  {
   "cell_type": "code",
   "execution_count": null,
   "metadata": {},
   "outputs": [],
   "source": [
    "ENCODER_P = joblib.load(\"../data/NCRD/ncrd95-ma_clf_enc.joblib\")\n",
    "ENCODER_P.categories_"
   ]
  },
  {
   "cell_type": "code",
   "execution_count": null,
   "metadata": {},
   "outputs": [],
   "source": [
    "def model_eval_n(model,data):\n",
    "    yhat = model.predict(data)\n",
    "    yhat_prob =[np.round(x[np.argmax(x)],3)  for x in yhat]\n",
    "    yhat_oh = tf.convert_to_tensor([tf.one_hot(np.argmax(x),depth = len(ENCODER_N.categories_[0])) for x in yhat],dtype=tf.float32)\n",
    "    classes = ENCODER_N.inverse_transform(yhat_oh).squeeze()\n",
    "    return np.array(classes), np.array(yhat_prob)\n",
    "\n",
    "\n",
    "def model_eval_p(model,data):\n",
    "    yhat = model.predict(data)\n",
    "    yhat_prob =[np.round(x[np.argmax(x)],3)  for x in yhat]\n",
    "    yhat_oh = tf.convert_to_tensor([tf.one_hot(np.argmax(x),len(ENCODER_P.categories_[0])) for x in yhat],dtype=tf.float32)\n",
    "    classes = ENCODER_P.inverse_transform(yhat_oh).squeeze()\n",
    "    return np.array(classes), np.array(yhat_prob)"
   ]
  },
  {
   "cell_type": "markdown",
   "metadata": {},
   "source": [
    "---"
   ]
  },
  {
   "cell_type": "code",
   "execution_count": null,
   "metadata": {},
   "outputs": [],
   "source": [
    "func = list(\"YNNYYNNNNNNNYNNNNNNNNNYNNNNNNNNNNNNYYNYYYYYNYNNNYN\")\n",
    "\n",
    "dantas_data = pd.read_csv(\"../data/real/dantas/hmm-hit.tsv\",sep = \"\\t\",names = [\"Id\",\"Acc\",\"Sequence\"])\n",
    "dantas_data[\"Sequence\"] = dantas_data.Sequence.apply(lambda x: \" \".join(x))\n",
    "dantas_data[\"Func\"] = func\n",
    "X_dantas = tf.convert_to_tensor(dantas_data.Sequence.to_list())"
   ]
  },
  {
   "cell_type": "code",
   "execution_count": null,
   "metadata": {},
   "outputs": [],
   "source": [
    "tf.keras.backend.clear_session()\n",
    "cnn_ARPs = tf.keras.models.load_model(f\"{MODELDIR}/Fase5-NCRD/cnn\")\n",
    "cnn_aligned = tf.keras.models.load_model(f\"{MODELDIR}/Fase5-NCRD-align/cnn\")\n",
    "cnn_unaligned = tf.keras.models.load_model(f\"{MODELDIR}/Fase5-NCRD-unalign/cnn\")\n",
    "cnn_unaligned50 = tf.keras.models.load_model(f\"{MODELDIR}/Fase5-NCRD-unalign50/cnn\")\n",
    "cnn_unaligned100 = tf.keras.models.load_model(f\"{MODELDIR}/Fase5-NCRD-unalign100/cnn\")\n",
    "\n",
    "tf.keras.backend.clear_session()\n",
    "yhat = model_eval_p(cnn_ARPs,X_dantas)\n",
    "yhat_align = model_eval_n(cnn_aligned, X_dantas)\n",
    "yhat_unalign = model_eval_n(cnn_unaligned, X_dantas)\n",
    "yhat_unalign50 = model_eval_n(cnn_unaligned50,X_dantas)\n",
    "yhat_unalign100 = model_eval_n(cnn_unaligned100,X_dantas)\n",
    "\n",
    "dantas_data[\"CNN-Only-ARPs-class\"] = yhat[0]\n",
    "dantas_data[\"CNN-Only-ARPs-prob\"] = yhat[1]\n",
    "dantas_data[\"CNN-Only-ARPs-class\"] = dantas_data[\"CNN-Only-ARPs-class\"].where(dantas_data[\"CNN-Only-ARPs-prob\"] > 0.5, \"NonR\").to_list()\n",
    "\n",
    "dantas_data[\"CNN-Aligned-class\"] = yhat_align[0]\n",
    "dantas_data[\"CNN-Aligned-prob\"] = yhat_align[1]\n",
    "dantas_data[\"CNN-Unaligned-class\"] = yhat_unalign[0]\n",
    "dantas_data[\"CNN-Unaligned-prob\"] = yhat_unalign[1]\n",
    "# dantas_data[\"CNN-Unaligned50-class\"] = yhat_unalign50[0]\n",
    "# dantas_data[\"CNN-Unaligned50-prob\"] = yhat_unalign50[1]\n",
    "# dantas_data[\"CNN-Unaligned100-class\"] = yhat_unalign100[0]\n",
    "# dantas_data[\"CNN-Unaligned100-prob\"] = yhat_unalign100[1]"
   ]
  },
  {
   "cell_type": "code",
   "execution_count": null,
   "metadata": {},
   "outputs": [],
   "source": [
    "tf.keras.backend.clear_session()\n",
    "cnn_ARPs = tf.keras.models.load_model(f\"{MODELDIR}/Fase5-NCRD/cnn-same\")\n",
    "cnn_aligned = tf.keras.models.load_model(f\"{MODELDIR}/Fase5-NCRD-align/cnn-same\")\n",
    "cnn_unaligned = tf.keras.models.load_model(f\"{MODELDIR}/Fase5-NCRD-unalign/cnn-same\")\n",
    "cnn_unaligned50 = tf.keras.models.load_model(f\"{MODELDIR}/Fase5-NCRD-unalign50/cnn-same\")\n",
    "cnn_unaligned100 = tf.keras.models.load_model(f\"{MODELDIR}/Fase5-NCRD-unalign100/cnn-same\")\n",
    "\n",
    "tf.keras.backend.clear_session()\n",
    "yhat = model_eval_p(cnn_ARPs,X_dantas)\n",
    "yhat_align = model_eval_n(cnn_aligned, X_dantas)\n",
    "yhat_unalign = model_eval_n(cnn_unaligned, X_dantas)\n",
    "yhat_unalign50 = model_eval_n(cnn_unaligned50,X_dantas)\n",
    "yhat_unalign100 = model_eval_n(cnn_unaligned100,X_dantas)\n",
    "\n",
    "dantas_data[\"CNNS-Only-ARPs-class\"] = yhat[0]\n",
    "dantas_data[\"CNNS-Only-ARPs-prob\"] = yhat[1]\n",
    "dantas_data[\"CNNS-Only-ARPs-class\"] = dantas_data[\"CNNS-Only-ARPs-class\"].where(dantas_data[\"CNNS-Only-ARPs-prob\"] > 0.5, \"NonR\").to_list()\n",
    "\n",
    "dantas_data[\"CNNS-Aligned-class\"] = yhat_align[0]\n",
    "dantas_data[\"CNNS-Aligned-prob\"] = yhat_align[1]\n",
    "dantas_data[\"CNNS-Unaligned-class\"] = yhat_unalign[0]\n",
    "dantas_data[\"CNNS-Unaligned-prob\"] = yhat_unalign[1]\n",
    "# dantas_data[\"CNNS-Unaligned50-class\"] = yhat_unalign50[0]\n",
    "# dantas_data[\"CNNS-Unaligned50-prob\"] = yhat_unalign50[1]\n",
    "# dantas_data[\"CNNS-Unaligned100-class\"] = yhat_unalign100[0]\n",
    "# dantas_data[\"CNNS-Unaligned100-prob\"] = yhat_unalign100[1]"
   ]
  },
  {
   "cell_type": "code",
   "execution_count": null,
   "metadata": {},
   "outputs": [],
   "source": [
    "tf.keras.backend.clear_session()\n",
    "cnn_ARPs = tf.keras.models.load_model(f\"{MODELDIR}/Fase5-NCRD/gru\")\n",
    "cnn_aligned = tf.keras.models.load_model(f\"{MODELDIR}/Fase5-NCRD-align/gru\")\n",
    "cnn_unaligned = tf.keras.models.load_model(f\"{MODELDIR}/Fase5-NCRD-unalign/gru\")\n",
    "cnn_unaligned50 = tf.keras.models.load_model(f\"{MODELDIR}/Fase5-NCRD-unalign50/gru\")\n",
    "cnn_unaligned100 = tf.keras.models.load_model(f\"{MODELDIR}/Fase5-NCRD-unalign100/gru\")\n",
    "\n",
    "tf.keras.backend.clear_session()\n",
    "yhat = model_eval_p(cnn_ARPs,X_dantas)\n",
    "yhat_align = model_eval_n(cnn_aligned, X_dantas)\n",
    "yhat_unalign = model_eval_n(cnn_unaligned, X_dantas)\n",
    "yhat_unalign50 = model_eval_n(cnn_unaligned50,X_dantas)\n",
    "yhat_unalign100 = model_eval_n(cnn_unaligned100,X_dantas)\n",
    "\n",
    "dantas_data[\"GRU-Only-ARPs-class\"] = yhat[0]\n",
    "dantas_data[\"GRU-Only-ARPs-prob\"] = yhat[1]\n",
    "dantas_data[\"GRU-Only-ARPs-class\"] = dantas_data[\"GRU-Only-ARPs-class\"].where(dantas_data[\"GRU-Only-ARPs-prob\"] > 0.5, \"NonR\").to_list()\n",
    "\n",
    "dantas_data[\"GRU-Aligned-class\"] = yhat_align[0]\n",
    "dantas_data[\"GRU-Aligned-prob\"] = yhat_align[1]\n",
    "dantas_data[\"GRU-Unaligned-class\"] = yhat_unalign[0]\n",
    "dantas_data[\"GRU-Unaligned-prob\"] = yhat_unalign[1]\n",
    "# dantas_data[\"GRU-Unaligned50-class\"] = yhat_unalign50[0]\n",
    "# dantas_data[\"GRU-Unaligned50-prob\"] = yhat_unalign50[1]\n",
    "# dantas_data[\"GRU-Unaligned100-class\"] = yhat_unalign100[0]\n",
    "# dantas_data[\"GRU-Unaligned100-prob\"] = yhat_unalign100[1]"
   ]
  },
  {
   "cell_type": "code",
   "execution_count": null,
   "metadata": {},
   "outputs": [],
   "source": [
    "dantas_data.head()"
   ]
  },
  {
   "cell_type": "code",
   "execution_count": null,
   "metadata": {},
   "outputs": [],
   "source": [
    "ncrd_dantas_diamond = pd.read_csv(\"../data/real/dantas/diamond/ncrd-dantas-out.tsv\", sep = \"\\t\", names = [\"qseqid\",\"qlen\",\"sseqid\",\"slen\",\"evalue\", \"bitscore\", \"length\", \"pident\"])\n",
    "ncrd_dantas_diamond = ncrd_dantas_diamond.rename(columns={\"qseqid\":\"Id\"})\n",
    "ncrd_dantas_diamond.tail(3)"
   ]
  },
  {
   "cell_type": "code",
   "execution_count": null,
   "metadata": {},
   "outputs": [],
   "source": [
    "dantas_ncrd_data = dantas_data.merge(ncrd_dantas_diamond[[\"Id\",\"pident\"]], on = \"Id\", how = \"left\")"
   ]
  },
  {
   "cell_type": "code",
   "execution_count": null,
   "metadata": {},
   "outputs": [],
   "source": [
    "dantas_amrfinder = pd.read_csv(\"../data/real/dantas/hmm-amrfinder-out.csv\", sep = \"\\t\").rename(columns= {\"Protein identifier\":\"Id\"})"
   ]
  },
  {
   "cell_type": "code",
   "execution_count": null,
   "metadata": {},
   "outputs": [],
   "source": [
    "dantas_ncrd_amrfinder = dantas_ncrd_data.merge(dantas_amrfinder[[\"Id\",\"Class\",\"% Identity to reference sequence\",\"Method\"]], on = \"Id\", how = \"left\")"
   ]
  },
  {
   "cell_type": "code",
   "execution_count": null,
   "metadata": {},
   "outputs": [],
   "source": [
    "dantas_rgi = pd.read_csv(\"../data/real/dantas/hmm-rgi.txt\",sep = \"\\t\").rename(columns= {\"ORF_ID\":\"Id\"})"
   ]
  },
  {
   "cell_type": "code",
   "execution_count": null,
   "metadata": {},
   "outputs": [],
   "source": [
    "dantas_ncrd_amrfinder_rgi = dantas_ncrd_amrfinder.merge(dantas_rgi[[\"Id\",\"Drug Class\",\"Best_Identities\"]], on = \"Id\", how = \"left\")"
   ]
  },
  {
   "cell_type": "code",
   "execution_count": null,
   "metadata": {},
   "outputs": [],
   "source": [
    "dantas_deeparg = pd.read_csv(\"../data/DeepARG/hmm-hits.mapping.ARG\", sep = \"\\t\").rename(columns = {\"read_id\":\"Id\"})"
   ]
  },
  {
   "cell_type": "code",
   "execution_count": null,
   "metadata": {},
   "outputs": [],
   "source": [
    "dantas_final = dantas_ncrd_amrfinder_rgi.merge(dantas_deeparg[[\"Id\",\"predicted_ARG-class\",\"probability\",\"identity\"]], on = \"Id\", how = \"left\")"
   ]
  },
  {
   "cell_type": "code",
   "execution_count": null,
   "metadata": {},
   "outputs": [],
   "source": [
    "names = {\n",
    "    # \"Only ARGs\": \"DeepSEA-OnlyARGs\" ,\n",
    "    # \"Aligned\": \"DeepSEA-Aligned\",\t\n",
    "    # 'Unaligned': \"DeepSEA-Unaligned\",\t\n",
    "    # \"Unaligned50\": \"DeepSEA-Unaligned50\",\t\n",
    "    # \"Unaligned100\": \"DeepSEA-Unaligned100\",\n",
    "    # \"pident\": \"DeepSEA-Ident\",\n",
    "    \"Class\": \"AMRFinder-class\",\n",
    "    \"% Identity to reference sequence\": \"AMRfinder-Ident\",\n",
    "    \"Method\": \"AMRFinder-Method\",\n",
    "    \"Drug Class\":\"RGI-class\",\n",
    "    \"Best_Identities\": \"RGI-Ident\",\n",
    "    \"predicted_ARG-class\": \"DeepARG-class\",\n",
    "    \"probability\": \"DeepARG-Prob\",\n",
    "    \"identity\": \"DeepARG-Ident\"\n",
    "}\n",
    "\n",
    "dantas_final = dantas_final.rename(columns=names)\n",
    "dantas_final[\"AMRFinder-class\"] = dantas_final[\"AMRFinder-class\"].str.lower()\n",
    "dantas_final[\"RGI-class\"].replace({\"tetracycline antibiotic\":\"tetracycline\",\"glycylcycline; tetracycline antibiotic\":\"tetracycline\"}, inplace = True)\n",
    "dantas_final.head()"
   ]
  },
  {
   "cell_type": "code",
   "execution_count": null,
   "metadata": {},
   "outputs": [],
   "source": [
    "sankey = pd.concat([\n",
    "    dantas_final.loc[:,dantas_final.columns.str.contains(\"class\")],\n",
    "    dantas_final[[\"Func\",\"Id\"]]\n",
    "], axis = 1)\n",
    "\n"
   ]
  },
  {
   "cell_type": "code",
   "execution_count": null,
   "metadata": {},
   "outputs": [],
   "source": [
    "classes = [\"tetracycline\",\"beta-lactam\",\"multidrug\",\"glycopeptide\",\"macrolide-lincosamide-streptogramin\",\"aminoglycoside\"]\n",
    "id = sankey.Id.to_list()\n",
    "func = sankey.Func.to_list()"
   ]
  },
  {
   "cell_type": "code",
   "execution_count": null,
   "metadata": {},
   "outputs": [],
   "source": [
    "sankey.fillna(\"NonR\").replace({\"NonR\"}).drop([\"CNN-Only-ARPs-class\",\"CNNS-Only-ARPs-class\",\"GRU-Only-ARPs-class\"], axis=1).melt(id_vars = \"Id\")"
   ]
  },
  {
   "cell_type": "code",
   "execution_count": null,
   "metadata": {},
   "outputs": [],
   "source": [
    "dantas_final_positive_ds = dantas_final.loc[dantas_final.Func == \"Y\", dantas_final.columns.str.contains(\"class\")].melt()\n",
    "dantas_final_positive_ds = pd.crosstab(index = dantas_final_positive_ds[\"variable\"],columns = dantas_final_positive_ds[\"value\"])\n",
    "dantas_final_positive_ds[\"tetracycline\"] = dantas_final_positive_ds[\"tetracycline\"].div(len(dantas_final[dantas_final.Func == \"Y\"])).mul(100)\n",
    "dantas_final_positive_ds = dantas_final_positive_ds[[\"tetracycline\"]]\n",
    "dantas_final_positive_ds.index.name = \"Tool\"\n",
    "dantas_final_positive_ds.reset_index(inplace = True)\n",
    "dantas_final_positive_ds.columns.name = None"
   ]
  },
  {
   "cell_type": "code",
   "execution_count": null,
   "metadata": {},
   "outputs": [],
   "source": [
    "dantas_final_positive_ds[\"Tag\"] = [\"Other\",\"DeepSEA\",\"DeepSEA\",\"DeepSEA\",\"DeepSEA\",\"DeepSEA\",\"DeepSEA\",\"DeepSEA\",\"DeepSEA\",\"DeepSEA\",\"DeepSEA\",\"Other\",\"DeepSEA\",\"DeepSEA\",\"DeepSEA\",\"DeepSEA\",\"DeepSEA\",\"Other\"]"
   ]
  },
  {
   "cell_type": "code",
   "execution_count": null,
   "metadata": {},
   "outputs": [],
   "source": [
    "dantas_final_positive_ds[\"Tool\"] = dantas_final_positive_ds[\"Tool\"].str.rstrip(\"-class\")"
   ]
  },
  {
   "cell_type": "code",
   "execution_count": null,
   "metadata": {},
   "outputs": [],
   "source": [
    "dantas_final_positive_ds"
   ]
  },
  {
   "cell_type": "code",
   "execution_count": null,
   "metadata": {},
   "outputs": [],
   "source": [
    "fig = px.histogram(\n",
    "    dantas_final_positive_ds,\n",
    "    x = \"Tool\",\n",
    "    y = \"tetracycline\",\n",
    "    color = \"Tag\",\n",
    "    barmode = \"group\",\n",
    ")\n",
    "\n",
    "fig.show()"
   ]
  }
 ],
 "metadata": {
  "kernelspec": {
   "display_name": "deepsea",
   "language": "python",
   "name": "python3"
  },
  "language_info": {
   "codemirror_mode": {
    "name": "ipython",
    "version": 3
   },
   "file_extension": ".py",
   "mimetype": "text/x-python",
   "name": "python",
   "nbconvert_exporter": "python",
   "pygments_lexer": "ipython3",
   "version": "3.10.14"
  }
 },
 "nbformat": 4,
 "nbformat_minor": 2
}
