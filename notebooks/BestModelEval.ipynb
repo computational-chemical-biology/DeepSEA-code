{
 "cells": [
  {
   "cell_type": "code",
   "execution_count": null,
   "metadata": {},
   "outputs": [],
   "source": [
    "import pandas as pd\n",
    "import seaborn as sn\n",
    "import numpy as np\n",
    "import plotly.graph_objects as go\n",
    "import tensorflow as tf\n",
    "import joblib\n",
    "from sklearn.manifold import TSNE\n",
    "from sklearn.metrics import confusion_matrix, ConfusionMatrixDisplay,classification_report, accuracy_score\n",
    "%matplotlib inline\n",
    "sn.set_context(\"paper\")"
   ]
  },
  {
   "cell_type": "code",
   "execution_count": null,
   "metadata": {},
   "outputs": [],
   "source": [
    "def model_eval(model,data,dim):\n",
    "    yhat = model.predict(data)\n",
    "    yhat_prob =[np.round(x[np.argmax(x)],3)  for x in yhat]\n",
    "    yhat_oh = tf.convert_to_tensor([tf.one_hot(np.argmax(x),depth = dim) for x in yhat],dtype=tf.float32)\n",
    "    return yhat_oh, yhat_prob\n",
    "\n",
    "def one_value_metrics(ENCODER,TRAIN,TEST,MODELDIR,ARCH, DB):\n",
    "    with tf.device(\"cpu\"):\n",
    "        train = pd.read_csv(TRAIN)\n",
    "        train = train[[\"Class\",\"Sequence\"]]\n",
    "        n_sample_train = len(train.loc[train.Class==\"NonR\"])\n",
    "        l_train = len(train)\n",
    "        del train\n",
    "        test = pd.read_csv(TEST)\n",
    "        test =  test[[\"Class\",\"Sequence\"]]\n",
    "        n_sample_test = len(test.loc[test.Class==\"NonR\"])\n",
    "        l_test = len(test)\n",
    "        negative_size = n_sample_train + n_sample_test\n",
    "        db_size = l_train + l_test\n",
    "        test[\"Sequence\"] = test.Sequence.apply(lambda x: \" \".join(x))\n",
    "        X_test = tf.convert_to_tensor(test.Sequence.to_list())\n",
    "        y_test = ENCODER.transform(test.Class.to_numpy().reshape(-1,1)).toarray()\n",
    "    model = tf.keras.models.load_model(f\"{MODELDIR}/{ARCH}\")\n",
    "    yhat,_ = model_eval(model, X_test, len(ENCODER.categories_[0]))\n",
    "    acc = accuracy_score(y_test, yhat)\n",
    "    return [ARCH, DB, db_size, negative_size, l_train, l_test, np.round(acc,3)]\n",
    "\n",
    "def get_clf_report(ENCODER,MODELDIR,TEST,ARCH,SUFFIX):\n",
    "    test = pd.read_csv(TEST)\n",
    "    test =  test[[\"Class\",\"Sequence\"]]\n",
    "    test[\"Sequence\"] = test.Sequence.apply(lambda x: \" \".join(x))\n",
    "    X_test = tf.convert_to_tensor(test.Sequence.to_list())\n",
    "    y_test = ENCODER.transform(test.Class.to_numpy().reshape(-1,1)).toarray()\n",
    " \n",
    "    model_cnn = tf.keras.models.load_model(f\"{MODELDIR}/{ARCH[0]}\")\n",
    "    model_cnns = tf.keras.models.load_model(f\"{MODELDIR}/{ARCH[1]}\")\n",
    "    model_gru = tf.keras.models.load_model(f\"{MODELDIR}/{ARCH[2]}\")\n",
    "\n",
    "    yhat_cnn, _ = model_eval(model_cnn, X_test, len(ENCODER.categories_[0]))\n",
    "    yhat_cnns, _ = model_eval(model_cnns, X_test, len(ENCODER.categories_[0]))\n",
    "    yhat_gru, _ = model_eval(model_gru, X_test, len(ENCODER.categories_[0]))\n",
    "\n",
    "    df = pd.concat([\n",
    "        pd.DataFrame(classification_report(y_test, yhat_cnn, target_names=ENCODER.categories_[0], output_dict=True)).iloc[:3,:-4].round(2).T.add_prefix(f\"{ARCH[0]}-\"),\n",
    "        pd.DataFrame(classification_report(y_test, yhat_cnns, target_names=ENCODER.categories_[0], output_dict=True)).iloc[:3,:-4].round(2).T.add_prefix(f\"{ARCH[1]}-\"),\n",
    "        pd.DataFrame(classification_report(y_test, yhat_gru, target_names=ENCODER.categories_[0], output_dict=True)).iloc[:3,:-4].round(2).T.add_prefix(f\"{ARCH[2]}-\"),\n",
    "    ], axis = 1)\n",
    "    df.rename(index = {\"macrolide-lincosamide-streptogramin\":\"MLS\"}, inplace = True)\n",
    "    df = df.add_suffix(f\" ({SUFFIX})\", axis = 0)\n",
    "    return df.sort_index()\n"
   ]
  },
  {
   "cell_type": "markdown",
   "metadata": {},
   "source": [
    "ACURACY"
   ]
  },
  {
   "cell_type": "markdown",
   "metadata": {},
   "source": [
    "NCRD"
   ]
  },
  {
   "cell_type": "code",
   "execution_count": null,
   "metadata": {},
   "outputs": [],
   "source": [
    "\n",
    "ENCODER =joblib.load(\"../data/NCRD/ncrd95-ma_clf_enc.joblib\")\n",
    "TRAIN = \"../data/NCRD/TrainNcrd95-ma.csv\"\n",
    "TEST = \"../data/NCRD/TestNcrd95-ma.csv\"\n",
    "MODELDIR = \"../models/Fase5-NCRD\"\n",
    "#Acc\n",
    "tf.keras.backend.clear_session()\n",
    "CNN =  one_value_metrics(ENCODER,TRAIN,TEST,MODELDIR,\"cnn\",\"NCRD\")\n",
    "CNNS = one_value_metrics(ENCODER,TRAIN,TEST,MODELDIR,\"cnn-same\",\"NCRD\")\n",
    "GRU =  one_value_metrics(ENCODER,TRAIN,TEST,MODELDIR,\"gru\",\"NCRD\")\n",
    "tf.keras.backend.clear_session()"
   ]
  },
  {
   "cell_type": "code",
   "execution_count": null,
   "metadata": {},
   "outputs": [],
   "source": [
    "clf_report = get_clf_report(ENCODER,MODELDIR,TEST,[\"cnn\",\"cnn-same\",\"gru\"],\"Only ARPs\")\n",
    "clf_report = clf_report.reindex([\n",
    "    \"MLS (Only ARPs)\",\n",
    "    \"aminoglycoside (Only ARPs)\",\n",
    "    \"beta_lactam (Only ARPs)\",\n",
    "    \"chloramphenicol (Only ARPs)\",\n",
    "    \"glycopeptide (Only ARPs)\",\n",
    "    \"macrolide (Only ARPs)\",\n",
    "    \"multidrug (Only ARPs)\",\n",
    "    \"phosphonic acid (Only ARPs)\",\n",
    "    \"rifamcyn (Only ARPs)\",\n",
    "    \"tetracycline (Only ARPs)\"\n",
    "    ])\n",
    "\n",
    "categories = clf_report.columns.to_list()\n",
    "fig = go.Figure()\n",
    "for i in clf_report.index:\n",
    "    fig.add_trace(go.Scatterpolar(\n",
    "    r = clf_report.loc[i,:].values,\n",
    "    theta = categories,\n",
    "    name = i))\n",
    "\n",
    "fig.update_layout(\n",
    "  polar=dict(\n",
    "    radialaxis=dict(\n",
    "      visible=True,\n",
    "      color = \"black\"\n",
    "    )),\n",
    "  showlegend=True\n",
    ")\n",
    "\n",
    "fig.show()\n",
    "fig.write_image(\"../../figs/ncrd-report-onlyAPRs.svg\")"
   ]
  },
  {
   "cell_type": "code",
   "execution_count": null,
   "metadata": {},
   "outputs": [],
   "source": [
    "ENCODER =joblib.load(\"../data/NCRD/ncrd95-uniprot-ma_clf_enc.joblib\")\n",
    "TRAIN = \"../data/NCRD/TrainNcrd95-ma-align.csv\"\n",
    "TEST = \"../data/NCRD/TestNcrd95-ma-align.csv\"\n",
    "MODELDIR = \"../models/Fase5-NCRD-align\"\n",
    "#acc\n",
    "tf.keras.backend.clear_session()\n",
    "CNN_align = one_value_metrics(ENCODER,TRAIN,TEST,MODELDIR,\"cnn\",\"NCRD-uniprot-align\")\n",
    "CNNS_align = one_value_metrics(ENCODER,TRAIN,TEST,MODELDIR,\"cnn-same\",\"NCRD-uniprot-align\")\n",
    "GRU_align = one_value_metrics(ENCODER,TRAIN,TEST,MODELDIR,\"gru\",\"NCRD-uniprot-align\")\n",
    "tf.keras.backend.clear_session()\n",
    "#clf report\n",
    "\n"
   ]
  },
  {
   "cell_type": "code",
   "execution_count": null,
   "metadata": {},
   "outputs": [],
   "source": [
    "clf_report = get_clf_report(ENCODER,MODELDIR,TEST,[\"cnn\",\"cnn-same\",\"gru\"],\"Align\")\n",
    "clf_report = clf_report.reindex([\n",
    "    \"MLS (Align)\",\n",
    "    \"aminoglycoside (Align)\",\n",
    "    \"beta_lactam (Align)\",\n",
    "    \"chloramphenicol (Align)\",\n",
    "    \"glycopeptide (Align)\",\n",
    "    \"macrolide (Align)\",\n",
    "    \"multidrug (Align)\",\n",
    "    \"phosphonic acid (Align)\",\n",
    "    \"rifamcyn (Align)\",\n",
    "    \"tetracycline (Align)\",\n",
    "    \"NonR (Align)\"\n",
    "    ])\n",
    "\n",
    "categories = clf_report.columns.to_list()\n",
    "fig = go.Figure()\n",
    "for i in clf_report.index:\n",
    "    fig.add_trace(go.Scatterpolar(\n",
    "    r = clf_report.loc[i,:].values,\n",
    "    theta = categories,\n",
    "    name = i))\n",
    "\n",
    "fig.update_layout(\n",
    "  polar=dict(\n",
    "    radialaxis=dict(\n",
    "      visible=True,\n",
    "      color = \"black\"\n",
    "    )),\n",
    "  showlegend=True\n",
    ")\n",
    "\n",
    "fig.show()\n",
    "fig.write_image(\"../figs/ncrd-report-Align.svg\")"
   ]
  },
  {
   "cell_type": "code",
   "execution_count": null,
   "metadata": {},
   "outputs": [],
   "source": [
    "ENCODER =joblib.load(\"../data/NCRD/ncrd95-uniprot-ma_clf_enc.joblib\")\n",
    "TRAIN = \"../data/NCRD/TrainNcrd95-ma-unalign.csv\"\n",
    "TEST = \"../data/NCRD/TestNcrd95-ma-unalign.csv\"\n",
    "MODELDIR = \"../models/Fase5-NCRD-neg-unalign\"\n",
    "tf.keras.backend.clear_session()\n",
    "CNN_unalign = one_value_metrics(ENCODER,TRAIN,TEST,MODELDIR,\"cnn\",\"NCRD-uniprot-unalign\")\n",
    "CNNS_unalign = one_value_metrics(ENCODER,TRAIN,TEST,MODELDIR,\"cnn-same\",\"NCRD-uniprot-unalign\")\n",
    "GRU_unalign = one_value_metrics(ENCODER,TRAIN,TEST,MODELDIR,\"gru\",\"NCRD-uniprot-unalign\")\n",
    "tf.keras.backend.clear_session()\n",
    "#clf report\n"
   ]
  },
  {
   "cell_type": "code",
   "execution_count": null,
   "metadata": {},
   "outputs": [],
   "source": [
    "clf_report = get_clf_report(ENCODER,MODELDIR,TEST,[\"cnn\",\"cnn-same\",\"gru\"],\"Unalign\")\n",
    "clf_report = clf_report.reindex([\n",
    "    \"MLS (Unalign)\",\n",
    "    \"aminoglycoside (Unalign)\",\n",
    "    \"beta_lactam (Unalign)\",\n",
    "    \"chloramphenicol (Unalign)\",\n",
    "    \"glycopeptide (Unalign)\",\n",
    "    \"macrolide (Unalign)\",\n",
    "    \"multidrug (Unalign)\",\n",
    "    \"phosphonic acid (Unalign)\",\n",
    "    \"rifamcyn (Unalign)\",\n",
    "    \"tetracycline (Unalign)\",\n",
    "    \"NonR (Unalign)\"\n",
    "    ])\n",
    "\n",
    "categories = clf_report.columns.to_list()\n",
    "fig = go.Figure()\n",
    "for i in clf_report.index:\n",
    "    fig.add_trace(go.Scatterpolar(\n",
    "    r = clf_report.loc[i,:].values,\n",
    "    theta = categories,\n",
    "    name = i))\n",
    "\n",
    "fig.update_layout(\n",
    "  polar=dict(\n",
    "    radialaxis=dict(\n",
    "      visible=True,\n",
    "      color = \"black\"\n",
    "    )),\n",
    "  showlegend=True\n",
    ")\n",
    "\n",
    "fig.show()\n",
    "fig.write_image(\"../../figs/ncrd-report-Unalign.svg\")"
   ]
  },
  {
   "cell_type": "code",
   "execution_count": null,
   "metadata": {},
   "outputs": [],
   "source": [
    "ENCODER =joblib.load(\"../data/NCRD/ncrd95-uniprot-ma_clf_enc.joblib\")\n",
    "TRAIN = \"../data/NCRD/TrainNcrd95-ma-unalign50.csv\"\n",
    "TEST = \"../data/NCRD/TestNcrd95-ma-unalign50.csv\"\n",
    "MODELDIR = \"../models/Fase5-NCRD-neg-unalign50\"\n",
    "tf.keras.backend.clear_session()\n",
    "CNN_unalign50 = one_value_metrics(ENCODER,TRAIN,TEST,MODELDIR,\"cnn\",\"NCRD-uniprot-unalign (50%)\")\n",
    "CNNS_unalign50 = one_value_metrics(ENCODER,TRAIN,TEST,MODELDIR,\"cnn-same\",\"NCRD-uniprot-unalign (50%)\")\n",
    "GRU_unalign50 = one_value_metrics(ENCODER,TRAIN,TEST,MODELDIR,\"gru\",\"NCRD-uniprot-unalign (50%)\")\n",
    "tf.keras.backend.clear_session()\n",
    "#clf report\n"
   ]
  },
  {
   "cell_type": "code",
   "execution_count": null,
   "metadata": {},
   "outputs": [],
   "source": [
    "clf_report = get_clf_report(ENCODER,MODELDIR,TEST,[\"cnn\",\"cnn-same\",\"gru\"],\"Unalig 50%\")\n",
    "clf_report = clf_report.reindex([\n",
    "    \"MLS (Unalig 50%)\",\n",
    "    \"aminoglycoside (Unalig 50%)\",\n",
    "    \"beta_lactam (Unalig 50%)\",\n",
    "    \"chloramphenicol (Unalig 50%)\",\n",
    "    \"glycopeptide (Unalig 50%)\",\n",
    "    \"macrolide (Unalig 50%)\",\n",
    "    \"multidrug (Unalig 50%)\",\n",
    "    \"phosphonic acid (Unalig 50%)\",\n",
    "    \"rifamcyn (Unalig 50%)\",\n",
    "    \"tetracycline (Unalig 50%)\",\n",
    "    \"NonR (Unalig 50%)\"\n",
    "    ])\n",
    "\n",
    "categories = clf_report.columns.to_list()\n",
    "fig = go.Figure()\n",
    "for i in clf_report.index:\n",
    "    fig.add_trace(go.Scatterpolar(\n",
    "    r = clf_report.loc[i,:].values,\n",
    "    theta = categories,\n",
    "    name = i))\n",
    "\n",
    "fig.update_layout(\n",
    "  polar=dict(\n",
    "    radialaxis=dict(\n",
    "      visible=True,\n",
    "      color = \"black\"\n",
    "    )),\n",
    "  showlegend=True\n",
    ")\n",
    "\n",
    "fig.show()\n",
    "fig.write_image(\"../figs/ncrd-report-Unalign50.svg\")"
   ]
  },
  {
   "cell_type": "code",
   "execution_count": null,
   "metadata": {},
   "outputs": [],
   "source": [
    "ENCODER =joblib.load(\"../data/NCRD/ncrd95-uniprot-ma_clf_enc.joblib\")\n",
    "TRAIN = \"../data/NCRD/TrainNcrd95-ma-unalign100.csv\"\n",
    "TEST = \"../data/NCRD/TestNcrd95-ma-unalign100.csv\"\n",
    "MODELDIR = \"../models/Fase5-NCRD-neg-unalign100\"\n",
    "tf.keras.backend.clear_session()\n",
    "CNN_unalign100 = one_value_metrics(ENCODER,TRAIN,TEST,MODELDIR,\"cnn\",\"NCRD-uniprot-unalign (100%)\")\n",
    "CNNS_unalign100 = one_value_metrics(ENCODER,TRAIN,TEST,MODELDIR,\"cnn-same\",\"NCRD-uniprot-unalign (100%)\")\n",
    "GRU_unalign100 = one_value_metrics(ENCODER,TRAIN,TEST,MODELDIR,\"gru\",\"NCRD-uniprot-unalign (100%)\")\n",
    "\n",
    "#clf report\n",
    "\n"
   ]
  },
  {
   "cell_type": "code",
   "execution_count": null,
   "metadata": {},
   "outputs": [],
   "source": [
    "clf_report = get_clf_report(ENCODER,MODELDIR,TEST,[\"cnn\",\"cnn-same\",\"gru\"],\"Unalig 100%\")\n",
    "clf_report = clf_report.reindex([\n",
    "    \"MLS (Unalig 100%)\",\n",
    "    \"aminoglycoside (Unalig 100%)\",\n",
    "    \"beta_lactam (Unalig 100%)\",\n",
    "    \"chloramphenicol (Unalig 100%)\",\n",
    "    \"glycopeptide (Unalig 100%)\",\n",
    "    \"macrolide (Unalig 100%)\",\n",
    "    \"multidrug (Unalig 100%)\",\n",
    "    \"phosphonic acid (Unalig 100%)\",\n",
    "    \"rifamcyn (Unalig 100%)\",\n",
    "    \"tetracycline (Unalig 100%)\",\n",
    "    \"NonR (Unalig 100%)\"\n",
    "    ])\n",
    "\n",
    "categories = clf_report.columns.to_list()\n",
    "fig = go.Figure()\n",
    "for i in clf_report.index:\n",
    "    fig.add_trace(go.Scatterpolar(\n",
    "    r = clf_report.loc[i,:].values,\n",
    "    theta = categories,\n",
    "    name = i))\n",
    "\n",
    "fig.update_layout(\n",
    "  polar=dict(\n",
    "    radialaxis=dict(\n",
    "      visible=True,\n",
    "      color = \"black\"\n",
    "    )),\n",
    "  showlegend=True\n",
    ")\n",
    "\n",
    "fig.show()\n",
    "fig.write_image(\"../figs/ncrd-report-Unalign100.svg\")"
   ]
  },
  {
   "cell_type": "code",
   "execution_count": null,
   "metadata": {},
   "outputs": [],
   "source": [
    "CNN_list = [CNN,  CNN_align, CNN_unalign, CNN_unalign50,  CNN_unalign100]\n",
    "CNNS_list = [CNNS, CNNS_align,CNNS_unalign,CNNS_unalign50, CNNS_unalign100]\n",
    "GRU_list = [GRU,  GRU_align, GRU_unalign, GRU_unalign50,  GRU_unalign100]"
   ]
  },
  {
   "cell_type": "code",
   "execution_count": null,
   "metadata": {},
   "outputs": [],
   "source": [
    "NRDC_Metrics_df = pd.concat([\n",
    "    pd.DataFrame(CNN_list, columns = [\"Model\",\"DB\",\"DB size\",\"Negative examples\",\"Train size\", \"Test size\",\"Acc\"]),\n",
    "    pd.DataFrame(CNNS_list, columns = [\"Model\",\"DB\",\"DB size\",\"Negative examples\",\"Train size\", \"Test size\",\"Acc\"]),\n",
    "    pd.DataFrame(GRU_list, columns = [\"Model\",\"DB\",\"DB size\",\"Negative examples\",\"Train size\", \"Test size\",\"Acc\"])\n",
    "], axis = 0)\n",
    "NRDC_Metrics_df.to_csv(\"NCRD-Metrics.csv\", index = False)"
   ]
  },
  {
   "cell_type": "code",
   "execution_count": null,
   "metadata": {},
   "outputs": [],
   "source": [
    "NRDC_Metrics_df"
   ]
  },
  {
   "cell_type": "code",
   "execution_count": null,
   "metadata": {},
   "outputs": [],
   "source": [
    "clf_concat = pd.concat(\n",
    "    [clf_positives, clf_align, clf_unalign, clf_unalign50, clf_unalign100],\n",
    "    axis = 0\n",
    ")"
   ]
  },
  {
   "cell_type": "code",
   "execution_count": null,
   "metadata": {},
   "outputs": [],
   "source": [
    "sn.clustermap(clf_concat.sort_index(), col_cluster = False, figsize = (6,13), cmap = \"coolwarm\")\n",
    "plt.savefig(\"../figs/clf-report-all.svg\")"
   ]
  },
  {
   "cell_type": "markdown",
   "metadata": {},
   "source": [
    "HMD"
   ]
  },
  {
   "cell_type": "markdown",
   "metadata": {},
   "source": [
    "positives"
   ]
  },
  {
   "cell_type": "code",
   "execution_count": null,
   "metadata": {},
   "outputs": [],
   "source": [
    "ENCODER =joblib.load(\"../data/HMD/hmd-ma_clf_enc.joblib\")\n",
    "TRAIN = \"../data/HMD/TrainHMD-ma.csv\"\n",
    "TEST = \"../data/HMD/TestHMD-ma.csv\"\n",
    "MODELDIR = \"../models/Fase4-HMD\"\n",
    "tf.keras.backend.clear_session()\n",
    "CNN =  one_value_metrics(ENCODER,TRAIN,TEST,MODELDIR,\"cnn\",\"HMD\")\n",
    "CNNS = one_value_metrics(ENCODER,TRAIN,TEST,MODELDIR,\"cnn-same\",\"HMD\")\n",
    "GRU =  one_value_metrics(ENCODER,TRAIN,TEST,MODELDIR,\"gru\",\"HMD\")\n",
    "\n",
    "tf.keras.backend.clear_session()\n",
    "#clf report\n",
    "clf_report = get_clf_report(ENCODER,MODELDIR,TEST,[\"cnn\",\"cnn-same\",\"gru\"],\"Only ARPs\")\n"
   ]
  },
  {
   "cell_type": "code",
   "execution_count": null,
   "metadata": {},
   "outputs": [],
   "source": [
    "categories = clf_report.columns.to_list()\n",
    "categories\n",
    "fig = go.Figure()\n",
    "for i in clf_report.index:\n",
    "    fig.add_trace(go.Scatterpolar(\n",
    "    r = clf_report.loc[i,:].values,\n",
    "    theta = categories,\n",
    "    name = i))\n",
    "\n",
    "fig.update_layout(\n",
    "  polar=dict(\n",
    "    radialaxis=dict(\n",
    "      visible=True,\n",
    "      color = \"black\"\n",
    "    )),\n",
    "  showlegend=False\n",
    ")\n",
    "\n",
    "fig.show()\n",
    "fig.write_image(\"../figs/report-onlyAPRs.svg\")"
   ]
  },
  {
   "cell_type": "code",
   "execution_count": null,
   "metadata": {},
   "outputs": [],
   "source": []
  },
  {
   "cell_type": "markdown",
   "metadata": {},
   "source": [
    "negatives align"
   ]
  },
  {
   "cell_type": "code",
   "execution_count": null,
   "metadata": {},
   "outputs": [],
   "source": [
    "ENCODER =joblib.load(\"../data/HMD/uniprot-hmd-ma_clf_enc.joblib\")\n",
    "TRAIN = \"../data/HMD/TrainHMD-ma-align.csv\"\n",
    "TEST = \"../data/HMD/TestHMD-ma-align.csv\"\n",
    "MODELDIR = \"../models/Fase4-HMD-align\"\n",
    "tf.keras.backend.clear_session()\n",
    "CNN_align = one_value_metrics(ENCODER,TRAIN,TEST,MODELDIR,\"cnn\",\"HMD-uniprot-align\")\n",
    "CNNS_align = one_value_metrics(ENCODER,TRAIN,TEST,MODELDIR,\"cnn-same\",\"HMD-uniprot-align\")\n",
    "GRU_align = one_value_metrics(ENCODER,TRAIN,TEST,MODELDIR,\"gru\",\"HMD-uniprot-align\")\n",
    "tf.keras.backend.clear_session()\n",
    "#clf report\n",
    "clf_report = get_clf_report(ENCODER,MODELDIR,TEST,[\"cnn\",\"cnn-same\",\"gru\"],\"Align.\")"
   ]
  },
  {
   "cell_type": "code",
   "execution_count": null,
   "metadata": {},
   "outputs": [],
   "source": [
    "clf_report = clf_report.reindex([\n",
    "    \"MLS (Align.)\",\n",
    "    \"aminoglycoside (Align.)\",\n",
    "    \"bacitracin (Align.)\",\n",
    "    \"beta_lactam (Align.)\",\n",
    "    \"multidrug (Align.)\",\n",
    "    \"polymyxin (Align.)\",\n",
    "    \"NonR (Align.)\"\n",
    "    ])\n"
   ]
  },
  {
   "cell_type": "code",
   "execution_count": null,
   "metadata": {},
   "outputs": [],
   "source": [
    "clf_report = clf_report.reindex([\n",
    "    \"MLS (Align.)\",\n",
    "    \"aminoglycoside (Align.)\",\n",
    "    \"bacitracin (Align.)\",\n",
    "    \"beta_lactam (Align.)\",\n",
    "    \"multidrug (Align.)\",\n",
    "    \"polymyxin (Align.)\",\n",
    "    \"NonR (Align.)\"\n",
    "    ])\n",
    "\n",
    "\n",
    "\n",
    "categories = clf_report.columns.to_list()\n",
    "categories\n",
    "fig = go.Figure()\n",
    "for i in clf_report.index:\n",
    "    fig.add_trace(go.Scatterpolar(\n",
    "    r = clf_report.loc[i,:].values,\n",
    "    theta = categories,\n",
    "    name = i))\n",
    "\n",
    "fig.update_layout(\n",
    "  polar=dict(\n",
    "    radialaxis=dict(\n",
    "      visible=True,\n",
    "      color = \"black\"\n",
    "    )),\n",
    "  showlegend=True\n",
    ")\n",
    "\n",
    "fig.show()\n",
    "fig.write_image(\"../figs/report-align.svg\")"
   ]
  },
  {
   "cell_type": "markdown",
   "metadata": {},
   "source": [
    "negatives unalign"
   ]
  },
  {
   "cell_type": "code",
   "execution_count": null,
   "metadata": {},
   "outputs": [],
   "source": [
    "ENCODER =joblib.load(\"../data/HMD/uniprot-hmd-ma_clf_enc.joblib\")\n",
    "TRAIN = \"../data/HMD/TrainHMD-ma-unalign.csv\"\n",
    "TEST = \"../data/HMD/TestHMD-ma-unalign.csv\"\n",
    "MODELDIR = \"../models/Fase4-HMD-unalign\"\n",
    "tf.keras.backend.clear_session()\n",
    "CNN_unalign = one_value_metrics(ENCODER,TRAIN,TEST,MODELDIR,\"cnn\",\"HMD-uniprot-unalign\")\n",
    "CNNS_unalign = one_value_metrics(ENCODER,TRAIN,TEST,MODELDIR,\"cnn-same\",\"HMD-uniprot-unalign\")\n",
    "GRU_unalign = one_value_metrics(ENCODER,TRAIN,TEST,MODELDIR,\"gru\",\"HMD-uniprot-unalign\")\n",
    "tf.keras.backend.clear_session()\n",
    "#clf report\n",
    "clf_report = get_clf_report(ENCODER,MODELDIR,TEST,[\"cnn\",\"cnn-same\",\"gru\"],\"Unalign.\")"
   ]
  },
  {
   "cell_type": "code",
   "execution_count": null,
   "metadata": {},
   "outputs": [],
   "source": [
    "clf_report"
   ]
  },
  {
   "cell_type": "code",
   "execution_count": null,
   "metadata": {},
   "outputs": [],
   "source": [
    "clf_report = clf_report.reindex([\n",
    "    \"MLS (Unalign.)\",\n",
    "    \"aminoglycoside (Unalign.)\",\n",
    "    \"bacitracin (Unalign.)\",\n",
    "    \"beta_lactam (Unalign.)\",\n",
    "    \"multidrug (Unalign.)\",\n",
    "    \"polymyxin (Unalign.)\",\n",
    "    \"NonR (Unalign.)\"\n",
    "    ])\n",
    "categories = clf_report.columns.to_list()\n",
    "categories\n",
    "fig = go.Figure()\n",
    "for i in clf_report.index:\n",
    "    fig.add_trace(go.Scatterpolar(\n",
    "    r = clf_report.loc[i,:].values,\n",
    "    theta = categories,\n",
    "    name = i))\n",
    "\n",
    "fig.update_layout(\n",
    "  polar=dict(\n",
    "    radialaxis=dict(\n",
    "      visible=True,\n",
    "      color = \"black\"\n",
    "    )),\n",
    "  showlegend=True\n",
    ")\n",
    "\n",
    "fig.show()\n",
    "fig.write_image(\"../../figs/report-unalign.svg\")"
   ]
  },
  {
   "cell_type": "markdown",
   "metadata": {},
   "source": [
    "negatives unalign 50"
   ]
  },
  {
   "cell_type": "code",
   "execution_count": null,
   "metadata": {},
   "outputs": [],
   "source": [
    "ENCODER =joblib.load(\"../data/HMD/uniprot-hmd-ma_clf_enc.joblib\")\n",
    "TRAIN = \"../data/HMD/TrainHMD-ma-unalign50.csv\"\n",
    "TEST = \"../data/HMD/TestHMD-ma-unalign50.csv\"\n",
    "MODELDIR = \"../models/Fase4-HMD-unalign50\"\n",
    "tf.keras.backend.clear_session()\n",
    "CNN_unalign50 = one_value_metrics(ENCODER,TRAIN,TEST,MODELDIR,\"cnn\",\"HMD-uniprot-unalign (50%)\")\n",
    "CNNS_unalign50 = one_value_metrics(ENCODER,TRAIN,TEST,MODELDIR,\"cnn-same\",\"HMD-uniprot-unalign (50%)\")\n",
    "GRU_unalign50 = one_value_metrics(ENCODER,TRAIN,TEST,MODELDIR,\"gru\",\"HMD-uniprot-unalign (50%)\")\n",
    "tf.keras.backend.clear_session()\n",
    "#clf report\n",
    "clf_report = get_clf_report(ENCODER,MODELDIR,TEST,[\"cnn\",\"cnn-same\",\"gru\"],\"Unalig 50%\")"
   ]
  },
  {
   "cell_type": "code",
   "execution_count": null,
   "metadata": {},
   "outputs": [],
   "source": [
    "clf_report = clf_report.reindex([\n",
    "    \"MLS (Unalig 50%)\",\n",
    "    \"aminoglycoside (Unalig 50%)\",\n",
    "    \"bacitracin (Unalig 50%)\",\n",
    "    \"beta_lactam (Unalig 50%)\",\n",
    "    \"multidrug (Unalig 50%)\",\n",
    "    \"polymyxin (Unalig 50%)\",\n",
    "    \"NonR (Unalig 50%)\"\n",
    "    ])\n",
    "categories = clf_report.columns.to_list()\n",
    "fig = go.Figure()\n",
    "for i in clf_report.index:\n",
    "    fig.add_trace(go.Scatterpolar(\n",
    "    r = clf_report.loc[i,:].values,\n",
    "    theta = categories,\n",
    "    name = i))\n",
    "fig.update_layout(\n",
    "  polar=dict(\n",
    "    radialaxis=dict(\n",
    "      visible=True,\n",
    "      color = \"black\"\n",
    "    )),\n",
    "  showlegend=True)\n",
    "fig.show()\n",
    "fig.write_image(\"../figs/report-unalign50.svg\")"
   ]
  },
  {
   "cell_type": "code",
   "execution_count": null,
   "metadata": {},
   "outputs": [],
   "source": [
    "clf_unalign50"
   ]
  },
  {
   "cell_type": "markdown",
   "metadata": {},
   "source": [
    "negatives unalign 100"
   ]
  },
  {
   "cell_type": "code",
   "execution_count": null,
   "metadata": {},
   "outputs": [],
   "source": [
    "ENCODER =joblib.load(\"../data/HMD/uniprot-hmd-ma_clf_enc.joblib\")\n",
    "TRAIN = \"../data/HMD/TrainHMD-ma-unalign100.csv\"\n",
    "TEST = \"../data/HMD/TestHMD-ma-unalign100.csv\"\n",
    "MODELDIR = \"../models/Fase4-HMD-unalign100\"\n",
    "tf.keras.backend.clear_session()\n",
    "CNN_unalign100 = one_value_metrics(ENCODER,TRAIN,TEST,MODELDIR,\"cnn\",\"HMD-uniprot-unalign (100%)\")\n",
    "CNNS_unalign100 = one_value_metrics(ENCODER,TRAIN,TEST,MODELDIR,\"cnn-same\",\"HMD-uniprot-unalign (100%)\")\n",
    "GRU_unalign100 = one_value_metrics(ENCODER,TRAIN,TEST,MODELDIR,\"gru\",\"HMD-uniprot-unalign (100%)\")\n",
    "\n",
    "#clf report\n",
    "clf_report = get_clf_report(ENCODER,MODELDIR,TEST,[\"cnn\",\"cnn-same\",\"gru\"],\"Unalign 100%\")"
   ]
  },
  {
   "cell_type": "code",
   "execution_count": null,
   "metadata": {},
   "outputs": [],
   "source": [
    "clf_report = clf_report.reindex([\n",
    "    \"MLS (Unalign 100%)\",\n",
    "    \"aminoglycoside (Unalign 100%)\",\n",
    "    \"bacitracin (Unalign 100%)\",\n",
    "    \"beta_lactam (Unalign 100%)\",\n",
    "    \"multidrug (Unalign 100%)\",\n",
    "    \"polymyxin (Unalign 100%)\",\n",
    "    \"NonR (Unalign 100%)\"\n",
    "    ])\n",
    "categories = clf_report.columns.to_list()\n",
    "fig = go.Figure()\n",
    "for i in clf_report.index:\n",
    "    fig.add_trace(go.Scatterpolar(\n",
    "    r = clf_report.loc[i,:].values,\n",
    "    theta = categories,\n",
    "    name = i))\n",
    "fig.update_layout(\n",
    "  polar=dict(\n",
    "    radialaxis=dict(\n",
    "      visible=True,\n",
    "      color = \"black\"\n",
    "    )),\n",
    "  showlegend=True)\n",
    "fig.show()\n",
    "fig.write_image(\"../figs/report-unalign100.svg\")"
   ]
  },
  {
   "cell_type": "code",
   "execution_count": null,
   "metadata": {},
   "outputs": [],
   "source": [
    "CNN_list = [CNN,  CNN_align, CNN_unalign, CNN_unalign50,  CNN_unalign100]\n",
    "CNNS_list = [CNNS, CNNS_align,CNNS_unalign,CNNS_unalign50, CNNS_unalign100]\n",
    "GRU_list = [GRU,  GRU_align, GRU_unalign, GRU_unalign50,  GRU_unalign100]"
   ]
  },
  {
   "cell_type": "code",
   "execution_count": null,
   "metadata": {},
   "outputs": [],
   "source": [
    "HMD_Metrics_df = pd.concat([\n",
    "    pd.DataFrame(CNN_list, columns = [\"Model\",\"DB\",\"DB size\",\"Negative examples\",\"Train size\", \"Test size\",\"Acc\"]),\n",
    "    pd.DataFrame(CNNS_list, columns = [\"Model\",\"DB\",\"DB size\",\"Negative examples\",\"Train size\", \"Test size\",\"Acc\"]),\n",
    "    pd.DataFrame(GRU_list, columns = [\"Model\",\"DB\",\"DB size\",\"Negative examples\",\"Train size\", \"Test size\",\"Acc\"])\n",
    "], axis = 0)\n",
    "# HMD_Metrics_df.to_csv(\"HMD-metrics.csv\",index = False)"
   ]
  },
  {
   "cell_type": "code",
   "execution_count": null,
   "metadata": {},
   "outputs": [],
   "source": [
    "clf_concat = pd.concat(\n",
    "    [clf_positives, clf_align, clf_unalign, clf_unalign50, clf_unalign100],\n",
    "    axis = 0\n",
    ")"
   ]
  },
  {
   "cell_type": "code",
   "execution_count": null,
   "metadata": {},
   "outputs": [],
   "source": [
    "sn.clustermap(clf_concat.sort_index(), col_cluster = False, figsize = (6,13), cmap = \"coolwarm\")\n",
    "plt.savefig(\"../fig/clf-report-all.svg\")"
   ]
  }
 ],
 "metadata": {
  "kernelspec": {
   "display_name": "deepsea",
   "language": "python",
   "name": "python3"
  },
  "language_info": {
   "codemirror_mode": {
    "name": "ipython",
    "version": 3
   },
   "file_extension": ".py",
   "mimetype": "text/x-python",
   "name": "python",
   "nbconvert_exporter": "python",
   "pygments_lexer": "ipython3",
   "version": "3.11.8"
  }
 },
 "nbformat": 4,
 "nbformat_minor": 2
}
