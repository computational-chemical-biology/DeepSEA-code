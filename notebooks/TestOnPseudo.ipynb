{
 "cells": [
  {
   "cell_type": "code",
   "execution_count": null,
   "metadata": {},
   "outputs": [],
   "source": [
    "import pandas as pd\n",
    "import numpy as np\n",
    "import tensorflow as tf\n",
    "import joblib\n",
    "import seaborn as sn\n"
   ]
  },
  {
   "cell_type": "code",
   "execution_count": null,
   "metadata": {},
   "outputs": [],
   "source": [
    "MODELDIR = \"../models\""
   ]
  },
  {
   "cell_type": "code",
   "execution_count": null,
   "metadata": {},
   "outputs": [],
   "source": [
    "ENCODER_N = joblib.load(\"../data/HMD/uniprot-hmd-ma_clf_enc.joblib\")\n",
    "ENCODER_N.categories_"
   ]
  },
  {
   "cell_type": "code",
   "execution_count": null,
   "metadata": {},
   "outputs": [],
   "source": [
    "ENCODER_P = joblib.load(\"../data/HMD/hmd-ma_clf_enc.joblib\")\n",
    "ENCODER_P.categories_"
   ]
  },
  {
   "cell_type": "code",
   "execution_count": null,
   "metadata": {},
   "outputs": [],
   "source": [
    "def model_eval_binary(model,data):\n",
    "    yhat = model.predict(data)\n",
    "    return np.array(yhat)\n",
    "\n",
    "\n",
    "def model_eval_n(model,data):\n",
    "    yhat = model.predict(data)\n",
    "    yhat_prob =[np.round(x[np.argmax(x)],3)  for x in yhat]\n",
    "    yhat_oh = tf.convert_to_tensor([tf.one_hot(np.argmax(x),depth = len(ENCODER_N.categories_[0])) for x in yhat],dtype=tf.float32)\n",
    "    classes = ENCODER_N.inverse_transform(yhat_oh).squeeze()\n",
    "    return np.array(classes), np.array(yhat_prob)\n",
    "\n",
    "\n",
    "def model_eval_p(model,data):\n",
    "    yhat = model.predict(data)\n",
    "    yhat_prob =[np.round(x[np.argmax(x)],3)  for x in yhat]\n",
    "    yhat_oh = tf.convert_to_tensor([tf.one_hot(np.argmax(x),len(ENCODER_P.categories_[0])) for x in yhat],dtype=tf.float32)\n",
    "    classes = ENCODER_P.inverse_transform(yhat_oh).squeeze()\n",
    "    return np.array(classes), np.array(yhat_prob)"
   ]
  },
  {
   "cell_type": "code",
   "execution_count": null,
   "metadata": {},
   "outputs": [],
   "source": [
    "pseudo_prot = pd.read_csv(\"../data/pseudo/pseudo-HMD-l50.csv\")\n",
    "pseudo_prot.head()"
   ]
  },
  {
   "cell_type": "code",
   "execution_count": null,
   "metadata": {},
   "outputs": [],
   "source": [
    "pseudo_prot[\"Sequence\"] = pseudo_prot.Sequence.apply(lambda x: \" \".join(x))\n",
    "X = tf.convert_to_tensor(pseudo_prot.Sequence.to_list())"
   ]
  },
  {
   "cell_type": "code",
   "execution_count": null,
   "metadata": {},
   "outputs": [],
   "source": [
    "tf.keras.backend.clear_session()\n",
    "cnn_ARPs = tf.keras.models.load_model(f\"{MODELDIR}/Fase4-HMD/cnn\")\n",
    "cnn_aligned = tf.keras.models.load_model(f\"{MODELDIR}/Fase4-HMD-align/cnn\")\n",
    "cnn_unaligned = tf.keras.models.load_model(f\"{MODELDIR}/Fase4-HMD-unalign/cnn\")\n",
    "cnn_unaligned50 = tf.keras.models.load_model(f\"{MODELDIR}/Fase4-HMD-unalign50/cnn\")\n",
    "cnn_unaligned100 = tf.keras.models.load_model(f\"{MODELDIR}/Fase4-HMD-unalign100/cnn\")"
   ]
  },
  {
   "cell_type": "code",
   "execution_count": null,
   "metadata": {},
   "outputs": [],
   "source": [
    "yhat = model_eval_p(cnn_ARPs,X)\n",
    "yhat_align = model_eval_n(cnn_aligned, X)\n",
    "yhat_unalign = model_eval_n(cnn_unaligned, X)\n",
    "yhat_unalign50 = model_eval_n(cnn_unaligned50,X)\n",
    "yhat_unalign100 = model_eval_n(cnn_unaligned100,X)"
   ]
  },
  {
   "cell_type": "code",
   "execution_count": null,
   "metadata": {},
   "outputs": [],
   "source": [
    "pseudo_prot[\"CNN-Only-ARPs-class\"] = yhat[0]\n",
    "pseudo_prot[\"CNN-Only-ARPs-prob\"] = yhat[1]\n",
    "pseudo_prot[\"CNN-Only-ARPs-class\"] = pseudo_prot[\"CNN-Only-ARPs-class\"].where(pseudo_prot[\"CNN-Only-ARPs-prob\"] > 0.5, \"NonR\").to_list()\n",
    "\n",
    "pseudo_prot[\"CNN-Aligned-class\"] = yhat_align[0]\n",
    "pseudo_prot[\"CNN-Aligned-prob\"] = yhat_align[1]\n",
    "\n",
    "pseudo_prot[\"CNN-Unaligned-class\"] = yhat_unalign[0]\n",
    "pseudo_prot[\"CNN-Unaligned-prob\"] = yhat_unalign[1]\n",
    "\n",
    "pseudo_prot[\"CNN-Unaligned50-class\"] = yhat_unalign50[0]\n",
    "pseudo_prot[\"CNN-Unaligned50-prob\"] = yhat_unalign50[1]\n",
    "\n",
    "pseudo_prot[\"CNN-Unaligned100-class\"] = yhat_unalign100[0]\n",
    "pseudo_prot[\"CNN-Unaligned100-prob\"] = yhat_unalign100[1]"
   ]
  },
  {
   "cell_type": "markdown",
   "metadata": {},
   "source": [
    "---"
   ]
  },
  {
   "cell_type": "code",
   "execution_count": null,
   "metadata": {},
   "outputs": [],
   "source": [
    "tf.keras.backend.clear_session()\n",
    "cnns_ARPs = tf.keras.models.load_model(f\"{MODELDIR}/Fase4-HMD/cnn-same\")\n",
    "cnns_aligned = tf.keras.models.load_model(f\"{MODELDIR}/Fase4-HMD-align/cnn-same\")\n",
    "cnns_unaligned = tf.keras.models.load_model(f\"{MODELDIR}/Fase4-HMD-unalign/cnn-same\")\n",
    "cnns_unaligned50 = tf.keras.models.load_model(f\"{MODELDIR}/Fase4-HMD-unalign50/cnn-same\")\n",
    "cnns_unaligned100 = tf.keras.models.load_model(f\"{MODELDIR}/Fase4-HMD-unalign100/cnn-same\")"
   ]
  },
  {
   "cell_type": "code",
   "execution_count": null,
   "metadata": {},
   "outputs": [],
   "source": [
    "yhat = model_eval_p(cnns_ARPs,X)\n",
    "yhat_align = model_eval_n(cnns_aligned, X)\n",
    "yhat_unalign = model_eval_n(cnns_unaligned, X)\n",
    "yhat_unalign50 = model_eval_n(cnns_unaligned50,X)\n",
    "yhat_unalign100 = model_eval_n(cnns_unaligned100,X)"
   ]
  },
  {
   "cell_type": "code",
   "execution_count": null,
   "metadata": {},
   "outputs": [],
   "source": [
    "pseudo_prot[\"CNNS-Only-ARPs-class\"] = yhat[0]\n",
    "pseudo_prot[\"CNNS-Only-ARPs-prob\"] = yhat[1]\n",
    "pseudo_prot[\"CNNS-Only-ARPs-class\"] = pseudo_prot[\"CNNS-Only-ARPs-class\"].where(pseudo_prot[\"CNNS-Only-ARPs-prob\"] > 0.5, \"NonR\").to_list()\n",
    "\n",
    "pseudo_prot[\"CNNS-Aligned-class\"] = yhat_align[0]\n",
    "pseudo_prot[\"CNNS-Aligned-prob\"] = yhat_align[1]\n",
    "\n",
    "pseudo_prot[\"CNNS-Unaligned-class\"] = yhat_unalign[0]\n",
    "pseudo_prot[\"CNNS-Unaligned-prob\"] = yhat_unalign[1]\n",
    "\n",
    "pseudo_prot[\"CNNS-Unaligned50-class\"] = yhat_unalign50[0]\n",
    "pseudo_prot[\"CNNS-Unaligned50-prob\"] = yhat_unalign50[1]\n",
    "\n",
    "pseudo_prot[\"CNNS-Unaligned100-class\"] = yhat_unalign100[0]\n",
    "pseudo_prot[\"CNNS-Unaligned100-prob\"] = yhat_unalign100[1]"
   ]
  },
  {
   "cell_type": "markdown",
   "metadata": {},
   "source": [
    "---"
   ]
  },
  {
   "cell_type": "code",
   "execution_count": null,
   "metadata": {},
   "outputs": [],
   "source": [
    "tf.keras.backend.clear_session()\n",
    "gru_ARPs = tf.keras.models.load_model(f\"{MODELDIR}/Fase4-HMD/gru\")\n",
    "gru_aligned = tf.keras.models.load_model(f\"{MODELDIR}/Fase4-HMD-align/gru\")\n",
    "gru_unaligned = tf.keras.models.load_model(f\"{MODELDIR}/Fase4-HMD-unalign/gru\")\n",
    "gru_unaligned50 = tf.keras.models.load_model(f\"{MODELDIR}/Fase4-HMD-unalign50/gru\")\n",
    "gru_unaligned100 = tf.keras.models.load_model(f\"{MODELDIR}/Fase4-HMD-unalign100/gru\")"
   ]
  },
  {
   "cell_type": "code",
   "execution_count": null,
   "metadata": {},
   "outputs": [],
   "source": [
    "yhat = model_eval_p(gru_ARPs,X)\n",
    "yhat_align = model_eval_n(gru_aligned, X)\n",
    "yhat_unalign = model_eval_n(gru_unaligned, X)\n",
    "yhat_unalign50 = model_eval_n(gru_unaligned50,X)\n",
    "yhat_unalign100 = model_eval_n(gru_unaligned100,X)"
   ]
  },
  {
   "cell_type": "code",
   "execution_count": null,
   "metadata": {},
   "outputs": [],
   "source": [
    "pseudo_prot[\"GRU-Only-ARPs-class\"] = yhat[0]\n",
    "pseudo_prot[\"GRU-Only-ARPs-prob\"] = yhat[1]\n",
    "pseudo_prot[\"GRU-Only-ARPs-class\"] = pseudo_prot[\"GRU-Only-ARPs-class\"].where(pseudo_prot[\"GRU-Only-ARPs-prob\"] > 0.5, \"NonR\").to_list()\n",
    "\n",
    "\n",
    "pseudo_prot[\"GRU-Aligned-class\"] = yhat_align[0]\n",
    "pseudo_prot[\"GRU-Aligned-prob\"] = yhat_align[1]\n",
    "\n",
    "pseudo_prot[\"GRU-Unaligned-class\"] = yhat_unalign[0]\n",
    "pseudo_prot[\"GRU-Unaligned-prob\"] = yhat_unalign[1]\n",
    "\n",
    "pseudo_prot[\"GRU-Unaligned50-class\"] = yhat_unalign50[0]\n",
    "pseudo_prot[\"GRU-Unaligned50-prob\"] = yhat_unalign50[1]\n",
    "\n",
    "pseudo_prot[\"GRU-Unaligned100-class\"] = yhat_unalign100[0]\n",
    "pseudo_prot[\"GRU-Unaligned100-prob\"] = yhat_unalign100[1]"
   ]
  },
  {
   "cell_type": "code",
   "execution_count": null,
   "metadata": {},
   "outputs": [],
   "source": [
    "pseudo_prot_long = pseudo_prot.iloc[:,pseudo_prot.columns.str.contains(\"class\")].melt(value_name = \"index\", var_name = \"columns\")\n",
    "pseudo_prot_long = pd.crosstab(index = pseudo_prot_long[\"index\"], columns=pseudo_prot_long[\"columns\"])\n",
    "pseudo_prot_long.columns.name = None\n",
    "pseudo_prot_long.index.name = None\n",
    "pseudo_prot_long.rename(index = {\"macrolide-lincosamide-streptogramin\":\"MLS\"}, inplace=True)\n",
    "pseudo_prot_long = pseudo_prot_long.T.sort_index().T\n",
    "pseudo_prot_long.columns = pseudo_prot_long.columns.str.rstrip(\"-class\")"
   ]
  },
  {
   "cell_type": "code",
   "execution_count": null,
   "metadata": {},
   "outputs": [],
   "source": [
    "pseudo_prot_long"
   ]
  },
  {
   "cell_type": "code",
   "execution_count": null,
   "metadata": {},
   "outputs": [],
   "source": [
    "sn.set_context(\"talk\")\n",
    "sn.clustermap(pseudo_prot_long.T, col_cluster=False, cmap = \"coolwarm\")\n",
    "plt.savefig(\"../figs/hmd-pseudo-clustermap.svg\", format = \"SVG\")"
   ]
  },
  {
   "cell_type": "markdown",
   "metadata": {},
   "source": [
    "---"
   ]
  }
 ],
 "metadata": {
  "kernelspec": {
   "display_name": "deepsea",
   "language": "python",
   "name": "python3"
  },
  "language_info": {
   "codemirror_mode": {
    "name": "ipython",
    "version": 3
   },
   "file_extension": ".py",
   "mimetype": "text/x-python",
   "name": "python",
   "nbconvert_exporter": "python",
   "pygments_lexer": "ipython3",
   "version": "3.11.8"
  }
 },
 "nbformat": 4,
 "nbformat_minor": 2
}
